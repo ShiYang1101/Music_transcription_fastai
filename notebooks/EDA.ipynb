{
 "cells": [
  {
   "cell_type": "code",
   "execution_count": 22,
   "metadata": {},
   "outputs": [],
   "source": [
    "import matplotlib.pyplot as plt\n",
    "import numpy as np\n",
    "import pandas as pd\n",
    "import seaborn as sns\n",
    "import matplotlib\n",
    "\n",
    "from spectrogram_class import spectrogram\n"
   ]
  },
  {
   "cell_type": "markdown",
   "metadata": {},
   "source": [
    "# Music transcription\n",
    "\n",
    "This is the notebook for music transcription project for EDA (exploratory data analysis). Throughout the project, we have utilized 2 datasets:\n",
    "\n",
    "* [OrchideaSOL](https://arxiv.org/abs/2007.00763)\n",
    "* [MusicNet](https://zenodo.org/record/5120004#.YuqNuNLMKdw).\n",
    "\n",
    "---\n",
    "\n",
    "The description of OrchideaSOL is as follows:\n",
    "\n",
    "> The OrchideaSOL dataset contains the raw audio data (in wav format) for orchetral musical instrument. The dataset contains 11GB of audio files with different variation of techniques, dynamics and etc. Each audio files contain single instrument, single note of sounds. The length of the audio files range from 5 seconds to 20+ seconds, and each audio files is clearly labeled with the instrument and notes, which is our desired labels in the supervised learning models.\n",
    "\n",
    "---\n",
    "\n",
    "The description of the MusicNet dataset is as follows:\n",
    "\n",
    "> MusicNet is a dataset containing over 300 audio files of classical music. The dataset contains 23GB of classical music played by 11 different instruments. This is a more complicated dataset, ranging from 3 minutes to 20+ minutes. Each note is labeled by the starting and ending time by the position in sample rate, including the instrument played. I was estimated that the error of the labeling is around 4%."
   ]
  },
  {
   "cell_type": "markdown",
   "metadata": {},
   "source": [
    "## Meta data (OrchideaSOL)"
   ]
  },
  {
   "cell_type": "markdown",
   "metadata": {},
   "source": [
    "The main dataset, other than the raw audio files, we are going to explore is the metadata dataframe. Let's first explore the Orchetral dataset."
   ]
  },
  {
   "cell_type": "code",
   "execution_count": 2,
   "metadata": {},
   "outputs": [
    {
     "data": {
      "text/html": [
       "<div>\n",
       "<style scoped>\n",
       "    .dataframe tbody tr th:only-of-type {\n",
       "        vertical-align: middle;\n",
       "    }\n",
       "\n",
       "    .dataframe tbody tr th {\n",
       "        vertical-align: top;\n",
       "    }\n",
       "\n",
       "    .dataframe thead th {\n",
       "        text-align: right;\n",
       "    }\n",
       "</style>\n",
       "<table border=\"1\" class=\"dataframe\">\n",
       "  <thead>\n",
       "    <tr style=\"text-align: right;\">\n",
       "      <th></th>\n",
       "      <th>Path</th>\n",
       "      <th>Family (abbr.)</th>\n",
       "      <th>Family (in full)</th>\n",
       "      <th>Instrument (abbr.)</th>\n",
       "      <th>Instrument (in full)</th>\n",
       "      <th>Technique (abbr.)</th>\n",
       "      <th>Technique (in full)</th>\n",
       "      <th>Pitch</th>\n",
       "      <th>Pitch ID (if applicable)</th>\n",
       "      <th>Dynamics</th>\n",
       "      <th>Dynamics ID (if applicable)</th>\n",
       "      <th>Instance ID</th>\n",
       "      <th>Mute (abbr.)</th>\n",
       "      <th>Mute (in full)</th>\n",
       "      <th>String ID (if applicable)</th>\n",
       "      <th>Needed digital retuning</th>\n",
       "      <th>Fold</th>\n",
       "    </tr>\n",
       "  </thead>\n",
       "  <tbody>\n",
       "    <tr>\n",
       "      <th>0</th>\n",
       "      <td>Brass/Bass_Tuba+sordina/ordinario/BTb+S-ord-A#...</td>\n",
       "      <td>Brass</td>\n",
       "      <td>Brass</td>\n",
       "      <td>BTb</td>\n",
       "      <td>Bass Tuba</td>\n",
       "      <td>ord</td>\n",
       "      <td>ordinario</td>\n",
       "      <td>A#0</td>\n",
       "      <td>22.0</td>\n",
       "      <td>f</td>\n",
       "      <td>3.0</td>\n",
       "      <td>0.0</td>\n",
       "      <td>S</td>\n",
       "      <td>Sordina</td>\n",
       "      <td>NaN</td>\n",
       "      <td>False</td>\n",
       "      <td>2</td>\n",
       "    </tr>\n",
       "    <tr>\n",
       "      <th>1</th>\n",
       "      <td>Brass/Bass_Tuba+sordina/ordinario/BTb+S-ord-A#...</td>\n",
       "      <td>Brass</td>\n",
       "      <td>Brass</td>\n",
       "      <td>BTb</td>\n",
       "      <td>Bass Tuba</td>\n",
       "      <td>ord</td>\n",
       "      <td>ordinario</td>\n",
       "      <td>A#0</td>\n",
       "      <td>22.0</td>\n",
       "      <td>p</td>\n",
       "      <td>1.0</td>\n",
       "      <td>0.0</td>\n",
       "      <td>S</td>\n",
       "      <td>Sordina</td>\n",
       "      <td>NaN</td>\n",
       "      <td>True</td>\n",
       "      <td>0</td>\n",
       "    </tr>\n",
       "  </tbody>\n",
       "</table>\n",
       "</div>"
      ],
      "text/plain": [
       "                                                Path Family (abbr.)  \\\n",
       "0  Brass/Bass_Tuba+sordina/ordinario/BTb+S-ord-A#...          Brass   \n",
       "1  Brass/Bass_Tuba+sordina/ordinario/BTb+S-ord-A#...          Brass   \n",
       "\n",
       "  Family (in full) Instrument (abbr.) Instrument (in full) Technique (abbr.)  \\\n",
       "0            Brass                BTb            Bass Tuba               ord   \n",
       "1            Brass                BTb            Bass Tuba               ord   \n",
       "\n",
       "  Technique (in full) Pitch  Pitch ID (if applicable) Dynamics  \\\n",
       "0           ordinario   A#0                      22.0        f   \n",
       "1           ordinario   A#0                      22.0        p   \n",
       "\n",
       "   Dynamics ID (if applicable)  Instance ID Mute (abbr.) Mute (in full)  \\\n",
       "0                          3.0          0.0            S        Sordina   \n",
       "1                          1.0          0.0            S        Sordina   \n",
       "\n",
       "   String ID (if applicable)  Needed digital retuning  Fold  \n",
       "0                        NaN                    False     2  \n",
       "1                        NaN                     True     0  "
      ]
     },
     "execution_count": 2,
     "metadata": {},
     "output_type": "execute_result"
    }
   ],
   "source": [
    "meta_df = pd.read_csv('../data/OrchideaSOL_metadata.csv')\n",
    "meta_df.head(2)"
   ]
  },
  {
   "cell_type": "code",
   "execution_count": 3,
   "metadata": {},
   "outputs": [
    {
     "name": "stdout",
     "output_type": "stream",
     "text": [
      "<class 'pandas.core.frame.DataFrame'>\n",
      "RangeIndex: 13265 entries, 0 to 13264\n",
      "Data columns (total 17 columns):\n",
      " #   Column                       Non-Null Count  Dtype  \n",
      "---  ------                       --------------  -----  \n",
      " 0   Path                         13265 non-null  object \n",
      " 1   Family (abbr.)               13265 non-null  object \n",
      " 2   Family (in full)             13265 non-null  object \n",
      " 3   Instrument (abbr.)           13265 non-null  object \n",
      " 4   Instrument (in full)         13265 non-null  object \n",
      " 5   Technique (abbr.)            13265 non-null  object \n",
      " 6   Technique (in full)          13265 non-null  object \n",
      " 7   Pitch                        13265 non-null  object \n",
      " 8   Pitch ID (if applicable)     13162 non-null  float64\n",
      " 9   Dynamics                     13265 non-null  object \n",
      " 10  Dynamics ID (if applicable)  12646 non-null  float64\n",
      " 11  Instance ID                  13262 non-null  float64\n",
      " 12  Mute (abbr.)                 13265 non-null  object \n",
      " 13  Mute (in full)               13265 non-null  object \n",
      " 14  String ID (if applicable)    7516 non-null   float64\n",
      " 15  Needed digital retuning      13265 non-null  bool   \n",
      " 16  Fold                         13265 non-null  int64  \n",
      "dtypes: bool(1), float64(4), int64(1), object(11)\n",
      "memory usage: 1.6+ MB\n"
     ]
    }
   ],
   "source": [
    "meta_df.info()"
   ]
  },
  {
   "cell_type": "code",
   "execution_count": 4,
   "metadata": {},
   "outputs": [
    {
     "data": {
      "text/plain": [
       "Needed digital retuning            2\n",
       "Fold                               5\n",
       "Family (abbr.)                     5\n",
       "Family (in full)                   5\n",
       "Dynamics ID (if applicable)        5\n",
       "String ID (if applicable)          6\n",
       "Dynamics                           7\n",
       "Mute (abbr.)                       7\n",
       "Mute (in full)                     7\n",
       "Instance ID                       13\n",
       "Instrument (abbr.)                16\n",
       "Instrument (in full)              16\n",
       "Technique (in full)               52\n",
       "Technique (abbr.)                 56\n",
       "Pitch ID (if applicable)          90\n",
       "Pitch                            105\n",
       "Path                           13265\n",
       "dtype: int64"
      ]
     },
     "execution_count": 4,
     "metadata": {},
     "output_type": "execute_result"
    }
   ],
   "source": [
    "meta_df.nunique().sort_values()"
   ]
  },
  {
   "cell_type": "markdown",
   "metadata": {},
   "source": [
    "The Series above represents the number of unique values across all features. From the object types, unique values and intuition, we can conclude that all bu the path to the audio files are categorical features."
   ]
  },
  {
   "cell_type": "code",
   "execution_count": 5,
   "metadata": {},
   "outputs": [
    {
     "data": {
      "text/plain": [
       "Path                              0\n",
       "Family (abbr.)                    0\n",
       "Family (in full)                  0\n",
       "Instrument (abbr.)                0\n",
       "Instrument (in full)              0\n",
       "Technique (abbr.)                 0\n",
       "Technique (in full)               0\n",
       "Pitch                             0\n",
       "Pitch ID (if applicable)        103\n",
       "Dynamics                          0\n",
       "Dynamics ID (if applicable)     619\n",
       "Instance ID                       3\n",
       "Mute (abbr.)                      0\n",
       "Mute (in full)                    0\n",
       "String ID (if applicable)      5749\n",
       "Needed digital retuning           0\n",
       "Fold                              0\n",
       "dtype: int64"
      ]
     },
     "execution_count": 5,
     "metadata": {},
     "output_type": "execute_result"
    }
   ],
   "source": [
    "# Check for null values\n",
    "meta_df.isna().sum()"
   ]
  },
  {
   "cell_type": "markdown",
   "metadata": {},
   "source": [
    "The only columns we are interested in are the Path, Instrument and Pitch. We can see that out of all three, only Pitch ID contains numm values. Now let's take a look at what the null values are, represented in pitch."
   ]
  },
  {
   "cell_type": "code",
   "execution_count": 6,
   "metadata": {},
   "outputs": [
    {
     "data": {
      "text/plain": [
       "array(['A#0', 'A#1', 'A#2', 'A#3', 'A#4', 'A0', 'A1', 'A2', 'A3', 'A4',\n",
       "       'B0', 'B1', 'B2', 'B3', 'C#1', 'C#2', 'C#3', 'C#4', 'C1', 'C2',\n",
       "       'C3', 'C4', 'D#1', 'D#2', 'D#3', 'D#4', 'D1', 'D2', 'D3', 'D4',\n",
       "       'E1', 'E2', 'E3', 'E4', 'F#1', 'F#2', 'F#3', 'F#4', 'F1', 'F2',\n",
       "       'F3', 'F4', 'G#0', 'G#1', 'G#2', 'G#3', 'G#4', 'G1', 'G2', 'G3',\n",
       "       'G4', 'N', 'C#1_D#1', 'C1_C#1', 'C1_G1', 'D1_D#1', 'D1_F1', 'B4',\n",
       "       'C#5', 'C5', 'D#5', 'D5', 'E5', 'F5', 'A#5', 'A5', 'B5', 'F#5',\n",
       "       'G#5', 'G5', 'C#6', 'C6', 'D#6', 'D6', 'E6', 'F#6', 'F6', 'G6',\n",
       "       'A#6', 'A#7', 'A6', 'A7', 'B6', 'B7', 'C#7', 'C#8', 'C7', 'C8',\n",
       "       'D#7', 'D7', 'E7', 'F#7', 'F7', 'G#6', 'G#7', 'G7', 'C#3_B5',\n",
       "       'C#3_C#4', 'C#3_C#5', 'C#3_C#6', 'C#3_D#6', 'C#3_F5', 'C#3_F6',\n",
       "       'C#3_G#4', 'C#3_G#5'], dtype=object)"
      ]
     },
     "execution_count": 6,
     "metadata": {},
     "output_type": "execute_result"
    }
   ],
   "source": [
    "meta_df['Pitch'].unique()"
   ]
  },
  {
   "cell_type": "code",
   "execution_count": 7,
   "metadata": {},
   "outputs": [
    {
     "data": {
      "text/plain": [
       "array(['N', 'C#1_D#1', 'C1_C#1', 'C1_G1', 'D1_D#1', 'D1_F1', 'C#3_B5',\n",
       "       'C#3_C#4', 'C#3_C#5', 'C#3_C#6', 'C#3_D#6', 'C#3_F5', 'C#3_F6',\n",
       "       'C#3_G#4', 'C#3_G#5'], dtype=object)"
      ]
     },
     "execution_count": 7,
     "metadata": {},
     "output_type": "execute_result"
    }
   ],
   "source": [
    "# Getting the unique values of Pitch where the Pitch ID are missing.\n",
    "meta_df[['Pitch', 'Pitch ID (if applicable)']] \\\n",
    "            [meta_df['Pitch ID (if applicable)'].isnull()]['Pitch'].unique()"
   ]
  },
  {
   "cell_type": "markdown",
   "metadata": {},
   "source": [
    "If you are not familiar with music, let me give you some insight (I am either grade 5 or 6 on piano ABRSM, can't remember which since I lost my certificate): \n",
    "\n",
    ">> None of the terms make sense to me!\n",
    "\n",
    "There is no note N in music, nor can you be C1 and C# at the same time! The documentation on OrchideaSOL doesn't include any useful information on the subject either. The only logical way to deal with the null values is to simple drop them.\n",
    "\n",
    "To justify the decision, let's look at the precentage of the missing values."
   ]
  },
  {
   "cell_type": "code",
   "execution_count": 8,
   "metadata": {},
   "outputs": [
    {
     "data": {
      "text/plain": [
       "0.007764794572182435"
      ]
     },
     "execution_count": 8,
     "metadata": {},
     "output_type": "execute_result"
    }
   ],
   "source": [
    "# Getting the fractiong of missing values in the Pitch ID feature.\n",
    "meta_df['Pitch ID (if applicable)'].isnull().sum()/meta_df.shape[0]"
   ]
  },
  {
   "cell_type": "markdown",
   "metadata": {},
   "source": [
    "It's not even 1% of our data, we don't lose much training information from losing these unexplanable samples notes."
   ]
  },
  {
   "cell_type": "markdown",
   "metadata": {},
   "source": [
    "## OrchideaSOL instrument analysis"
   ]
  },
  {
   "cell_type": "markdown",
   "metadata": {},
   "source": [
    "Now that we have an understading of the note missing values, let's have a look at the instruments distribution."
   ]
  },
  {
   "cell_type": "code",
   "execution_count": 9,
   "metadata": {},
   "outputs": [
    {
     "data": {
      "text/plain": [
       "Violin            0.149793\n",
       "Viola             0.147154\n",
       "Contrabass        0.123332\n",
       "Cello             0.120090\n",
       "Accordion         0.065737\n",
       "Trombone          0.050509\n",
       "Trumpet in C      0.044478\n",
       "French Horn       0.044403\n",
       "Flute             0.039879\n",
       "Harp              0.038221\n",
       "Bass Tuba         0.037693\n",
       "Clarinet in Bb    0.030607\n",
       "Alto Saxophone    0.028421\n",
       "Bassoon           0.026988\n",
       "Guitar            0.026611\n",
       "Oboe              0.026084\n",
       "Name: Instrument (in full), dtype: float64"
      ]
     },
     "execution_count": 9,
     "metadata": {},
     "output_type": "execute_result"
    }
   ],
   "source": [
    "orchidea_instrument = meta_df['Instrument (in full)'].value_counts(normalize=True)\n",
    "orchidea_instrument"
   ]
  },
  {
   "cell_type": "code",
   "execution_count": 10,
   "metadata": {},
   "outputs": [
    {
     "data": {
      "image/png": "[encoded data removed]",
      "text/plain": [
       "<Figure size 1296x576 with 1 Axes>"
      ]
     },
     "metadata": {
      "needs_background": "light"
     },
     "output_type": "display_data"
    }
   ],
   "source": [
    "plt.figure(figsize = (18, 8))\n",
    "plt.bar(orchidea_instrument.index, orchidea_instrument.values)\n",
    "plt.title('Instrument distrubution of OrchideaSOL')\n",
    "plt.xlabel('Instruments')\n",
    "plt.ylabel('Fractions')\n",
    "plt.show()"
   ]
  },
  {
   "cell_type": "markdown",
   "metadata": {},
   "source": [
    "We can see that violin, viola, contrabass and cello has more entries comparing to the rest of the instruments."
   ]
  },
  {
   "cell_type": "markdown",
   "metadata": {},
   "source": [
    "Since we have some unbalanced data, we can either comtemplate the bias through adjusting the loss function (increasing the penalty for misclassifying minor classes), or creating more data for the minorities through audio file augmentation, more on that in the other notebooks!"
   ]
  },
  {
   "cell_type": "markdown",
   "metadata": {},
   "source": [
    "## OrchideaSOL instrument/notes analysis"
   ]
  },
  {
   "cell_type": "markdown",
   "metadata": {},
   "source": [
    "Now that we have a sense of how the instruments distribution looks like, it is also useful to look at the distribution of the instruments corresponding to the notes."
   ]
  },
  {
   "cell_type": "code",
   "execution_count": 11,
   "metadata": {},
   "outputs": [
    {
     "data": {
      "text/plain": [
       "<AxesSubplot:xlabel='Pitch ID (if applicable)', ylabel='Instrument (in full)'>"
      ]
     },
     "execution_count": 11,
     "metadata": {},
     "output_type": "execute_result"
    },
    {
     "data": {
      "image/png": "[encoded data removed]",
      "text/plain": [
       "<Figure size 864x720 with 2 Axes>"
      ]
     },
     "metadata": {
      "needs_background": "light"
     },
     "output_type": "display_data"
    }
   ],
   "source": [
    "# Creating crosstab for instrument and Pitch ID, \n",
    "# which represents the value counts for all instrument/Pitch ID combinations\n",
    "\n",
    "plt.figure(figsize = (12, 10))\n",
    "sns.heatmap(pd.crosstab(meta_df['Instrument (in full)'], \n",
    "                                meta_df['Pitch ID (if applicable)']))"
   ]
  },
  {
   "cell_type": "markdown",
   "metadata": {},
   "source": [
    "We can see that the majority of notes for viola and violin distributed in the middle of the note range. Wheareas Cello and Contrabass has distribution shift towards the lower ends of the range. "
   ]
  },
  {
   "cell_type": "markdown",
   "metadata": {},
   "source": [
    "It is also useful to note that:\n",
    "* Accoridian, guitar and harp has lower number of note counts,\n",
    "* However, their notes are more evenly distributed across the note range."
   ]
  },
  {
   "cell_type": "markdown",
   "metadata": {},
   "source": [
    "# MusicNet"
   ]
  },
  {
   "cell_type": "markdown",
   "metadata": {},
   "source": [
    "Now let's look at the dataset of classical MusicNet"
   ]
  },
  {
   "cell_type": "code",
   "execution_count": 12,
   "metadata": {},
   "outputs": [
    {
     "data": {
      "text/html": [
       "<div>\n",
       "<style scoped>\n",
       "    .dataframe tbody tr th:only-of-type {\n",
       "        vertical-align: middle;\n",
       "    }\n",
       "\n",
       "    .dataframe tbody tr th {\n",
       "        vertical-align: top;\n",
       "    }\n",
       "\n",
       "    .dataframe thead th {\n",
       "        text-align: right;\n",
       "    }\n",
       "</style>\n",
       "<table border=\"1\" class=\"dataframe\">\n",
       "  <thead>\n",
       "    <tr style=\"text-align: right;\">\n",
       "      <th></th>\n",
       "      <th>id</th>\n",
       "      <th>composer</th>\n",
       "      <th>composition</th>\n",
       "      <th>movement</th>\n",
       "      <th>ensemble</th>\n",
       "      <th>source</th>\n",
       "      <th>transcriber</th>\n",
       "      <th>catalog_name</th>\n",
       "      <th>seconds</th>\n",
       "    </tr>\n",
       "  </thead>\n",
       "  <tbody>\n",
       "    <tr>\n",
       "      <th>0</th>\n",
       "      <td>1727</td>\n",
       "      <td>Schubert</td>\n",
       "      <td>Piano Quintet in A major</td>\n",
       "      <td>2. Andante</td>\n",
       "      <td>Piano Quintet</td>\n",
       "      <td>European Archive</td>\n",
       "      <td>http://tirolmusic.blogspot.com/</td>\n",
       "      <td>OP114</td>\n",
       "      <td>447</td>\n",
       "    </tr>\n",
       "    <tr>\n",
       "      <th>1</th>\n",
       "      <td>1728</td>\n",
       "      <td>Schubert</td>\n",
       "      <td>Piano Quintet in A major</td>\n",
       "      <td>3. Scherzo: Presto</td>\n",
       "      <td>Piano Quintet</td>\n",
       "      <td>European Archive</td>\n",
       "      <td>http://tirolmusic.blogspot.com/</td>\n",
       "      <td>OP114</td>\n",
       "      <td>251</td>\n",
       "    </tr>\n",
       "  </tbody>\n",
       "</table>\n",
       "</div>"
      ],
      "text/plain": [
       "     id  composer               composition            movement  \\\n",
       "0  1727  Schubert  Piano Quintet in A major          2. Andante   \n",
       "1  1728  Schubert  Piano Quintet in A major  3. Scherzo: Presto   \n",
       "\n",
       "        ensemble            source                      transcriber  \\\n",
       "0  Piano Quintet  European Archive  http://tirolmusic.blogspot.com/   \n",
       "1  Piano Quintet  European Archive  http://tirolmusic.blogspot.com/   \n",
       "\n",
       "  catalog_name  seconds  \n",
       "0        OP114      447  \n",
       "1        OP114      251  "
      ]
     },
     "execution_count": 12,
     "metadata": {},
     "output_type": "execute_result"
    }
   ],
   "source": [
    "classic_df = pd.read_csv('../data/classic/musicnet_metadata.csv')\n",
    "classic_df.head(2)"
   ]
  },
  {
   "cell_type": "code",
   "execution_count": 13,
   "metadata": {},
   "outputs": [
    {
     "data": {
      "text/plain": [
       "Beethoven    157\n",
       "Bach          67\n",
       "Schubert      30\n",
       "Mozart        24\n",
       "Brahms        24\n",
       "Cambini        9\n",
       "Dvorak         8\n",
       "Faure          4\n",
       "Ravel          4\n",
       "Haydn          3\n",
       "Name: composer, dtype: int64"
      ]
     },
     "execution_count": 13,
     "metadata": {},
     "output_type": "execute_result"
    }
   ],
   "source": [
    "classic_df['composer'].value_counts()"
   ]
  },
  {
   "cell_type": "code",
   "execution_count": 29,
   "metadata": {},
   "outputs": [
    {
     "data": {
      "text/plain": [
       "<BarContainer object of 10 artists>"
      ]
     },
     "execution_count": 29,
     "metadata": {},
     "output_type": "execute_result"
    },
    {
     "data": {
      "image/png": "[encoded data removed]",
      "text/plain": [
       "<Figure size 864x576 with 1 Axes>"
      ]
     },
     "metadata": {
      "needs_background": "light"
     },
     "output_type": "display_data"
    }
   ],
   "source": [
    "matplotlib.rcParams.update({'font.size': 14})\n",
    "\n",
    "plt.figure(figsize = (12, 8))\n",
    "plt.bar(classic_df['composer'].value_counts().index, \n",
    "                classic_df['composer'].value_counts(normalize=True))"
   ]
  },
  {
   "cell_type": "markdown",
   "metadata": {},
   "source": [
    "Since we are dealing with classical music, it is no surprise that our composer will be bias towards the big names, Beethoven, Bach, Chopin, the list go on.\n",
    "\n",
    "However, almost half of our data is composed by Beethoven alone. Does it means that our model is going to produce a better transcription for Beethoven's music? It's hard to say, the reason is as follows:\n",
    "\n",
    "> Since the ideal model should only be diffentiating the combination of instrument/note pair, the spectrogram should be able to tell if the composer is Beethoven or Bach. Remember, we are using seqencial LSTM/RNN model in our classification, so the only feature the model is going to capture is the preference of notes together, the distance between two notes (tempo) and the combination of sond signature produced by different instrument. Unless their is a claim that supports each composer has their unique preference on sequence of notes, and which instrument should be played together, there is nothing to worry about.\n",
    "\n",
    "> But, to analyse the sequenctial data of notes and instrument, we need the notes for each time frame, which is why exactly I am doing this project. So this is a classic problem of 'does chicken exist first or the eggs?'.\n",
    "\n",
    "In conclusion, is there a possibility of bias? Yes.  \n",
    "Should I spend time analyzing the notes distribution for different composer? Yes.  \n",
    "Do I have the unbias data to perform the analysis? No.  \n",
    "Do I have the time to analyze the data? No.  \n",
    "\n",
    "So at this stages, we are going to trust that the notes distribution for each composer is similar."
   ]
  },
  {
   "cell_type": "code",
   "execution_count": null,
   "metadata": {},
   "outputs": [],
   "source": []
  }
 ],
 "metadata": {
  "kernelspec": {
   "display_name": "Python 3.9.7 ('base')",
   "language": "python",
   "name": "python3"
  },
  "language_info": {
   "codemirror_mode": {
    "name": "ipython",
    "version": 3
   },
   "file_extension": ".py",
   "mimetype": "text/x-python",
   "name": "python",
   "nbconvert_exporter": "python",
   "pygments_lexer": "ipython3",
   "version": "3.9.7"
  },
  "orig_nbformat": 4,
  "vscode": {
   "interpreter": {
    "hash": "d4b3ed6123b24d1be07dc984a4cd0668b04cf02ff0b0af3eabdd70774543141c"
   }
  }
 },
 "nbformat": 4,
 "nbformat_minor": 2
}
