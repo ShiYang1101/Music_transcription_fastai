{
 "cells": [
  {
   "cell_type": "code",
   "execution_count": 1,
   "id": "56a9db3c",
   "metadata": {},
   "outputs": [
    {
     "name": "stdout",
     "output_type": "stream",
     "text": [
      "/home/shiya/anaconda3/envs/music/bin/python\r\n"
     ]
    }
   ],
   "source": [
    "!which python"
   ]
  },
  {
   "cell_type": "code",
   "execution_count": 2,
   "id": "ea098a71",
   "metadata": {},
   "outputs": [],
   "source": [
    "import librosa\n",
    "import librosa.display\n",
    "import numpy as np \n",
    "import pandas as pd\n",
    "import matplotlib.pyplot as plt\n",
    "import seaborn as sns\n",
    "import scipy.stats\n",
    "import glob\n",
    "from sklearn.model_selection import train_test_split\n",
    "import tensorflow as tf\n",
    "from tensorflow.keras import layers, models, datasets\n",
    "import os \n",
    "import random\n",
    "\n",
    "\n",
    "from spectrogram_class import spectrogram\n",
    "from spec_input_generator import gen, gen_eval"
   ]
  },
  {
   "cell_type": "markdown",
   "id": "d3acc16d",
   "metadata": {},
   "source": [
    "# Preprocessing \n",
    "\n",
    "This is a successive notebook after the EDA notebooks.\n",
    "\n",
    "After the EDA analysis, we can proceed to perform the preprocessing for audio. We will be working will spectrogram, as a spectrogram contains the spatial and temporal information of a audio files."
   ]
  },
  {
   "cell_type": "markdown",
   "id": "36a170e0",
   "metadata": {},
   "source": [
    "We will be utilizing Librosa package for spectrogram generation and augmentation. For easier implementation, we have defined a spectrogram class to perform all the procedures. Please refer to __spectrogram_class.py__ in the same folder for more information."
   ]
  },
  {
   "cell_type": "code",
   "execution_count": 3,
   "id": "69dee35a",
   "metadata": {},
   "outputs": [
    {
     "data": {
      "text/plain": [
       "spectrogram_class.spectrogram"
      ]
     },
     "execution_count": 3,
     "metadata": {},
     "output_type": "execute_result"
    }
   ],
   "source": [
    "spectrogram"
   ]
  },
  {
   "cell_type": "markdown",
   "id": "1248e602",
   "metadata": {},
   "source": [
    "Let's have a look at what a spectrogram looks like"
   ]
  },
  {
   "cell_type": "code",
   "execution_count": 4,
   "id": "66a1c2a1",
   "metadata": {},
   "outputs": [
    {
     "name": "stdout",
     "output_type": "stream",
     "text": [
      "[PhysicalDevice(name='/physical_device:GPU:0', device_type='GPU')]\n"
     ]
    },
    {
     "name": "stderr",
     "output_type": "stream",
     "text": [
      "2022-08-05 11:15:36.022611: I tensorflow/stream_executor/cuda/cuda_gpu_executor.cc:975] successful NUMA node read from SysFS had negative value (-1), but there must be at least one NUMA node, so returning NUMA node zero\n",
      "2022-08-05 11:15:36.033164: I tensorflow/stream_executor/cuda/cuda_gpu_executor.cc:975] successful NUMA node read from SysFS had negative value (-1), but there must be at least one NUMA node, so returning NUMA node zero\n",
      "2022-08-05 11:15:36.033599: I tensorflow/stream_executor/cuda/cuda_gpu_executor.cc:975] successful NUMA node read from SysFS had negative value (-1), but there must be at least one NUMA node, so returning NUMA node zero\n"
     ]
    }
   ],
   "source": [
    "print(tf.config.list_physical_devices('GPU'))"
   ]
  },
  {
   "cell_type": "code",
   "execution_count": 5,
   "id": "b0954646",
   "metadata": {},
   "outputs": [],
   "source": [
    "hop_length = 4096\n",
    "win_length = 1024\n",
    "n_fft = 1024"
   ]
  },
  {
   "cell_type": "markdown",
   "id": "4ded2431",
   "metadata": {},
   "source": [
    "We have randomly picked a audio file in OrchideaSOL to showcase the spectrogram."
   ]
  },
  {
   "cell_type": "code",
   "execution_count": 6,
   "id": "aac2bb31",
   "metadata": {
    "scrolled": true
   },
   "outputs": [
    {
     "name": "stdout",
     "output_type": "stream",
     "text": [
      "CPU times: user 85.4 ms, sys: 83.5 ms, total: 169 ms\n",
      "Wall time: 314 ms\n"
     ]
    },
    {
     "data": {
      "text/plain": [
       "spectrogram_class.spectrogram"
      ]
     },
     "execution_count": 6,
     "metadata": {},
     "output_type": "execute_result"
    }
   ],
   "source": [
    "%%time\n",
    "test_spec = spectrogram('PluckedStrings/Harp/pizzicato_bartok/Hp-pizz_bartok-G3-ff-N-N.wav', preprocess = False, \n",
    "                           trunc_off = True)\n",
    "\n",
    "# To demonstrate that the test_spec is an instance on our custom defined class\n",
    "# let's check its type!\n",
    "type(test_spec)"
   ]
  },
  {
   "cell_type": "markdown",
   "id": "920e7969",
   "metadata": {},
   "source": [
    "We have a support function in the class to help us visualized the spectrogram, now let's have a look at what a harps looks like in spectrogram"
   ]
  },
  {
   "cell_type": "code",
   "execution_count": 7,
   "id": "b064f643",
   "metadata": {
    "scrolled": true
   },
   "outputs": [
    {
     "data": {
      "image/png": "[encoded data removed]",
      "text/plain": [
       "<Figure size 432x288 with 2 Axes>"
      ]
     },
     "metadata": {
      "needs_background": "light"
     },
     "output_type": "display_data"
    }
   ],
   "source": [
    "test_spec.plot_spec() "
   ]
  },
  {
   "cell_type": "markdown",
   "id": "bd20d44c",
   "metadata": {},
   "source": [
    "Now I owe you some explanation, why am I showing you this? There are some important points to observe:\n",
    "\n",
    "> You probably heard about the relation between a note and its soundwave frequency, for example, in piano the middle G3 note corresponds to 196 HZ. But we are not exactly seeing one horizontal line on 196 HZ. Why is that? The main reason is that the magnitude of sound wave/magnitude is additive! Let's have a closer look:\n",
    "\n",
    "<div>\n",
    "<img src=\"sound_addition.png\" width=\"700\"/>\n",
    "</div>\n",
    "\n",
    "(screenshot captured from our lord and savior, [3Blue1Brown](https://www.youtube.com/channel/UCYO_jab_esuFRV4b17AJtAw).\n",
    "\n",
    "> Althought the resulting soundwave is of frequency of 196 HZ, it is actually a combination of soundwave of different frequencies. This is exactly the same note for piano and violin sounds different! Imagine a world where a ***tuba, harp, tuna and your cat*** sound the same, what a horrible world...\n",
    "\n",
    "---\n",
    "\n",
    "This is actually why throughout the project, we have decided to use neural network to perform the music transcription, a convolutional network or RNN are able to capture the feature between spatial and temporal information across the spectrogram.\n",
    "\n",
    "<div>\n",
    "<img src=\"cnn.webp\" width=\"400\"/>\n",
    "</div>\n",
    "\n",
    "(A demonstration of how a CNN is [able to capture different features on a face in different layers](https://www.kdnuggets.com/2016/11/intuitive-explanation-convolutional-neural-networks.html/3).)"
   ]
  },
  {
   "cell_type": "code",
   "execution_count": null,
   "id": "77badf73",
   "metadata": {},
   "outputs": [],
   "source": []
  },
  {
   "cell_type": "code",
   "execution_count": null,
   "id": "75aade9b",
   "metadata": {},
   "outputs": [],
   "source": [
    "%%time \n",
    "sample_raw, _ =librosa.load('../data/_OrchideaSOL2020_release/OrchideaSOL2020/PluckedStrings/Harp/pizzicato_bartok/Hp-pizz_bartok-G3-ff-N-N.wav')"
   ]
  },
  {
   "cell_type": "code",
   "execution_count": null,
   "id": "60416489",
   "metadata": {},
   "outputs": [],
   "source": [
    "print(scipy.stats.iqr(sample_raw))"
   ]
  },
  {
   "cell_type": "code",
   "execution_count": null,
   "id": "23052731",
   "metadata": {},
   "outputs": [],
   "source": [
    "test = np.array([2, 4, 6, 8, 10])\n",
    "scipy.convolve(test,np.ones(5,dtype='float')/5, 'same')"
   ]
  },
  {
   "cell_type": "code",
   "execution_count": null,
   "id": "ff9bee93",
   "metadata": {},
   "outputs": [],
   "source": [
    "def rolling_mean(arr, win):\n",
    "    return scipy.convolve(arr, np.ones(win, dtype = 'float')/win, 'same')"
   ]
  },
  {
   "cell_type": "code",
   "execution_count": null,
   "id": "e99376de",
   "metadata": {},
   "outputs": [],
   "source": [
    "def get_signal_range(arr):\n",
    "    tmp = rolling_mean(arr, 100) < 0.001\n",
    "    rolling_tmp = [all(tmp[x:x+500]) for x in range(len(tmp) - 500)]\n",
    "    # plt.scatter(range(len(rolling_tmp)), rolling_tmp)\n",
    "    for i in range(len(rolling_tmp)):\n",
    "        if rolling_tmp[i] == True:\n",
    "            return i"
   ]
  },
  {
   "cell_type": "code",
   "execution_count": null,
   "id": "094ade69",
   "metadata": {},
   "outputs": [],
   "source": [
    "%%time\n",
    "print(get_signal_range(sample_raw))"
   ]
  },
  {
   "cell_type": "code",
   "execution_count": null,
   "id": "7ca265f3",
   "metadata": {},
   "outputs": [],
   "source": [
    "plt.plot(rolling_mean(sample_raw, 100))\n",
    "plt.xlim(0, 1000)"
   ]
  },
  {
   "cell_type": "code",
   "execution_count": null,
   "id": "069a6583",
   "metadata": {},
   "outputs": [],
   "source": [
    "plt.plot(np.diff(sample_raw, 2))\n",
    "plt.xlim(0, 1000)"
   ]
  },
  {
   "cell_type": "code",
   "execution_count": null,
   "id": "a3bf4880",
   "metadata": {},
   "outputs": [],
   "source": [
    "print(max(sample_raw))"
   ]
  },
  {
   "cell_type": "code",
   "execution_count": null,
   "id": "065ce141",
   "metadata": {},
   "outputs": [],
   "source": [
    "plt.figure(figsize=(10, 10))\n",
    "plt.plot(range(len(sample_raw)), sample_raw)\n",
    "print(sample_raw.mean())\n",
    "plt.xlim((0, 1000))\n",
    "plt.plot(add_noise(sample_raw), linewidth = 0.5)"
   ]
  },
  {
   "cell_type": "markdown",
   "id": "89a84ebc",
   "metadata": {},
   "source": []
  },
  {
   "cell_type": "code",
   "execution_count": null,
   "id": "3b986f1f",
   "metadata": {},
   "outputs": [],
   "source": [
    "type(sample_raw)"
   ]
  },
  {
   "cell_type": "code",
   "execution_count": null,
   "id": "1cecb6f4",
   "metadata": {},
   "outputs": [],
   "source": [
    "%%time\n",
    "sample = spectrogram.generate_spec(path = 'PluckedStrings/Harp/pizzicato_bartok/Hp-pizz_bartok-G3-ff-N-N.wav', hop_length = hop_length, \n",
    "                win_length = win_length, n_fft = n_fft)"
   ]
  },
  {
   "cell_type": "code",
   "execution_count": null,
   "id": "66974067",
   "metadata": {},
   "outputs": [],
   "source": [
    "fig = plt.figure()\n",
    "D = librosa.amplitude_to_db(sample,\n",
    "                            ref=np.max)\n",
    "librosa.display.specshow(D, y_axis='log', sr=44100, hop_length=hop_length,\n",
    "                         x_axis='s')\n",
    "plt.title('Log-frequency power spectrogram')"
   ]
  },
  {
   "cell_type": "code",
   "execution_count": null,
   "id": "61127e97",
   "metadata": {},
   "outputs": [],
   "source": [
    "sample.shape"
   ]
  },
  {
   "cell_type": "code",
   "execution_count": null,
   "id": "b12c057b",
   "metadata": {},
   "outputs": [],
   "source": [
    "tf.data.Dataset.from_tensor_slices(sample)"
   ]
  },
  {
   "cell_type": "code",
   "execution_count": null,
   "id": "99e84c5b",
   "metadata": {},
   "outputs": [],
   "source": [
    "librosa.stft(y, n_fft = 512)"
   ]
  },
  {
   "cell_type": "code",
   "execution_count": null,
   "id": "6c1a2068",
   "metadata": {},
   "outputs": [],
   "source": [
    "meta_df = pd.read_csv('../data/OrchideaSOL_metadata.csv')\n",
    "meta_df.head()"
   ]
  },
  {
   "cell_type": "code",
   "execution_count": null,
   "id": "e41bd573",
   "metadata": {},
   "outputs": [],
   "source": [
    "meta_df.info()"
   ]
  },
  {
   "cell_type": "code",
   "execution_count": null,
   "id": "b5f89a4f",
   "metadata": {},
   "outputs": [],
   "source": [
    "meta_df.describe()"
   ]
  },
  {
   "cell_type": "code",
   "execution_count": null,
   "id": "2fe926fd",
   "metadata": {
    "scrolled": false
   },
   "outputs": [],
   "source": [
    "meta_df.isnull().sum()"
   ]
  },
  {
   "cell_type": "code",
   "execution_count": null,
   "id": "4330c641",
   "metadata": {},
   "outputs": [],
   "source": [
    "meta_df['Instrument (in full)'].value_counts()"
   ]
  },
  {
   "cell_type": "code",
   "execution_count": null,
   "id": "c5f06ec7",
   "metadata": {},
   "outputs": [],
   "source": [
    "len(meta_df['Instrument (in full)'].unique())"
   ]
  },
  {
   "cell_type": "markdown",
   "id": "42797df5",
   "metadata": {},
   "source": [
    "We don'really care about the pitchID, Dynamics Id and String ID."
   ]
  },
  {
   "cell_type": "code",
   "execution_count": null,
   "id": "715cdca8",
   "metadata": {},
   "outputs": [],
   "source": [
    "meta_df['Instrument (in full)'].value_counts().plot(kind='bar')"
   ]
  },
  {
   "cell_type": "markdown",
   "id": "c7b7ae9d",
   "metadata": {},
   "source": [
    "We can see some degree of bias in the instrument classes."
   ]
  },
  {
   "cell_type": "markdown",
   "id": "f7046ee7",
   "metadata": {},
   "source": [
    "## First baseline model is to predict the instrument present in the audio file.\n"
   ]
  },
  {
   "cell_type": "code",
   "execution_count": null,
   "id": "d225410a",
   "metadata": {},
   "outputs": [],
   "source": [
    "train_df, test_df = train_test_split(meta_df, train_size = 0.7, random_state = 42)"
   ]
  },
  {
   "cell_type": "code",
   "execution_count": null,
   "id": "bc6c8812",
   "metadata": {},
   "outputs": [],
   "source": [
    "print('The number of rows for the training data is ', train_df.shape[0])\n",
    "print('The number of rows for the test data is ', test_df.shape[0])"
   ]
  },
  {
   "cell_type": "code",
   "execution_count": null,
   "id": "6b7a399b",
   "metadata": {},
   "outputs": [],
   "source": [
    "spec_shape = sample.shape\n",
    "spec_shape"
   ]
  },
  {
   "cell_type": "code",
   "execution_count": null,
   "id": "78ae46ee",
   "metadata": {},
   "outputs": [],
   "source": [
    "meta_df"
   ]
  },
  {
   "cell_type": "code",
   "execution_count": null,
   "id": "b8cccdb9",
   "metadata": {},
   "outputs": [],
   "source": [
    "model = models.Sequential()\n",
    "model.add(layers.InputLayer((spec_shape[0], spec_shape[1], 1), dtype = tf.float64))\n",
    "model.add(layers.Conv2D(30, (200, 20), strides=(10, 10), activation='relu'))\n",
    "# , input_shape = (spec_shape[0], spec_shape[1], 1)))\n",
    "model.add(layers.MaxPool2D((5, 5)))\n",
    "model.add(layers.Flatten())\n",
    "model.add(layers.Dense(16, activation = 'sigmoid'))\n",
    "model.build()"
   ]
  },
  {
   "cell_type": "code",
   "execution_count": null,
   "id": "c6724dbb",
   "metadata": {},
   "outputs": [],
   "source": [
    "tf.keras.utils.plot_model(model, show_shapes = True, show_dtype= True)"
   ]
  },
  {
   "cell_type": "code",
   "execution_count": null,
   "id": "22110a9f",
   "metadata": {},
   "outputs": [],
   "source": [
    "instrument_df = meta_df[['Path', 'Instrument (in full)']]\n",
    "dummy_df = pd.get_dummies(instrument_df, columns = ['Instrument (in full)'])\n",
    "train_df, test_df = train_test_split(dummy_df, train_size = 0.75)\n",
    "train_df.head(2)"
   ]
  },
  {
   "cell_type": "code",
   "execution_count": null,
   "id": "85be05aa",
   "metadata": {},
   "outputs": [],
   "source": [
    "random.random()"
   ]
  },
  {
   "cell_type": "code",
   "execution_count": null,
   "id": "b84d86f6",
   "metadata": {},
   "outputs": [],
   "source": [
    "rel_path = glob.glob('../data/**[!MACOSC]/*OrchideaSOL2020/', recursive=True)[0]\n",
    "rel_path"
   ]
  },
  {
   "cell_type": "code",
   "execution_count": null,
   "id": "59bc9838",
   "metadata": {},
   "outputs": [],
   "source": [
    "def get_eval_df(df):\n",
    "    tmp = df.copy()\n",
    "    tmp['spec'] = tmp['Path'].apply(generate_spec)\n",
    "    tmp.drop(columns=['Path'], inplace = True)\n",
    "    return tmp"
   ]
  },
  {
   "cell_type": "code",
   "execution_count": null,
   "id": "10f4a165",
   "metadata": {},
   "outputs": [],
   "source": [
    "def npy_gen(df):\n",
    "    while True:\n",
    "        tmp = df.copy()\n",
    "        tmp = df['Path'].apply(path_to_preprocessing)\n",
    "        print(tmp)\n",
    "        print(tmp.shape)\n",
    "    \n",
    "    \n",
    "    "
   ]
  },
  {
   "cell_type": "code",
   "execution_count": null,
   "id": "e6edfdd2",
   "metadata": {},
   "outputs": [],
   "source": [
    "sample, _ = next(gen())\n",
    "print(sample.shape)"
   ]
  },
  {
   "cell_type": "code",
   "execution_count": null,
   "id": "a867d1ad",
   "metadata": {},
   "outputs": [],
   "source": [
    "librosa.display.specshow(librosa.amplitude_to_db(np.reshape(sample, (sample.shape[:2]))), x_axis = 's', y_axis = 'log')"
   ]
  },
  {
   "cell_type": "code",
   "execution_count": null,
   "id": "08eaebd5",
   "metadata": {},
   "outputs": [],
   "source": [
    "BATCH_SIZE = 100\n",
    "\n",
    "train_generator = (tf.data.Dataset.from_generator(lambda x: gen(noise_prob = 0.4), output_types=(tf.complex64, tf.int64), \n",
    "                 output_shapes = ((spec_shape[0], spec_shape[1], 1), (16)))).batch(BATCH_SIZE)\n",
    "eval_generator = (tf.data.Dataset.from_generator(gen_eval, output_types=(tf.complex64, tf.int64), \n",
    "                 output_shapes = ((spec_shape[0], spec_shape[1], 1), (16)))).batch(BATCH_SIZE)\n"
   ]
  },
  {
   "cell_type": "code",
   "execution_count": null,
   "id": "e157c7dc",
   "metadata": {},
   "outputs": [],
   "source": []
  },
  {
   "cell_type": "code",
   "execution_count": null,
   "id": "16fd8a29",
   "metadata": {},
   "outputs": [],
   "source": [
    "model.compile(optimizer=tf.keras.optimizers.Adam(learning_rate=5e-3),\n",
    "              loss=tf.keras.losses.BinaryCrossentropy(),\n",
    "              metrics=['accuracy'])\n",
    "print(model.metrics)"
   ]
  },
  {
   "cell_type": "code",
   "execution_count": null,
   "id": "bd24b36d",
   "metadata": {},
   "outputs": [],
   "source": [
    "model.summary()"
   ]
  },
  {
   "cell_type": "code",
   "execution_count": null,
   "id": "ffe8d80c",
   "metadata": {},
   "outputs": [],
   "source": [
    "len(train_df)//BATCH_SIZE"
   ]
  },
  {
   "cell_type": "code",
   "execution_count": null,
   "id": "cd942c05",
   "metadata": {},
   "outputs": [],
   "source": [
    "from datetime import datetime\n",
    "datetime.now().strftime('%Y%m%d_%H%M%S')\n"
   ]
  },
  {
   "cell_type": "code",
   "execution_count": null,
   "id": "544b4d6e",
   "metadata": {},
   "outputs": [],
   "source": [
    "ckpt_callback = tf.keras.callbacks.ModelCheckpoint(\n",
    "    f\"../models/baseline_checkpoint/{datetime.now().strftime('%Y%m%d_%H%M%S')}_{{epoch:02d}}_model\", \n",
    "                                                    monitor='val_accuracy')\n",
    "early_callback = tf.keras.callbacks.EarlyStopping(monitor = 'accuracy', patience = 2)\n",
    "\n",
    "\n",
    "history = model.fit(train_generator, epochs = 6, verbose=1, steps_per_epoch= 10, \n",
    "                    validation_data = eval_generator,\n",
    "                    validation_steps = 10, validation_freq= 2, \n",
    "                    use_multiprocessing=True, workers = 2, callbacks=[ckpt_callback, early_callback])"
   ]
  },
  {
   "cell_type": "code",
   "execution_count": null,
   "id": "49141412",
   "metadata": {},
   "outputs": [],
   "source": [
    "# model.save('../models/baseline/')"
   ]
  },
  {
   "cell_type": "code",
   "execution_count": null,
   "id": "11c1badb",
   "metadata": {},
   "outputs": [],
   "source": []
  },
  {
   "cell_type": "code",
   "execution_count": null,
   "id": "35e82d9a",
   "metadata": {},
   "outputs": [],
   "source": [
    "# model = tf.keras.models.load_model('../models/baseline_checkpoint/20220705_135043_02_model/')"
   ]
  },
  {
   "cell_type": "code",
   "execution_count": null,
   "id": "16de15a4",
   "metadata": {},
   "outputs": [],
   "source": [
    "# model.save_weights('../models/baseline_checkpoint/20220704_153658_model/')"
   ]
  },
  {
   "cell_type": "code",
   "execution_count": null,
   "id": "e2741178",
   "metadata": {},
   "outputs": [],
   "source": [
    "model(np.reshape(random_train, (1, 1025, 807, 1)), training= False)"
   ]
  },
  {
   "cell_type": "markdown",
   "id": "63556cdc",
   "metadata": {},
   "source": [
    "## Deeper model\n"
   ]
  },
  {
   "cell_type": "code",
   "execution_count": null,
   "id": "ce512975",
   "metadata": {},
   "outputs": [],
   "source": [
    "model_2conv = models.Sequential()\n",
    "model_2conv.add(layers.InputLayer((spec_shape[0], spec_shape[1], 1), dtype = tf.float64))\n",
    "model_2conv.add(layers.Conv2D(30, (200, 20), activation='relu'))\n",
    "# , input_shape = (spec_shape[0], spec_shape[1], 1)))\n",
    "model_2conv.add(layers.MaxPool2D((5, 5)))\n",
    "model_2conv.add(layers.Conv2D(20, (20, 5), activation = 'relu'))\n",
    "model_2conv.add(layers.Flatten())\n",
    "model_2conv.add(layers.Dense(16, activation = 'sigmoid'))\n",
    "model_2conv.build()"
   ]
  },
  {
   "cell_type": "code",
   "execution_count": null,
   "id": "66978da2",
   "metadata": {},
   "outputs": [],
   "source": [
    "tf.keras.utils.plot_model(model_2conv, show_shapes = True, show_dtype= True)"
   ]
  },
  {
   "cell_type": "code",
   "execution_count": null,
   "id": "0d0bdf46",
   "metadata": {},
   "outputs": [],
   "source": [
    "model_2conv.summary()"
   ]
  },
  {
   "cell_type": "code",
   "execution_count": null,
   "id": "40757904",
   "metadata": {},
   "outputs": [],
   "source": [
    "test_npy = np.load('../data/_OrchideaSOL2020_release/OrchideaSOL2020/PluckedStrings/Harp/pizzicato_bartok/Hp-pizz_bartok-G3-ff-N-N.npy', \n",
    "allow_pickle = True)"
   ]
  },
  {
   "cell_type": "code",
   "execution_count": null,
   "id": "fd6f324c",
   "metadata": {},
   "outputs": [],
   "source": [
    "test_npy.shape"
   ]
  },
  {
   "cell_type": "code",
   "execution_count": null,
   "id": "08004e6f",
   "metadata": {},
   "outputs": [],
   "source": []
  }
 ],
 "metadata": {
  "kernelspec": {
   "display_name": "Python 3 (ipykernel)",
   "language": "python",
   "name": "python3"
  },
  "language_info": {
   "codemirror_mode": {
    "name": "ipython",
    "version": 3
   },
   "file_extension": ".py",
   "mimetype": "text/x-python",
   "name": "python",
   "nbconvert_exporter": "python",
   "pygments_lexer": "ipython3",
   "version": "3.8.13"
  },
  "vscode": {
   "interpreter": {
    "hash": "d4b3ed6123b24d1be07dc984a4cd0668b04cf02ff0b0af3eabdd70774543141c"
   }
  }
 },
 "nbformat": 4,
 "nbformat_minor": 5
}
