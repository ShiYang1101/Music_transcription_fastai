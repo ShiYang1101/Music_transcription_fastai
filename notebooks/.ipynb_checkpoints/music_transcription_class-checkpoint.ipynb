{
 "cells": [
  {
   "cell_type": "code",
   "execution_count": 2,
   "id": "56a9db3c",
   "metadata": {},
   "outputs": [
    {
     "name": "stdout",
     "output_type": "stream",
     "text": [
      "/home/shiya/anaconda3/envs/music/bin/python\r\n"
     ]
    }
   ],
   "source": [
    "!which python"
   ]
  },
  {
   "cell_type": "code",
   "execution_count": 3,
   "id": "ea098a71",
   "metadata": {},
   "outputs": [],
   "source": [
    "import librosa\n",
    "import librosa.display\n",
    "import numpy as np \n",
    "import pandas as pd\n",
    "import matplotlib.pyplot as plt\n",
    "import seaborn as sns\n",
    "import scipy.stats\n",
    "import glob\n",
    "from sklearn.model_selection import train_test_split\n",
    "import tensorflow as tf\n",
    "from tensorflow.keras import layers, models, datasets\n",
    "import os \n",
    "import random\n",
    "\n",
    "\n",
    "from spectrogram_class import spectrogram\n",
    "from spec_input_generator import gen, gen_eval"
   ]
  },
  {
   "cell_type": "markdown",
   "id": "d3acc16d",
   "metadata": {},
   "source": [
    "# Preprocessing \n",
    "\n",
    "This is a successive notebook after the EDA notebooks.\n",
    "\n",
    "After the EDA analysis, we can proceed to perform the preprocessing for audio. We will be working will spectrogram, as a spectrogram contains the spatial and temporal information of a audio files."
   ]
  },
  {
   "cell_type": "markdown",
   "id": "36a170e0",
   "metadata": {},
   "source": [
    "We will be utilizing Librosa package for spectrogram generation and augmentation. For easier implementation, we have defined a spectrogram class to perform all the procedures. Please refer to __spectrogram_class.py__ in the same folder for more information."
   ]
  },
  {
   "cell_type": "code",
   "execution_count": 4,
   "id": "69dee35a",
   "metadata": {},
   "outputs": [
    {
     "data": {
      "text/plain": [
       "spectrogram_class.spectrogram"
      ]
     },
     "execution_count": 4,
     "metadata": {},
     "output_type": "execute_result"
    }
   ],
   "source": [
    "spectrogram"
   ]
  },
  {
   "cell_type": "markdown",
   "id": "1248e602",
   "metadata": {},
   "source": [
    "Let's have a look at what a spectrogram looks like"
   ]
  },
  {
   "cell_type": "code",
   "execution_count": 5,
   "id": "66a1c2a1",
   "metadata": {},
   "outputs": [
    {
     "name": "stdout",
     "output_type": "stream",
     "text": [
      "[PhysicalDevice(name='/physical_device:GPU:0', device_type='GPU')]\n"
     ]
    },
    {
     "name": "stderr",
     "output_type": "stream",
     "text": [
      "2022-08-05 16:13:25.228726: I tensorflow/stream_executor/cuda/cuda_gpu_executor.cc:975] successful NUMA node read from SysFS had negative value (-1), but there must be at least one NUMA node, so returning NUMA node zero\n",
      "2022-08-05 16:13:25.255296: I tensorflow/stream_executor/cuda/cuda_gpu_executor.cc:975] successful NUMA node read from SysFS had negative value (-1), but there must be at least one NUMA node, so returning NUMA node zero\n",
      "2022-08-05 16:13:25.255634: I tensorflow/stream_executor/cuda/cuda_gpu_executor.cc:975] successful NUMA node read from SysFS had negative value (-1), but there must be at least one NUMA node, so returning NUMA node zero\n"
     ]
    }
   ],
   "source": [
    "print(tf.config.list_physical_devices('GPU'))"
   ]
  },
  {
   "cell_type": "code",
   "execution_count": 6,
   "id": "b0954646",
   "metadata": {},
   "outputs": [],
   "source": [
    "hop_length = 4096\n",
    "win_length = 1024\n",
    "n_fft = 1024"
   ]
  },
  {
   "cell_type": "markdown",
   "id": "4ded2431",
   "metadata": {},
   "source": [
    "We have randomly picked a audio file in OrchideaSOL to showcase the spectrogram."
   ]
  },
  {
   "cell_type": "code",
   "execution_count": 7,
   "id": "aac2bb31",
   "metadata": {
    "scrolled": true
   },
   "outputs": [
    {
     "name": "stdout",
     "output_type": "stream",
     "text": [
      "CPU times: user 81.6 ms, sys: 192 ms, total: 273 ms\n",
      "Wall time: 376 ms\n"
     ]
    },
    {
     "data": {
      "text/plain": [
       "spectrogram_class.spectrogram"
      ]
     },
     "execution_count": 7,
     "metadata": {},
     "output_type": "execute_result"
    }
   ],
   "source": [
    "%%time\n",
    "test_spec = spectrogram('PluckedStrings/Harp/pizzicato_bartok/Hp-pizz_bartok-G3-ff-N-N.wav', preprocess = False, \n",
    "                           trunc_off = True)\n",
    "\n",
    "# To demonstrate that the test_spec is an instance on our custom defined class\n",
    "# let's check its type!\n",
    "type(test_spec)"
   ]
  },
  {
   "cell_type": "markdown",
   "id": "716c3242",
   "metadata": {},
   "source": [
    "We have a support function in the class to help us visualized the spectrogram, now let's have a look at what a harps looks like in spectrogram"
   ]
  },
  {
   "cell_type": "code",
   "execution_count": 8,
   "id": "b064f643",
   "metadata": {
    "scrolled": true
   },
   "outputs": [
    {
     "data": {
      "image/png": "[encoded data removed]",
      "text/plain": [
       "<Figure size 432x288 with 2 Axes>"
      ]
     },
     "metadata": {
      "needs_background": "light"
     },
     "output_type": "display_data"
    }
   ],
   "source": [
    "test_spec.plot_spec() "
   ]
  },
  {
   "cell_type": "markdown",
   "id": "fcfeb9df",
   "metadata": {},
   "source": [
    "Now I owe you some explanation, why am I showing you this? There are some important points to observe:\n",
    "\n",
    "> You probably heard about the relation between a note and its soundwave frequency, for example, in piano the middle G3 note corresponds to 196 HZ. But we are not exactly seeing one horizontal line on 196 HZ. Why is that? The main reason is that the magnitude of sound wave/magnitude is additive! Let's have a closer look:\n",
    "\n",
    "<div>\n",
    "<img src=\"sound_addition.png\" width=\"700\"/>\n",
    "</div>\n",
    "\n",
    "(screenshot captured from our lord and savior, [3Blue1Brown](https://www.youtube.com/channel/UCYO_jab_esuFRV4b17AJtAw).\n",
    "\n",
    "> Althought the resulting soundwave is of frequency of 196 HZ, it is actually a combination of soundwave of different frequencies. This is exactly the same note for piano and violin sounds different! Imagine a world where a ***tuba, harp, tuna and your cat*** sound the same, what a horrible world...\n",
    "\n",
    "---\n",
    "\n",
    "This is actually why throughout the project, we have decided to use neural network to perform the music transcription, a convolutional network or RNN are able to capture the feature between spatial and temporal information across the spectrogram.\n",
    "\n",
    "<div>\n",
    "<img src=\"cnn.webp\" width=\"400\"/>\n",
    "</div>\n",
    "\n",
    "(A demonstration of how a CNN is [able to capture different features on a face in different layers](https://www.kdnuggets.com/2016/11/intuitive-explanation-convolutional-neural-networks.html/3).)"
   ]
  },
  {
   "cell_type": "markdown",
   "id": "026ce0a0",
   "metadata": {},
   "source": [
    "But before we can use the dataset into directly, we have to consider about the data augmentation. Our model should be able to perform tasks include:\n",
    "\n",
    "* Transcribe music in a noisy environment\n",
    "* Transcribe music is moderate data loss\n",
    "* Still be able to tell both audio files contain violins, although the violins have different sound signature\n",
    "\n",
    "But how can our model learn these difference if our data is perfectly clean, and only contain audio files from the same instruments. That is where data augmentation comes in."
   ]
  },
  {
   "cell_type": "markdown",
   "id": "5ddf5086",
   "metadata": {},
   "source": [
    "## Data augmentation"
   ]
  },
  {
   "cell_type": "markdown",
   "id": "7474bcce",
   "metadata": {},
   "source": [
    "We have to augmentate our data so that our training dataset match the scenario above. To achieve this, we have decided to add noise, masking and shifting to the spectrogram.\n",
    "\n",
    "All of these function had been defined under the spectrogram class. Now let's try to visualize this."
   ]
  },
  {
   "cell_type": "markdown",
   "id": "2a01c1a7",
   "metadata": {},
   "source": [
    "### Adding noise"
   ]
  },
  {
   "cell_type": "markdown",
   "id": "c5ef7e72",
   "metadata": {},
   "source": [
    "Remeber this is how our signal and spectrogram for harps looks like:"
   ]
  },
  {
   "cell_type": "code",
   "execution_count": 9,
   "id": "0a6bec34",
   "metadata": {},
   "outputs": [],
   "source": [
    "def plt_signal_spec(spec, xlim = None):\n",
    "    fig = plt.figure(figsize = (14, 6))\n",
    "    ax_1 = fig.add_subplot(121)\n",
    "    ax_1.plot(spec.signal)\n",
    "    if xlim:\n",
    "        ax_1.set_xlim((0, xlim))\n",
    "    \n",
    "    ax_2 = fig.add_subplot(122)\n",
    "    spec.plot_spec(ax = ax_2, db_off = True)\n",
    "    if xlim:\n",
    "        ax_2.set_xlim((0, xlim))\n",
    "    plt.show()"
   ]
  },
  {
   "cell_type": "code",
   "execution_count": 10,
   "id": "2e142433",
   "metadata": {},
   "outputs": [
    {
     "data": {
      "image/png": "[encoded data removed]",
      "text/plain": [
       "<Figure size 1008x432 with 2 Axes>"
      ]
     },
     "metadata": {
      "needs_background": "light"
     },
     "output_type": "display_data"
    }
   ],
   "source": [
    "plt_signal_spec(test_spec, xlim = 2000)"
   ]
  },
  {
   "cell_type": "markdown",
   "id": "16c810b4",
   "metadata": {},
   "source": [
    "The figure on the left is the signal directly converted from raw audio file, which represents the magnitude/pressure of the recorded audio. Whereas the figure on the right is the corresponding converted spectrogram."
   ]
  },
  {
   "cell_type": "markdown",
   "id": "015c3763",
   "metadata": {},
   "source": [
    "We will then add random noise to the signal, before converting to the spectrogram, the signal is added based on the normal distribution of the maximum value of the signal."
   ]
  },
  {
   "cell_type": "code",
   "execution_count": 11,
   "id": "77fcd2b0",
   "metadata": {},
   "outputs": [],
   "source": [
    "test_spec_noise = spectrogram('PluckedStrings/Harp/pizzicato_bartok/Hp-pizz_bartok-G3-ff-N-N.wav', preprocess = False, \n",
    "                           trunc_off = True)\n",
    "test_spec_noise.add_noise(noise_factor = 0.2)"
   ]
  },
  {
   "cell_type": "code",
   "execution_count": 12,
   "id": "685c0b2d",
   "metadata": {},
   "outputs": [
    {
     "data": {
      "image/png": "[encoded data removed]",
      "text/plain": [
       "<Figure size 1008x432 with 2 Axes>"
      ]
     },
     "metadata": {
      "needs_background": "light"
     },
     "output_type": "display_data"
    }
   ],
   "source": [
    "plt_signal_spec(test_spec_noise, xlim = 2000)"
   ]
  },
  {
   "cell_type": "markdown",
   "id": "be0346d6",
   "metadata": {},
   "source": [
    "Now there is some fuzziness going on in the signal! However, since the magnitude of the mel spectrogram is log scaled, it isn't obvious in the right figure. \n",
    "\n",
    "> Note that the in practice, we don't add so much fuzziness in our training, the increased noise factor is for demonstration purpose only."
   ]
  },
  {
   "cell_type": "markdown",
   "id": "278623b3",
   "metadata": {},
   "source": [
    "### Spectrogram masking\n",
    "\n",
    "Another technique we used is the spectrogram masking, the masking function will randomly set the magnitude of spectrogram into 0, across the time and frequency of the spectrogram. "
   ]
  },
  {
   "cell_type": "code",
   "execution_count": 13,
   "id": "30be100f",
   "metadata": {},
   "outputs": [],
   "source": [
    "test_spec_mask = spectrogram('PluckedStrings/Harp/pizzicato_bartok/Hp-pizz_bartok-G3-ff-N-N.wav', preprocess = False, \n",
    "                           trunc_off = True)\n",
    "test_spec_mask.mask_spec()"
   ]
  },
  {
   "cell_type": "code",
   "execution_count": 14,
   "id": "e00ddd3b",
   "metadata": {},
   "outputs": [
    {
     "data": {
      "image/png": "[encoded data removed]",
      "text/plain": [
       "<Figure size 1008x432 with 2 Axes>"
      ]
     },
     "metadata": {
      "needs_background": "light"
     },
     "output_type": "display_data"
    }
   ],
   "source": [
    "plt_signal_spec(test_spec_mask, xlim = 2000)"
   ]
  },
  {
   "cell_type": "markdown",
   "id": "f5ea0687",
   "metadata": {},
   "source": [
    "Note how we have remove chunks of the frequency and time dimension of the spectrogram. If it's not, run a few more time, it's random anyway."
   ]
  },
  {
   "cell_type": "markdown",
   "id": "21bae044",
   "metadata": {},
   "source": [
    "### Spectrogram shifting \n",
    "\n",
    "Since in our audio files, the recording always starts at the beginning, and there is always a few seconds of silence before the recording ends, we will need to shift the spectrogram, so that the machine learning models doesn't depends too much on the beginning of the time slices."
   ]
  },
  {
   "cell_type": "code",
   "execution_count": 15,
   "id": "a61e09b8",
   "metadata": {},
   "outputs": [],
   "source": [
    "test_spec_shift = spectrogram('PluckedStrings/Harp/pizzicato_bartok/Hp-pizz_bartok-G3-ff-N-N.wav', preprocess = False, \n",
    "                           trunc_off = True)\n",
    "test_spec_shift.shift_spec(max_sec = 5)"
   ]
  },
  {
   "cell_type": "code",
   "execution_count": 16,
   "id": "257a25e6",
   "metadata": {},
   "outputs": [
    {
     "data": {
      "image/png": "[encoded data removed]",
      "text/plain": [
       "<Figure size 1008x432 with 2 Axes>"
      ]
     },
     "metadata": {
      "needs_background": "light"
     },
     "output_type": "display_data"
    }
   ],
   "source": [
    "plt_signal_spec(test_spec_shift, xlim = 2000)"
   ]
  },
  {
   "cell_type": "markdown",
   "id": "84e77f79",
   "metadata": {},
   "source": [
    "Note the now the spectrogram is now shift to the right of time, we have set the maximum time it can shift for 5 seconds for demonstration purpose."
   ]
  },
  {
   "cell_type": "markdown",
   "id": "9d300e42",
   "metadata": {},
   "source": [
    "### Spectrogram truncation\n",
    "\n",
    "Since we have audio files of different length, we will need to preprocess it in a way that all of the sample have the same dimension as a numpy array. To do this we will simply be padding the numpy array as zeros, or trimming the last few seconds of the recording. The truncation is applied by default when the spectrogram class initialization is called."
   ]
  },
  {
   "cell_type": "markdown",
   "id": "d81c7c50",
   "metadata": {},
   "source": [
    "Now to get the size of our input (to be fed into the model), we wil simply run a sample, and acquire the shape from the numpy array."
   ]
  },
  {
   "cell_type": "code",
   "execution_count": 17,
   "id": "1cecb6f4",
   "metadata": {},
   "outputs": [
    {
     "name": "stdout",
     "output_type": "stream",
     "text": [
      "CPU times: user 174 ms, sys: 118 ms, total: 292 ms\n",
      "Wall time: 425 ms\n"
     ]
    }
   ],
   "source": [
    "%%time\n",
    "sample = spectrogram('PluckedStrings/Harp/pizzicato_bartok/Hp-pizz_bartok-G3-ff-N-N.wav', \n",
    "                    hop_length = hop_length, \n",
    "                    n_fft = n_fft)"
   ]
  },
  {
   "cell_type": "code",
   "execution_count": 18,
   "id": "61127e97",
   "metadata": {
    "scrolled": true
   },
   "outputs": [],
   "source": [
    "spec_shape = sample.spec.shape"
   ]
  },
  {
   "cell_type": "markdown",
   "id": "4409c16d",
   "metadata": {},
   "source": [
    "Now that we have the spectrogram ready for out training, we can use the instrument and pitch data in the metadata dataframe."
   ]
  },
  {
   "cell_type": "code",
   "execution_count": 19,
   "id": "6c1a2068",
   "metadata": {},
   "outputs": [
    {
     "data": {
      "text/html": [
       "<div>\n",
       "<style scoped>\n",
       "    .dataframe tbody tr th:only-of-type {\n",
       "        vertical-align: middle;\n",
       "    }\n",
       "\n",
       "    .dataframe tbody tr th {\n",
       "        vertical-align: top;\n",
       "    }\n",
       "\n",
       "    .dataframe thead th {\n",
       "        text-align: right;\n",
       "    }\n",
       "</style>\n",
       "<table border=\"1\" class=\"dataframe\">\n",
       "  <thead>\n",
       "    <tr style=\"text-align: right;\">\n",
       "      <th></th>\n",
       "      <th>Path</th>\n",
       "      <th>Family (abbr.)</th>\n",
       "      <th>Family (in full)</th>\n",
       "      <th>Instrument (abbr.)</th>\n",
       "      <th>Instrument (in full)</th>\n",
       "      <th>Technique (abbr.)</th>\n",
       "      <th>Technique (in full)</th>\n",
       "      <th>Pitch</th>\n",
       "      <th>Pitch ID (if applicable)</th>\n",
       "      <th>Dynamics</th>\n",
       "      <th>Dynamics ID (if applicable)</th>\n",
       "      <th>Instance ID</th>\n",
       "      <th>Mute (abbr.)</th>\n",
       "      <th>Mute (in full)</th>\n",
       "      <th>String ID (if applicable)</th>\n",
       "      <th>Needed digital retuning</th>\n",
       "      <th>Fold</th>\n",
       "    </tr>\n",
       "  </thead>\n",
       "  <tbody>\n",
       "    <tr>\n",
       "      <th>0</th>\n",
       "      <td>Brass/Bass_Tuba+sordina/ordinario/BTb+S-ord-A#...</td>\n",
       "      <td>Brass</td>\n",
       "      <td>Brass</td>\n",
       "      <td>BTb</td>\n",
       "      <td>Bass Tuba</td>\n",
       "      <td>ord</td>\n",
       "      <td>ordinario</td>\n",
       "      <td>A#0</td>\n",
       "      <td>22.0</td>\n",
       "      <td>f</td>\n",
       "      <td>3.0</td>\n",
       "      <td>0.0</td>\n",
       "      <td>S</td>\n",
       "      <td>Sordina</td>\n",
       "      <td>NaN</td>\n",
       "      <td>False</td>\n",
       "      <td>2</td>\n",
       "    </tr>\n",
       "    <tr>\n",
       "      <th>1</th>\n",
       "      <td>Brass/Bass_Tuba+sordina/ordinario/BTb+S-ord-A#...</td>\n",
       "      <td>Brass</td>\n",
       "      <td>Brass</td>\n",
       "      <td>BTb</td>\n",
       "      <td>Bass Tuba</td>\n",
       "      <td>ord</td>\n",
       "      <td>ordinario</td>\n",
       "      <td>A#0</td>\n",
       "      <td>22.0</td>\n",
       "      <td>p</td>\n",
       "      <td>1.0</td>\n",
       "      <td>0.0</td>\n",
       "      <td>S</td>\n",
       "      <td>Sordina</td>\n",
       "      <td>NaN</td>\n",
       "      <td>True</td>\n",
       "      <td>0</td>\n",
       "    </tr>\n",
       "    <tr>\n",
       "      <th>2</th>\n",
       "      <td>Brass/Bass_Tuba+sordina/ordinario/BTb+S-ord-A#...</td>\n",
       "      <td>Brass</td>\n",
       "      <td>Brass</td>\n",
       "      <td>BTb</td>\n",
       "      <td>Bass Tuba</td>\n",
       "      <td>ord</td>\n",
       "      <td>ordinario</td>\n",
       "      <td>A#1</td>\n",
       "      <td>34.0</td>\n",
       "      <td>f</td>\n",
       "      <td>3.0</td>\n",
       "      <td>0.0</td>\n",
       "      <td>S</td>\n",
       "      <td>Sordina</td>\n",
       "      <td>NaN</td>\n",
       "      <td>True</td>\n",
       "      <td>1</td>\n",
       "    </tr>\n",
       "    <tr>\n",
       "      <th>3</th>\n",
       "      <td>Brass/Bass_Tuba+sordina/ordinario/BTb+S-ord-A#...</td>\n",
       "      <td>Brass</td>\n",
       "      <td>Brass</td>\n",
       "      <td>BTb</td>\n",
       "      <td>Bass Tuba</td>\n",
       "      <td>ord</td>\n",
       "      <td>ordinario</td>\n",
       "      <td>A#1</td>\n",
       "      <td>34.0</td>\n",
       "      <td>p</td>\n",
       "      <td>1.0</td>\n",
       "      <td>0.0</td>\n",
       "      <td>S</td>\n",
       "      <td>Sordina</td>\n",
       "      <td>NaN</td>\n",
       "      <td>True</td>\n",
       "      <td>2</td>\n",
       "    </tr>\n",
       "    <tr>\n",
       "      <th>4</th>\n",
       "      <td>Brass/Bass_Tuba+sordina/ordinario/BTb+S-ord-A#...</td>\n",
       "      <td>Brass</td>\n",
       "      <td>Brass</td>\n",
       "      <td>BTb</td>\n",
       "      <td>Bass Tuba</td>\n",
       "      <td>ord</td>\n",
       "      <td>ordinario</td>\n",
       "      <td>A#2</td>\n",
       "      <td>46.0</td>\n",
       "      <td>f</td>\n",
       "      <td>3.0</td>\n",
       "      <td>0.0</td>\n",
       "      <td>S</td>\n",
       "      <td>Sordina</td>\n",
       "      <td>NaN</td>\n",
       "      <td>True</td>\n",
       "      <td>1</td>\n",
       "    </tr>\n",
       "  </tbody>\n",
       "</table>\n",
       "</div>"
      ],
      "text/plain": [
       "                                                Path Family (abbr.)  \\\n",
       "0  Brass/Bass_Tuba+sordina/ordinario/BTb+S-ord-A#...          Brass   \n",
       "1  Brass/Bass_Tuba+sordina/ordinario/BTb+S-ord-A#...          Brass   \n",
       "2  Brass/Bass_Tuba+sordina/ordinario/BTb+S-ord-A#...          Brass   \n",
       "3  Brass/Bass_Tuba+sordina/ordinario/BTb+S-ord-A#...          Brass   \n",
       "4  Brass/Bass_Tuba+sordina/ordinario/BTb+S-ord-A#...          Brass   \n",
       "\n",
       "  Family (in full) Instrument (abbr.) Instrument (in full) Technique (abbr.)  \\\n",
       "0            Brass                BTb            Bass Tuba               ord   \n",
       "1            Brass                BTb            Bass Tuba               ord   \n",
       "2            Brass                BTb            Bass Tuba               ord   \n",
       "3            Brass                BTb            Bass Tuba               ord   \n",
       "4            Brass                BTb            Bass Tuba               ord   \n",
       "\n",
       "  Technique (in full) Pitch  Pitch ID (if applicable) Dynamics  \\\n",
       "0           ordinario   A#0                      22.0        f   \n",
       "1           ordinario   A#0                      22.0        p   \n",
       "2           ordinario   A#1                      34.0        f   \n",
       "3           ordinario   A#1                      34.0        p   \n",
       "4           ordinario   A#2                      46.0        f   \n",
       "\n",
       "   Dynamics ID (if applicable)  Instance ID Mute (abbr.) Mute (in full)  \\\n",
       "0                          3.0          0.0            S        Sordina   \n",
       "1                          1.0          0.0            S        Sordina   \n",
       "2                          3.0          0.0            S        Sordina   \n",
       "3                          1.0          0.0            S        Sordina   \n",
       "4                          3.0          0.0            S        Sordina   \n",
       "\n",
       "   String ID (if applicable)  Needed digital retuning  Fold  \n",
       "0                        NaN                    False     2  \n",
       "1                        NaN                     True     0  \n",
       "2                        NaN                     True     1  \n",
       "3                        NaN                     True     2  \n",
       "4                        NaN                     True     1  "
      ]
     },
     "execution_count": 19,
     "metadata": {},
     "output_type": "execute_result"
    }
   ],
   "source": [
    "meta_df = pd.read_csv('../data/OrchideaSOL_metadata.csv')\n",
    "meta_df.head()"
   ]
  },
  {
   "cell_type": "code",
   "execution_count": 20,
   "id": "e41bd573",
   "metadata": {},
   "outputs": [
    {
     "name": "stdout",
     "output_type": "stream",
     "text": [
      "<class 'pandas.core.frame.DataFrame'>\n",
      "RangeIndex: 13265 entries, 0 to 13264\n",
      "Data columns (total 17 columns):\n",
      " #   Column                       Non-Null Count  Dtype  \n",
      "---  ------                       --------------  -----  \n",
      " 0   Path                         13265 non-null  object \n",
      " 1   Family (abbr.)               13265 non-null  object \n",
      " 2   Family (in full)             13265 non-null  object \n",
      " 3   Instrument (abbr.)           13265 non-null  object \n",
      " 4   Instrument (in full)         13265 non-null  object \n",
      " 5   Technique (abbr.)            13265 non-null  object \n",
      " 6   Technique (in full)          13265 non-null  object \n",
      " 7   Pitch                        13265 non-null  object \n",
      " 8   Pitch ID (if applicable)     13162 non-null  float64\n",
      " 9   Dynamics                     13265 non-null  object \n",
      " 10  Dynamics ID (if applicable)  12646 non-null  float64\n",
      " 11  Instance ID                  13262 non-null  float64\n",
      " 12  Mute (abbr.)                 13265 non-null  object \n",
      " 13  Mute (in full)               13265 non-null  object \n",
      " 14  String ID (if applicable)    7516 non-null   float64\n",
      " 15  Needed digital retuning      13265 non-null  bool   \n",
      " 16  Fold                         13265 non-null  int64  \n",
      "dtypes: bool(1), float64(4), int64(1), object(11)\n",
      "memory usage: 1.6+ MB\n"
     ]
    }
   ],
   "source": [
    "meta_df.info()"
   ]
  },
  {
   "cell_type": "code",
   "execution_count": 21,
   "id": "b5f89a4f",
   "metadata": {},
   "outputs": [
    {
     "data": {
      "text/html": [
       "<div>\n",
       "<style scoped>\n",
       "    .dataframe tbody tr th:only-of-type {\n",
       "        vertical-align: middle;\n",
       "    }\n",
       "\n",
       "    .dataframe tbody tr th {\n",
       "        vertical-align: top;\n",
       "    }\n",
       "\n",
       "    .dataframe thead th {\n",
       "        text-align: right;\n",
       "    }\n",
       "</style>\n",
       "<table border=\"1\" class=\"dataframe\">\n",
       "  <thead>\n",
       "    <tr style=\"text-align: right;\">\n",
       "      <th></th>\n",
       "      <th>Pitch ID (if applicable)</th>\n",
       "      <th>Dynamics ID (if applicable)</th>\n",
       "      <th>Instance ID</th>\n",
       "      <th>String ID (if applicable)</th>\n",
       "      <th>Fold</th>\n",
       "    </tr>\n",
       "  </thead>\n",
       "  <tbody>\n",
       "    <tr>\n",
       "      <th>count</th>\n",
       "      <td>13162.000000</td>\n",
       "      <td>12646.000000</td>\n",
       "      <td>13262.000000</td>\n",
       "      <td>7516.000000</td>\n",
       "      <td>13265.000000</td>\n",
       "    </tr>\n",
       "    <tr>\n",
       "      <th>mean</th>\n",
       "      <td>63.842653</td>\n",
       "      <td>2.073857</td>\n",
       "      <td>0.848138</td>\n",
       "      <td>2.360298</td>\n",
       "      <td>2.000000</td>\n",
       "    </tr>\n",
       "    <tr>\n",
       "      <th>std</th>\n",
       "      <td>16.512067</td>\n",
       "      <td>1.329919</td>\n",
       "      <td>1.177874</td>\n",
       "      <td>1.196041</td>\n",
       "      <td>1.414267</td>\n",
       "    </tr>\n",
       "    <tr>\n",
       "      <th>min</th>\n",
       "      <td>20.000000</td>\n",
       "      <td>0.000000</td>\n",
       "      <td>0.000000</td>\n",
       "      <td>1.000000</td>\n",
       "      <td>0.000000</td>\n",
       "    </tr>\n",
       "    <tr>\n",
       "      <th>25%</th>\n",
       "      <td>52.000000</td>\n",
       "      <td>2.000000</td>\n",
       "      <td>0.000000</td>\n",
       "      <td>1.000000</td>\n",
       "      <td>1.000000</td>\n",
       "    </tr>\n",
       "    <tr>\n",
       "      <th>50%</th>\n",
       "      <td>64.000000</td>\n",
       "      <td>2.000000</td>\n",
       "      <td>0.000000</td>\n",
       "      <td>2.000000</td>\n",
       "      <td>2.000000</td>\n",
       "    </tr>\n",
       "    <tr>\n",
       "      <th>75%</th>\n",
       "      <td>76.000000</td>\n",
       "      <td>3.000000</td>\n",
       "      <td>2.000000</td>\n",
       "      <td>3.000000</td>\n",
       "      <td>3.000000</td>\n",
       "    </tr>\n",
       "    <tr>\n",
       "      <th>max</th>\n",
       "      <td>109.000000</td>\n",
       "      <td>4.000000</td>\n",
       "      <td>12.000000</td>\n",
       "      <td>6.000000</td>\n",
       "      <td>4.000000</td>\n",
       "    </tr>\n",
       "  </tbody>\n",
       "</table>\n",
       "</div>"
      ],
      "text/plain": [
       "       Pitch ID (if applicable)  Dynamics ID (if applicable)   Instance ID  \\\n",
       "count              13162.000000                 12646.000000  13262.000000   \n",
       "mean                  63.842653                     2.073857      0.848138   \n",
       "std                   16.512067                     1.329919      1.177874   \n",
       "min                   20.000000                     0.000000      0.000000   \n",
       "25%                   52.000000                     2.000000      0.000000   \n",
       "50%                   64.000000                     2.000000      0.000000   \n",
       "75%                   76.000000                     3.000000      2.000000   \n",
       "max                  109.000000                     4.000000     12.000000   \n",
       "\n",
       "       String ID (if applicable)          Fold  \n",
       "count                7516.000000  13265.000000  \n",
       "mean                    2.360298      2.000000  \n",
       "std                     1.196041      1.414267  \n",
       "min                     1.000000      0.000000  \n",
       "25%                     1.000000      1.000000  \n",
       "50%                     2.000000      2.000000  \n",
       "75%                     3.000000      3.000000  \n",
       "max                     6.000000      4.000000  "
      ]
     },
     "execution_count": 21,
     "metadata": {},
     "output_type": "execute_result"
    }
   ],
   "source": [
    "meta_df.describe()"
   ]
  },
  {
   "cell_type": "code",
   "execution_count": 22,
   "id": "2fe926fd",
   "metadata": {
    "scrolled": false
   },
   "outputs": [
    {
     "data": {
      "text/plain": [
       "Path                              0\n",
       "Family (abbr.)                    0\n",
       "Family (in full)                  0\n",
       "Instrument (abbr.)                0\n",
       "Instrument (in full)              0\n",
       "Technique (abbr.)                 0\n",
       "Technique (in full)               0\n",
       "Pitch                             0\n",
       "Pitch ID (if applicable)        103\n",
       "Dynamics                          0\n",
       "Dynamics ID (if applicable)     619\n",
       "Instance ID                       3\n",
       "Mute (abbr.)                      0\n",
       "Mute (in full)                    0\n",
       "String ID (if applicable)      5749\n",
       "Needed digital retuning           0\n",
       "Fold                              0\n",
       "dtype: int64"
      ]
     },
     "execution_count": 22,
     "metadata": {},
     "output_type": "execute_result"
    }
   ],
   "source": [
    "meta_df.isnull().sum()"
   ]
  },
  {
   "cell_type": "code",
   "execution_count": 23,
   "id": "4330c641",
   "metadata": {},
   "outputs": [
    {
     "data": {
      "text/plain": [
       "Violin            1987\n",
       "Viola             1952\n",
       "Contrabass        1636\n",
       "Cello             1593\n",
       "Accordion          872\n",
       "Trombone           670\n",
       "Trumpet in C       590\n",
       "French Horn        589\n",
       "Flute              529\n",
       "Harp               507\n",
       "Bass Tuba          500\n",
       "Clarinet in Bb     406\n",
       "Alto Saxophone     377\n",
       "Bassoon            358\n",
       "Guitar             353\n",
       "Oboe               346\n",
       "Name: Instrument (in full), dtype: int64"
      ]
     },
     "execution_count": 23,
     "metadata": {},
     "output_type": "execute_result"
    }
   ],
   "source": [
    "meta_df['Instrument (in full)'].value_counts()"
   ]
  },
  {
   "cell_type": "markdown",
   "id": "42797df5",
   "metadata": {},
   "source": [
    "We don'really care about the pitchID, Dynamics Id and String ID."
   ]
  },
  {
   "cell_type": "code",
   "execution_count": null,
   "id": "715cdca8",
   "metadata": {},
   "outputs": [],
   "source": [
    "meta_df = meta"
   ]
  },
  {
   "cell_type": "markdown",
   "id": "c7b7ae9d",
   "metadata": {},
   "source": [
    "We can see some degree of bias in the instrument classes."
   ]
  },
  {
   "cell_type": "markdown",
   "id": "f7046ee7",
   "metadata": {},
   "source": [
    "## First baseline model is to predict the instrument present in the audio file.\n"
   ]
  },
  {
   "cell_type": "code",
   "execution_count": null,
   "id": "d225410a",
   "metadata": {},
   "outputs": [],
   "source": [
    "train_df, test_df = train_test_split(meta_df, train_size = 0.7, random_state = 42)"
   ]
  },
  {
   "cell_type": "code",
   "execution_count": null,
   "id": "bc6c8812",
   "metadata": {},
   "outputs": [],
   "source": [
    "print('The number of rows for the training data is ', train_df.shape[0])\n",
    "print('The number of rows for the test data is ', test_df.shape[0])"
   ]
  },
  {
   "cell_type": "code",
   "execution_count": null,
   "id": "6b7a399b",
   "metadata": {},
   "outputs": [],
   "source": [
    "spec_shape = sample.shape\n",
    "spec_shape"
   ]
  },
  {
   "cell_type": "code",
   "execution_count": null,
   "id": "78ae46ee",
   "metadata": {},
   "outputs": [],
   "source": [
    "meta_df"
   ]
  },
  {
   "cell_type": "code",
   "execution_count": null,
   "id": "b8cccdb9",
   "metadata": {},
   "outputs": [],
   "source": [
    "model = models.Sequential()\n",
    "model.add(layers.InputLayer((spec_shape[0], spec_shape[1], 1), dtype = tf.float64))\n",
    "model.add(layers.Conv2D(30, (200, 20), strides=(10, 10), activation='relu'))\n",
    "# , input_shape = (spec_shape[0], spec_shape[1], 1)))\n",
    "model.add(layers.MaxPool2D((5, 5)))\n",
    "model.add(layers.Flatten())\n",
    "model.add(layers.Dense(16, activation = 'sigmoid'))\n",
    "model.build()"
   ]
  },
  {
   "cell_type": "code",
   "execution_count": null,
   "id": "c6724dbb",
   "metadata": {},
   "outputs": [],
   "source": [
    "tf.keras.utils.plot_model(model, show_shapes = True, show_dtype= True)"
   ]
  },
  {
   "cell_type": "code",
   "execution_count": null,
   "id": "22110a9f",
   "metadata": {},
   "outputs": [],
   "source": [
    "instrument_df = meta_df[['Path', 'Instrument (in full)']]\n",
    "dummy_df = pd.get_dummies(instrument_df, columns = ['Instrument (in full)'])\n",
    "train_df, test_df = train_test_split(dummy_df, train_size = 0.75)\n",
    "train_df.head(2)"
   ]
  },
  {
   "cell_type": "code",
   "execution_count": null,
   "id": "85be05aa",
   "metadata": {},
   "outputs": [],
   "source": [
    "random.random()"
   ]
  },
  {
   "cell_type": "code",
   "execution_count": null,
   "id": "b84d86f6",
   "metadata": {},
   "outputs": [],
   "source": [
    "rel_path = glob.glob('../data/**[!MACOSC]/*OrchideaSOL2020/', recursive=True)[0]\n",
    "rel_path"
   ]
  },
  {
   "cell_type": "code",
   "execution_count": null,
   "id": "59bc9838",
   "metadata": {},
   "outputs": [],
   "source": [
    "def get_eval_df(df):\n",
    "    tmp = df.copy()\n",
    "    tmp['spec'] = tmp['Path'].apply(generate_spec)\n",
    "    tmp.drop(columns=['Path'], inplace = True)\n",
    "    return tmp"
   ]
  },
  {
   "cell_type": "code",
   "execution_count": null,
   "id": "10f4a165",
   "metadata": {},
   "outputs": [],
   "source": [
    "def npy_gen(df):\n",
    "    while True:\n",
    "        tmp = df.copy()\n",
    "        tmp = df['Path'].apply(path_to_preprocessing)\n",
    "        print(tmp)\n",
    "        print(tmp.shape)\n",
    "    \n",
    "    \n",
    "    "
   ]
  },
  {
   "cell_type": "code",
   "execution_count": null,
   "id": "e6edfdd2",
   "metadata": {},
   "outputs": [],
   "source": [
    "sample, _ = next(gen())\n",
    "print(sample.shape)"
   ]
  },
  {
   "cell_type": "code",
   "execution_count": null,
   "id": "a867d1ad",
   "metadata": {},
   "outputs": [],
   "source": [
    "librosa.display.specshow(librosa.amplitude_to_db(np.reshape(sample, (sample.shape[:2]))), x_axis = 's', y_axis = 'log')"
   ]
  },
  {
   "cell_type": "code",
   "execution_count": null,
   "id": "08eaebd5",
   "metadata": {},
   "outputs": [],
   "source": [
    "BATCH_SIZE = 100\n",
    "\n",
    "train_generator = (tf.data.Dataset.from_generator(lambda x: gen(noise_prob = 0.4), output_types=(tf.complex64, tf.int64), \n",
    "                 output_shapes = ((spec_shape[0], spec_shape[1], 1), (16)))).batch(BATCH_SIZE)\n",
    "eval_generator = (tf.data.Dataset.from_generator(gen_eval, output_types=(tf.complex64, tf.int64), \n",
    "                 output_shapes = ((spec_shape[0], spec_shape[1], 1), (16)))).batch(BATCH_SIZE)\n"
   ]
  },
  {
   "cell_type": "code",
   "execution_count": null,
   "id": "e157c7dc",
   "metadata": {},
   "outputs": [],
   "source": []
  },
  {
   "cell_type": "code",
   "execution_count": null,
   "id": "16fd8a29",
   "metadata": {},
   "outputs": [],
   "source": [
    "model.compile(optimizer=tf.keras.optimizers.Adam(learning_rate=5e-3),\n",
    "              loss=tf.keras.losses.BinaryCrossentropy(),\n",
    "              metrics=['accuracy'])\n",
    "print(model.metrics)"
   ]
  },
  {
   "cell_type": "code",
   "execution_count": null,
   "id": "bd24b36d",
   "metadata": {},
   "outputs": [],
   "source": [
    "model.summary()"
   ]
  },
  {
   "cell_type": "code",
   "execution_count": null,
   "id": "ffe8d80c",
   "metadata": {},
   "outputs": [],
   "source": [
    "len(train_df)//BATCH_SIZE"
   ]
  },
  {
   "cell_type": "code",
   "execution_count": null,
   "id": "cd942c05",
   "metadata": {},
   "outputs": [],
   "source": [
    "from datetime import datetime\n",
    "datetime.now().strftime('%Y%m%d_%H%M%S')\n"
   ]
  },
  {
   "cell_type": "code",
   "execution_count": null,
   "id": "544b4d6e",
   "metadata": {},
   "outputs": [],
   "source": [
    "ckpt_callback = tf.keras.callbacks.ModelCheckpoint(\n",
    "    f\"../models/baseline_checkpoint/{datetime.now().strftime('%Y%m%d_%H%M%S')}_{{epoch:02d}}_model\", \n",
    "                                                    monitor='val_accuracy')\n",
    "early_callback = tf.keras.callbacks.EarlyStopping(monitor = 'accuracy', patience = 2)\n",
    "\n",
    "\n",
    "history = model.fit(train_generator, epochs = 6, verbose=1, steps_per_epoch= 10, \n",
    "                    validation_data = eval_generator,\n",
    "                    validation_steps = 10, validation_freq= 2, \n",
    "                    use_multiprocessing=True, workers = 2, callbacks=[ckpt_callback, early_callback])"
   ]
  },
  {
   "cell_type": "code",
   "execution_count": null,
   "id": "49141412",
   "metadata": {},
   "outputs": [],
   "source": [
    "# model.save('../models/baseline/')"
   ]
  },
  {
   "cell_type": "code",
   "execution_count": null,
   "id": "11c1badb",
   "metadata": {},
   "outputs": [],
   "source": []
  },
  {
   "cell_type": "code",
   "execution_count": null,
   "id": "35e82d9a",
   "metadata": {},
   "outputs": [],
   "source": [
    "# model = tf.keras.models.load_model('../models/baseline_checkpoint/20220705_135043_02_model/')"
   ]
  },
  {
   "cell_type": "code",
   "execution_count": null,
   "id": "16de15a4",
   "metadata": {},
   "outputs": [],
   "source": [
    "# model.save_weights('../models/baseline_checkpoint/20220704_153658_model/')"
   ]
  },
  {
   "cell_type": "code",
   "execution_count": null,
   "id": "e2741178",
   "metadata": {},
   "outputs": [],
   "source": [
    "model(np.reshape(random_train, (1, 1025, 807, 1)), training= False)"
   ]
  },
  {
   "cell_type": "markdown",
   "id": "63556cdc",
   "metadata": {},
   "source": [
    "## Deeper model\n"
   ]
  },
  {
   "cell_type": "code",
   "execution_count": null,
   "id": "ce512975",
   "metadata": {},
   "outputs": [],
   "source": [
    "model_2conv = models.Sequential()\n",
    "model_2conv.add(layers.InputLayer((spec_shape[0], spec_shape[1], 1), dtype = tf.float64))\n",
    "model_2conv.add(layers.Conv2D(30, (200, 20), activation='relu'))\n",
    "# , input_shape = (spec_shape[0], spec_shape[1], 1)))\n",
    "model_2conv.add(layers.MaxPool2D((5, 5)))\n",
    "model_2conv.add(layers.Conv2D(20, (20, 5), activation = 'relu'))\n",
    "model_2conv.add(layers.Flatten())\n",
    "model_2conv.add(layers.Dense(16, activation = 'sigmoid'))\n",
    "model_2conv.build()"
   ]
  },
  {
   "cell_type": "code",
   "execution_count": null,
   "id": "66978da2",
   "metadata": {},
   "outputs": [],
   "source": [
    "tf.keras.utils.plot_model(model_2conv, show_shapes = True, show_dtype= True)"
   ]
  },
  {
   "cell_type": "code",
   "execution_count": null,
   "id": "0d0bdf46",
   "metadata": {},
   "outputs": [],
   "source": [
    "model_2conv.summary()"
   ]
  },
  {
   "cell_type": "code",
   "execution_count": null,
   "id": "40757904",
   "metadata": {},
   "outputs": [],
   "source": [
    "test_npy = np.load('../data/_OrchideaSOL2020_release/OrchideaSOL2020/PluckedStrings/Harp/pizzicato_bartok/Hp-pizz_bartok-G3-ff-N-N.npy', \n",
    "allow_pickle = True)"
   ]
  },
  {
   "cell_type": "code",
   "execution_count": null,
   "id": "fd6f324c",
   "metadata": {},
   "outputs": [],
   "source": [
    "test_npy.shape"
   ]
  },
  {
   "cell_type": "code",
   "execution_count": null,
   "id": "08004e6f",
   "metadata": {},
   "outputs": [],
   "source": []
  }
 ],
 "metadata": {
  "kernelspec": {
   "display_name": "Python 3 (ipykernel)",
   "language": "python",
   "name": "python3"
  },
  "language_info": {
   "codemirror_mode": {
    "name": "ipython",
    "version": 3
   },
   "file_extension": ".py",
   "mimetype": "text/x-python",
   "name": "python",
   "nbconvert_exporter": "python",
   "pygments_lexer": "ipython3",
   "version": "3.8.13"
  },
  "vscode": {
   "interpreter": {
    "hash": "d4b3ed6123b24d1be07dc984a4cd0668b04cf02ff0b0af3eabdd70774543141c"
   }
  }
 },
 "nbformat": 4,
 "nbformat_minor": 5
}
