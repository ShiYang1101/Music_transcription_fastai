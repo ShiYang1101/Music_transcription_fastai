{
 "cells": [
  {
   "cell_type": "code",
   "execution_count": 1,
   "id": "56a9db3c",
   "metadata": {},
   "outputs": [
    {
     "name": "stdout",
     "output_type": "stream",
     "text": [
      "/home/shiya/anaconda3/envs/music/bin/python\n"
     ]
    }
   ],
   "source": [
    "!which python"
   ]
  },
  {
   "cell_type": "code",
   "execution_count": 49,
   "id": "ea098a71",
   "metadata": {},
   "outputs": [],
   "source": [
    "import glob\n",
    "import os\n",
    "import random\n",
    "\n",
    "import librosa\n",
    "import librosa.display\n",
    "import matplotlib.pyplot as plt\n",
    "import numpy as np\n",
    "import pandas as pd\n",
    "import scipy.stats\n",
    "import seaborn as sns\n",
    "import tensorflow as tf\n",
    "from sklearn.metrics import classification_report\n",
    "from sklearn.model_selection import train_test_split\n",
    "from tensorflow.keras import datasets, layers, models\n",
    "\n",
    "from spec_generator_sequence import spec_generator\n",
    "from spectrogram_class import spectrogram\n"
   ]
  },
  {
   "cell_type": "markdown",
   "id": "d3acc16d",
   "metadata": {},
   "source": [
    "# Preprocessing \n",
    "\n",
    "This is a successive notebook after the EDA notebooks.\n",
    "\n",
    "After the EDA analysis, we can proceed to perform the preprocessing for audio. We will be working will spectrogram, as a spectrogram contains the spatial and temporal information of a audio files."
   ]
  },
  {
   "cell_type": "markdown",
   "id": "36a170e0",
   "metadata": {},
   "source": [
    "We will be utilizing Librosa package for spectrogram generation and augmentation. For easier implementation, we have defined a spectrogram class to perform all the procedures. Please refer to __spectrogram_class.py__ in the same folder for more information."
   ]
  },
  {
   "cell_type": "code",
   "execution_count": 3,
   "id": "69dee35a",
   "metadata": {},
   "outputs": [
    {
     "data": {
      "text/plain": [
       "spectrogram_class.spectrogram"
      ]
     },
     "execution_count": 3,
     "metadata": {},
     "output_type": "execute_result"
    }
   ],
   "source": [
    "spectrogram"
   ]
  },
  {
   "cell_type": "markdown",
   "id": "1248e602",
   "metadata": {},
   "source": [
    "Let's have a look at what a spectrogram looks like"
   ]
  },
  {
   "cell_type": "code",
   "execution_count": 4,
   "id": "66a1c2a1",
   "metadata": {},
   "outputs": [
    {
     "name": "stdout",
     "output_type": "stream",
     "text": [
      "[PhysicalDevice(name='/physical_device:GPU:0', device_type='GPU')]\n"
     ]
    },
    {
     "name": "stderr",
     "output_type": "stream",
     "text": [
      "2022-08-05 22:38:06.232805: I tensorflow/stream_executor/cuda/cuda_gpu_executor.cc:975] successful NUMA node read from SysFS had negative value (-1), but there must be at least one NUMA node, so returning NUMA node zero\n",
      "2022-08-05 22:38:06.239035: I tensorflow/stream_executor/cuda/cuda_gpu_executor.cc:975] successful NUMA node read from SysFS had negative value (-1), but there must be at least one NUMA node, so returning NUMA node zero\n",
      "2022-08-05 22:38:06.239835: I tensorflow/stream_executor/cuda/cuda_gpu_executor.cc:975] successful NUMA node read from SysFS had negative value (-1), but there must be at least one NUMA node, so returning NUMA node zero\n"
     ]
    }
   ],
   "source": [
    "print(tf.config.list_physical_devices('GPU'))"
   ]
  },
  {
   "cell_type": "code",
   "execution_count": 5,
   "id": "b0954646",
   "metadata": {},
   "outputs": [],
   "source": [
    "hop_length = 4096\n",
    "win_length = 1024\n",
    "n_fft = 1024"
   ]
  },
  {
   "cell_type": "markdown",
   "id": "4ded2431",
   "metadata": {},
   "source": [
    "We have randomly picked a audio file in OrchideaSOL to showcase the spectrogram."
   ]
  },
  {
   "cell_type": "code",
   "execution_count": 6,
   "id": "aac2bb31",
   "metadata": {
    "scrolled": true
   },
   "outputs": [
    {
     "name": "stdout",
     "output_type": "stream",
     "text": [
      "CPU times: user 63.1 ms, sys: 102 ms, total: 165 ms\n",
      "Wall time: 358 ms\n"
     ]
    },
    {
     "data": {
      "text/plain": [
       "spectrogram_class.spectrogram"
      ]
     },
     "execution_count": 6,
     "metadata": {},
     "output_type": "execute_result"
    }
   ],
   "source": [
    "%%time\n",
    "test_spec = spectrogram('PluckedStrings/Harp/pizzicato_bartok/Hp-pizz_bartok-G3-ff-N-N.wav', preprocess = False, \n",
    "                           trunc_off = True)\n",
    "\n",
    "# To demonstrate that the test_spec is an instance on our custom defined class\n",
    "# let's check its type!\n",
    "type(test_spec)"
   ]
  },
  {
   "cell_type": "markdown",
   "id": "716c3242",
   "metadata": {},
   "source": [
    "We have a support function in the class to help us visualized the spectrogram, now let's have a look at what a harps looks like in spectrogram"
   ]
  },
  {
   "cell_type": "code",
   "execution_count": 7,
   "id": "b064f643",
   "metadata": {
    "scrolled": true
   },
   "outputs": [
    {
     "data": {
      "image/png": "[encoded data removed]",
      "text/plain": [
       "<Figure size 432x288 with 2 Axes>"
      ]
     },
     "metadata": {
      "needs_background": "light"
     },
     "output_type": "display_data"
    }
   ],
   "source": [
    "test_spec.plot_spec() "
   ]
  },
  {
   "cell_type": "markdown",
   "id": "fcfeb9df",
   "metadata": {},
   "source": [
    "Now I owe you some explanation, why am I showing you this? There are some important points to observe:\n",
    "\n",
    "> You probably heard about the relation between a note and its soundwave frequency, for example, in piano the middle G3 note corresponds to 196 HZ. But we are not exactly seeing one horizontal line on 196 HZ. Why is that? The main reason is that the magnitude of sound wave/magnitude is additive! Let's have a closer look:\n",
    "\n",
    "<div>\n",
    "<img src=\"sound_addition.png\" width=\"700\"/>\n",
    "</div>\n",
    "\n",
    "(screenshot captured from our lord and savior, [3Blue1Brown](https://www.youtube.com/channel/UCYO_jab_esuFRV4b17AJtAw).\n",
    "\n",
    "> Althought the resulting soundwave is of frequency of 196 HZ, it is actually a combination of soundwave of different frequencies. This is exactly the same note for piano and violin sounds different! Imagine a world where a ***tuba, harp, tuna and your cat*** sound the same, what a horrible world...\n",
    "\n",
    "---\n",
    "\n",
    "This is actually why throughout the project, we have decided to use neural network to perform the music transcription, a convolutional network or RNN are able to capture the feature between spatial and temporal information across the spectrogram.\n",
    "\n",
    "<div>\n",
    "<img src=\"cnn.webp\" width=\"400\"/>\n",
    "</div>\n",
    "\n",
    "(A demonstration of how a CNN is [able to capture different features on a face in different layers](https://www.kdnuggets.com/2016/11/intuitive-explanation-convolutional-neural-networks.html/3).)"
   ]
  },
  {
   "cell_type": "markdown",
   "id": "026ce0a0",
   "metadata": {},
   "source": [
    "But before we can use the dataset into directly, we have to consider about the data augmentation. Our model should be able to perform tasks include:\n",
    "\n",
    "* Transcribe music in a noisy environment\n",
    "* Transcribe music is moderate data loss\n",
    "* Still be able to tell both audio files contain violins, although the violins have different sound signature\n",
    "\n",
    "But how can our model learn these difference if our data is perfectly clean, and only contain audio files from the same instruments. That is where data augmentation comes in."
   ]
  },
  {
   "cell_type": "markdown",
   "id": "5ddf5086",
   "metadata": {},
   "source": [
    "## Data augmentation"
   ]
  },
  {
   "cell_type": "markdown",
   "id": "7474bcce",
   "metadata": {},
   "source": [
    "We have to augmentate our data so that our training dataset match the scenario above. To achieve this, we have decided to add noise, masking and shifting to the spectrogram.\n",
    "\n",
    "All of these function had been defined under the spectrogram class. Now let's try to visualize this."
   ]
  },
  {
   "cell_type": "markdown",
   "id": "2a01c1a7",
   "metadata": {},
   "source": [
    "### Adding noise"
   ]
  },
  {
   "cell_type": "markdown",
   "id": "c5ef7e72",
   "metadata": {},
   "source": [
    "Remeber this is how our signal and spectrogram for harps looks like:"
   ]
  },
  {
   "cell_type": "code",
   "execution_count": 8,
   "id": "0a6bec34",
   "metadata": {},
   "outputs": [],
   "source": [
    "def plt_signal_spec(spec, xlim = None):\n",
    "    fig = plt.figure(figsize = (14, 6))\n",
    "    ax_1 = fig.add_subplot(121)\n",
    "    ax_1.plot(spec.signal)\n",
    "    if xlim:\n",
    "        ax_1.set_xlim((0, xlim))\n",
    "    \n",
    "    ax_2 = fig.add_subplot(122)\n",
    "    spec.plot_spec(ax = ax_2, db_off = True)\n",
    "    if xlim:\n",
    "        ax_2.set_xlim((0, xlim))\n",
    "    plt.show()"
   ]
  },
  {
   "cell_type": "code",
   "execution_count": 9,
   "id": "2e142433",
   "metadata": {},
   "outputs": [
    {
     "data": {
      "image/png": "[encoded data removed]",
      "text/plain": [
       "<Figure size 1008x432 with 2 Axes>"
      ]
     },
     "metadata": {
      "needs_background": "light"
     },
     "output_type": "display_data"
    }
   ],
   "source": [
    "plt_signal_spec(test_spec, xlim = 2000)"
   ]
  },
  {
   "cell_type": "markdown",
   "id": "16c810b4",
   "metadata": {},
   "source": [
    "The figure on the left is the signal directly converted from raw audio file, which represents the magnitude/pressure of the recorded audio. Whereas the figure on the right is the corresponding converted spectrogram."
   ]
  },
  {
   "cell_type": "markdown",
   "id": "015c3763",
   "metadata": {},
   "source": [
    "We will then add random noise to the signal, before converting to the spectrogram, the signal is added based on the normal distribution of the maximum value of the signal."
   ]
  },
  {
   "cell_type": "code",
   "execution_count": 10,
   "id": "77fcd2b0",
   "metadata": {},
   "outputs": [],
   "source": [
    "test_spec_noise = spectrogram('PluckedStrings/Harp/pizzicato_bartok/Hp-pizz_bartok-G3-ff-N-N.wav', preprocess = False, \n",
    "                           trunc_off = True)\n",
    "test_spec_noise.add_noise(noise_factor = 0.2)"
   ]
  },
  {
   "cell_type": "code",
   "execution_count": 11,
   "id": "685c0b2d",
   "metadata": {},
   "outputs": [
    {
     "data": {
      "image/png": "[encoded data removed]",
      "text/plain": [
       "<Figure size 1008x432 with 2 Axes>"
      ]
     },
     "metadata": {
      "needs_background": "light"
     },
     "output_type": "display_data"
    }
   ],
   "source": [
    "plt_signal_spec(test_spec_noise, xlim = 2000)"
   ]
  },
  {
   "cell_type": "markdown",
   "id": "be0346d6",
   "metadata": {},
   "source": [
    "Now there is some fuzziness going on in the signal! However, since the magnitude of the mel spectrogram is log scaled, it isn't obvious in the right figure. \n",
    "\n",
    "> Note that the in practice, we don't add so much fuzziness in our training, the increased noise factor is for demonstration purpose only."
   ]
  },
  {
   "cell_type": "markdown",
   "id": "278623b3",
   "metadata": {},
   "source": [
    "### Spectrogram masking\n",
    "\n",
    "Another technique we used is the spectrogram masking, the masking function will randomly set the magnitude of spectrogram into 0, across the time and frequency of the spectrogram. "
   ]
  },
  {
   "cell_type": "code",
   "execution_count": 12,
   "id": "30be100f",
   "metadata": {},
   "outputs": [],
   "source": [
    "test_spec_mask = spectrogram('PluckedStrings/Harp/pizzicato_bartok/Hp-pizz_bartok-G3-ff-N-N.wav', preprocess = False, \n",
    "                           trunc_off = True)\n",
    "test_spec_mask.mask_spec()"
   ]
  },
  {
   "cell_type": "code",
   "execution_count": 13,
   "id": "e00ddd3b",
   "metadata": {},
   "outputs": [
    {
     "data": {
      "image/png": "[encoded data removed]",
      "text/plain": [
       "<Figure size 1008x432 with 2 Axes>"
      ]
     },
     "metadata": {
      "needs_background": "light"
     },
     "output_type": "display_data"
    }
   ],
   "source": [
    "plt_signal_spec(test_spec_mask, xlim = 2000)"
   ]
  },
  {
   "cell_type": "markdown",
   "id": "f5ea0687",
   "metadata": {},
   "source": [
    "Note how we have remove chunks of the frequency and time dimension of the spectrogram. If it's not, run a few more time, it's random anyway."
   ]
  },
  {
   "cell_type": "markdown",
   "id": "21bae044",
   "metadata": {},
   "source": [
    "### Spectrogram shifting \n",
    "\n",
    "Since in our audio files, the recording always starts at the beginning, and there is always a few seconds of silence before the recording ends, we will need to shift the spectrogram, so that the machine learning models doesn't depends too much on the beginning of the time slices."
   ]
  },
  {
   "cell_type": "code",
   "execution_count": 14,
   "id": "a61e09b8",
   "metadata": {},
   "outputs": [],
   "source": [
    "test_spec_shift = spectrogram('PluckedStrings/Harp/pizzicato_bartok/Hp-pizz_bartok-G3-ff-N-N.wav', preprocess = False, \n",
    "                           trunc_off = True)\n",
    "test_spec_shift.shift_spec(max_sec = 5)"
   ]
  },
  {
   "cell_type": "code",
   "execution_count": 15,
   "id": "257a25e6",
   "metadata": {},
   "outputs": [
    {
     "data": {
      "image/png": "[encoded data removed]",
      "text/plain": [
       "<Figure size 1008x432 with 2 Axes>"
      ]
     },
     "metadata": {
      "needs_background": "light"
     },
     "output_type": "display_data"
    }
   ],
   "source": [
    "plt_signal_spec(test_spec_shift, xlim = 2000)"
   ]
  },
  {
   "cell_type": "markdown",
   "id": "84e77f79",
   "metadata": {},
   "source": [
    "Note the now the spectrogram is now shift to the right of time, we have set the maximum time it can shift for 5 seconds for demonstration purpose."
   ]
  },
  {
   "cell_type": "markdown",
   "id": "9d300e42",
   "metadata": {},
   "source": [
    "### Spectrogram truncation\n",
    "\n",
    "Since we have audio files of different length, we will need to preprocess it in a way that all of the sample have the same dimension as a numpy array. To do this we will simply be padding the numpy array as zeros, or trimming the last few seconds of the recording. The truncation is applied by default when the spectrogram class initialization is called."
   ]
  },
  {
   "cell_type": "markdown",
   "id": "d81c7c50",
   "metadata": {},
   "source": [
    "Now to get the size of our input (to be fed into the model), we wil simply run a sample, and acquire the shape from the numpy array."
   ]
  },
  {
   "cell_type": "code",
   "execution_count": 16,
   "id": "1cecb6f4",
   "metadata": {},
   "outputs": [
    {
     "name": "stdout",
     "output_type": "stream",
     "text": [
      "CPU times: user 145 ms, sys: 156 ms, total: 301 ms\n",
      "Wall time: 433 ms\n"
     ]
    }
   ],
   "source": [
    "%%time\n",
    "sample = spectrogram('PluckedStrings/Harp/pizzicato_bartok/Hp-pizz_bartok-G3-ff-N-N.wav', \n",
    "                    hop_length = hop_length, n_mels = 512,\n",
    "                    n_fft = n_fft)"
   ]
  },
  {
   "cell_type": "code",
   "execution_count": 17,
   "id": "61127e97",
   "metadata": {
    "scrolled": true
   },
   "outputs": [
    {
     "data": {
      "text/plain": [
       "(512, 500)"
      ]
     },
     "execution_count": 17,
     "metadata": {},
     "output_type": "execute_result"
    }
   ],
   "source": [
    "spec_shape = sample.spec.shape\n",
    "spec_shape"
   ]
  },
  {
   "cell_type": "markdown",
   "id": "4409c16d",
   "metadata": {},
   "source": [
    "Now that we have the spectrogram ready for out training, we can use the instrument and pitch data in the metadata dataframe."
   ]
  },
  {
   "cell_type": "code",
   "execution_count": 18,
   "id": "6c1a2068",
   "metadata": {},
   "outputs": [
    {
     "data": {
      "text/html": [
       "<div>\n",
       "<style scoped>\n",
       "    .dataframe tbody tr th:only-of-type {\n",
       "        vertical-align: middle;\n",
       "    }\n",
       "\n",
       "    .dataframe tbody tr th {\n",
       "        vertical-align: top;\n",
       "    }\n",
       "\n",
       "    .dataframe thead th {\n",
       "        text-align: right;\n",
       "    }\n",
       "</style>\n",
       "<table border=\"1\" class=\"dataframe\">\n",
       "  <thead>\n",
       "    <tr style=\"text-align: right;\">\n",
       "      <th></th>\n",
       "      <th>Path</th>\n",
       "      <th>Family (abbr.)</th>\n",
       "      <th>Family (in full)</th>\n",
       "      <th>Instrument (abbr.)</th>\n",
       "      <th>Instrument (in full)</th>\n",
       "      <th>Technique (abbr.)</th>\n",
       "      <th>Technique (in full)</th>\n",
       "      <th>Pitch</th>\n",
       "      <th>Pitch ID (if applicable)</th>\n",
       "      <th>Dynamics</th>\n",
       "      <th>Dynamics ID (if applicable)</th>\n",
       "      <th>Instance ID</th>\n",
       "      <th>Mute (abbr.)</th>\n",
       "      <th>Mute (in full)</th>\n",
       "      <th>String ID (if applicable)</th>\n",
       "      <th>Needed digital retuning</th>\n",
       "      <th>Fold</th>\n",
       "    </tr>\n",
       "  </thead>\n",
       "  <tbody>\n",
       "    <tr>\n",
       "      <th>0</th>\n",
       "      <td>Brass/Bass_Tuba+sordina/ordinario/BTb+S-ord-A#...</td>\n",
       "      <td>Brass</td>\n",
       "      <td>Brass</td>\n",
       "      <td>BTb</td>\n",
       "      <td>Bass Tuba</td>\n",
       "      <td>ord</td>\n",
       "      <td>ordinario</td>\n",
       "      <td>A#0</td>\n",
       "      <td>22.0</td>\n",
       "      <td>f</td>\n",
       "      <td>3.0</td>\n",
       "      <td>0.0</td>\n",
       "      <td>S</td>\n",
       "      <td>Sordina</td>\n",
       "      <td>NaN</td>\n",
       "      <td>False</td>\n",
       "      <td>2</td>\n",
       "    </tr>\n",
       "    <tr>\n",
       "      <th>1</th>\n",
       "      <td>Brass/Bass_Tuba+sordina/ordinario/BTb+S-ord-A#...</td>\n",
       "      <td>Brass</td>\n",
       "      <td>Brass</td>\n",
       "      <td>BTb</td>\n",
       "      <td>Bass Tuba</td>\n",
       "      <td>ord</td>\n",
       "      <td>ordinario</td>\n",
       "      <td>A#0</td>\n",
       "      <td>22.0</td>\n",
       "      <td>p</td>\n",
       "      <td>1.0</td>\n",
       "      <td>0.0</td>\n",
       "      <td>S</td>\n",
       "      <td>Sordina</td>\n",
       "      <td>NaN</td>\n",
       "      <td>True</td>\n",
       "      <td>0</td>\n",
       "    </tr>\n",
       "    <tr>\n",
       "      <th>2</th>\n",
       "      <td>Brass/Bass_Tuba+sordina/ordinario/BTb+S-ord-A#...</td>\n",
       "      <td>Brass</td>\n",
       "      <td>Brass</td>\n",
       "      <td>BTb</td>\n",
       "      <td>Bass Tuba</td>\n",
       "      <td>ord</td>\n",
       "      <td>ordinario</td>\n",
       "      <td>A#1</td>\n",
       "      <td>34.0</td>\n",
       "      <td>f</td>\n",
       "      <td>3.0</td>\n",
       "      <td>0.0</td>\n",
       "      <td>S</td>\n",
       "      <td>Sordina</td>\n",
       "      <td>NaN</td>\n",
       "      <td>True</td>\n",
       "      <td>1</td>\n",
       "    </tr>\n",
       "    <tr>\n",
       "      <th>3</th>\n",
       "      <td>Brass/Bass_Tuba+sordina/ordinario/BTb+S-ord-A#...</td>\n",
       "      <td>Brass</td>\n",
       "      <td>Brass</td>\n",
       "      <td>BTb</td>\n",
       "      <td>Bass Tuba</td>\n",
       "      <td>ord</td>\n",
       "      <td>ordinario</td>\n",
       "      <td>A#1</td>\n",
       "      <td>34.0</td>\n",
       "      <td>p</td>\n",
       "      <td>1.0</td>\n",
       "      <td>0.0</td>\n",
       "      <td>S</td>\n",
       "      <td>Sordina</td>\n",
       "      <td>NaN</td>\n",
       "      <td>True</td>\n",
       "      <td>2</td>\n",
       "    </tr>\n",
       "    <tr>\n",
       "      <th>4</th>\n",
       "      <td>Brass/Bass_Tuba+sordina/ordinario/BTb+S-ord-A#...</td>\n",
       "      <td>Brass</td>\n",
       "      <td>Brass</td>\n",
       "      <td>BTb</td>\n",
       "      <td>Bass Tuba</td>\n",
       "      <td>ord</td>\n",
       "      <td>ordinario</td>\n",
       "      <td>A#2</td>\n",
       "      <td>46.0</td>\n",
       "      <td>f</td>\n",
       "      <td>3.0</td>\n",
       "      <td>0.0</td>\n",
       "      <td>S</td>\n",
       "      <td>Sordina</td>\n",
       "      <td>NaN</td>\n",
       "      <td>True</td>\n",
       "      <td>1</td>\n",
       "    </tr>\n",
       "  </tbody>\n",
       "</table>\n",
       "</div>"
      ],
      "text/plain": [
       "                                                Path Family (abbr.)  \\\n",
       "0  Brass/Bass_Tuba+sordina/ordinario/BTb+S-ord-A#...          Brass   \n",
       "1  Brass/Bass_Tuba+sordina/ordinario/BTb+S-ord-A#...          Brass   \n",
       "2  Brass/Bass_Tuba+sordina/ordinario/BTb+S-ord-A#...          Brass   \n",
       "3  Brass/Bass_Tuba+sordina/ordinario/BTb+S-ord-A#...          Brass   \n",
       "4  Brass/Bass_Tuba+sordina/ordinario/BTb+S-ord-A#...          Brass   \n",
       "\n",
       "  Family (in full) Instrument (abbr.) Instrument (in full) Technique (abbr.)  \\\n",
       "0            Brass                BTb            Bass Tuba               ord   \n",
       "1            Brass                BTb            Bass Tuba               ord   \n",
       "2            Brass                BTb            Bass Tuba               ord   \n",
       "3            Brass                BTb            Bass Tuba               ord   \n",
       "4            Brass                BTb            Bass Tuba               ord   \n",
       "\n",
       "  Technique (in full) Pitch  Pitch ID (if applicable) Dynamics  \\\n",
       "0           ordinario   A#0                      22.0        f   \n",
       "1           ordinario   A#0                      22.0        p   \n",
       "2           ordinario   A#1                      34.0        f   \n",
       "3           ordinario   A#1                      34.0        p   \n",
       "4           ordinario   A#2                      46.0        f   \n",
       "\n",
       "   Dynamics ID (if applicable)  Instance ID Mute (abbr.) Mute (in full)  \\\n",
       "0                          3.0          0.0            S        Sordina   \n",
       "1                          1.0          0.0            S        Sordina   \n",
       "2                          3.0          0.0            S        Sordina   \n",
       "3                          1.0          0.0            S        Sordina   \n",
       "4                          3.0          0.0            S        Sordina   \n",
       "\n",
       "   String ID (if applicable)  Needed digital retuning  Fold  \n",
       "0                        NaN                    False     2  \n",
       "1                        NaN                     True     0  \n",
       "2                        NaN                     True     1  \n",
       "3                        NaN                     True     2  \n",
       "4                        NaN                     True     1  "
      ]
     },
     "execution_count": 18,
     "metadata": {},
     "output_type": "execute_result"
    }
   ],
   "source": [
    "meta_df = pd.read_csv('../data/OrchideaSOL_metadata.csv')\n",
    "meta_df.head()"
   ]
  },
  {
   "cell_type": "code",
   "execution_count": 19,
   "id": "e41bd573",
   "metadata": {},
   "outputs": [
    {
     "name": "stdout",
     "output_type": "stream",
     "text": [
      "<class 'pandas.core.frame.DataFrame'>\n",
      "RangeIndex: 13265 entries, 0 to 13264\n",
      "Data columns (total 17 columns):\n",
      " #   Column                       Non-Null Count  Dtype  \n",
      "---  ------                       --------------  -----  \n",
      " 0   Path                         13265 non-null  object \n",
      " 1   Family (abbr.)               13265 non-null  object \n",
      " 2   Family (in full)             13265 non-null  object \n",
      " 3   Instrument (abbr.)           13265 non-null  object \n",
      " 4   Instrument (in full)         13265 non-null  object \n",
      " 5   Technique (abbr.)            13265 non-null  object \n",
      " 6   Technique (in full)          13265 non-null  object \n",
      " 7   Pitch                        13265 non-null  object \n",
      " 8   Pitch ID (if applicable)     13162 non-null  float64\n",
      " 9   Dynamics                     13265 non-null  object \n",
      " 10  Dynamics ID (if applicable)  12646 non-null  float64\n",
      " 11  Instance ID                  13262 non-null  float64\n",
      " 12  Mute (abbr.)                 13265 non-null  object \n",
      " 13  Mute (in full)               13265 non-null  object \n",
      " 14  String ID (if applicable)    7516 non-null   float64\n",
      " 15  Needed digital retuning      13265 non-null  bool   \n",
      " 16  Fold                         13265 non-null  int64  \n",
      "dtypes: bool(1), float64(4), int64(1), object(11)\n",
      "memory usage: 1.6+ MB\n"
     ]
    }
   ],
   "source": [
    "meta_df.info()"
   ]
  },
  {
   "cell_type": "code",
   "execution_count": 20,
   "id": "b5f89a4f",
   "metadata": {},
   "outputs": [
    {
     "data": {
      "text/html": [
       "<div>\n",
       "<style scoped>\n",
       "    .dataframe tbody tr th:only-of-type {\n",
       "        vertical-align: middle;\n",
       "    }\n",
       "\n",
       "    .dataframe tbody tr th {\n",
       "        vertical-align: top;\n",
       "    }\n",
       "\n",
       "    .dataframe thead th {\n",
       "        text-align: right;\n",
       "    }\n",
       "</style>\n",
       "<table border=\"1\" class=\"dataframe\">\n",
       "  <thead>\n",
       "    <tr style=\"text-align: right;\">\n",
       "      <th></th>\n",
       "      <th>Pitch ID (if applicable)</th>\n",
       "      <th>Dynamics ID (if applicable)</th>\n",
       "      <th>Instance ID</th>\n",
       "      <th>String ID (if applicable)</th>\n",
       "      <th>Fold</th>\n",
       "    </tr>\n",
       "  </thead>\n",
       "  <tbody>\n",
       "    <tr>\n",
       "      <th>count</th>\n",
       "      <td>13162.000000</td>\n",
       "      <td>12646.000000</td>\n",
       "      <td>13262.000000</td>\n",
       "      <td>7516.000000</td>\n",
       "      <td>13265.000000</td>\n",
       "    </tr>\n",
       "    <tr>\n",
       "      <th>mean</th>\n",
       "      <td>63.842653</td>\n",
       "      <td>2.073857</td>\n",
       "      <td>0.848138</td>\n",
       "      <td>2.360298</td>\n",
       "      <td>2.000000</td>\n",
       "    </tr>\n",
       "    <tr>\n",
       "      <th>std</th>\n",
       "      <td>16.512067</td>\n",
       "      <td>1.329919</td>\n",
       "      <td>1.177874</td>\n",
       "      <td>1.196041</td>\n",
       "      <td>1.414267</td>\n",
       "    </tr>\n",
       "    <tr>\n",
       "      <th>min</th>\n",
       "      <td>20.000000</td>\n",
       "      <td>0.000000</td>\n",
       "      <td>0.000000</td>\n",
       "      <td>1.000000</td>\n",
       "      <td>0.000000</td>\n",
       "    </tr>\n",
       "    <tr>\n",
       "      <th>25%</th>\n",
       "      <td>52.000000</td>\n",
       "      <td>2.000000</td>\n",
       "      <td>0.000000</td>\n",
       "      <td>1.000000</td>\n",
       "      <td>1.000000</td>\n",
       "    </tr>\n",
       "    <tr>\n",
       "      <th>50%</th>\n",
       "      <td>64.000000</td>\n",
       "      <td>2.000000</td>\n",
       "      <td>0.000000</td>\n",
       "      <td>2.000000</td>\n",
       "      <td>2.000000</td>\n",
       "    </tr>\n",
       "    <tr>\n",
       "      <th>75%</th>\n",
       "      <td>76.000000</td>\n",
       "      <td>3.000000</td>\n",
       "      <td>2.000000</td>\n",
       "      <td>3.000000</td>\n",
       "      <td>3.000000</td>\n",
       "    </tr>\n",
       "    <tr>\n",
       "      <th>max</th>\n",
       "      <td>109.000000</td>\n",
       "      <td>4.000000</td>\n",
       "      <td>12.000000</td>\n",
       "      <td>6.000000</td>\n",
       "      <td>4.000000</td>\n",
       "    </tr>\n",
       "  </tbody>\n",
       "</table>\n",
       "</div>"
      ],
      "text/plain": [
       "       Pitch ID (if applicable)  Dynamics ID (if applicable)   Instance ID  \\\n",
       "count              13162.000000                 12646.000000  13262.000000   \n",
       "mean                  63.842653                     2.073857      0.848138   \n",
       "std                   16.512067                     1.329919      1.177874   \n",
       "min                   20.000000                     0.000000      0.000000   \n",
       "25%                   52.000000                     2.000000      0.000000   \n",
       "50%                   64.000000                     2.000000      0.000000   \n",
       "75%                   76.000000                     3.000000      2.000000   \n",
       "max                  109.000000                     4.000000     12.000000   \n",
       "\n",
       "       String ID (if applicable)          Fold  \n",
       "count                7516.000000  13265.000000  \n",
       "mean                    2.360298      2.000000  \n",
       "std                     1.196041      1.414267  \n",
       "min                     1.000000      0.000000  \n",
       "25%                     1.000000      1.000000  \n",
       "50%                     2.000000      2.000000  \n",
       "75%                     3.000000      3.000000  \n",
       "max                     6.000000      4.000000  "
      ]
     },
     "execution_count": 20,
     "metadata": {},
     "output_type": "execute_result"
    }
   ],
   "source": [
    "meta_df.describe()"
   ]
  },
  {
   "cell_type": "code",
   "execution_count": 21,
   "id": "2fe926fd",
   "metadata": {
    "scrolled": false
   },
   "outputs": [
    {
     "data": {
      "text/plain": [
       "Path                              0\n",
       "Family (abbr.)                    0\n",
       "Family (in full)                  0\n",
       "Instrument (abbr.)                0\n",
       "Instrument (in full)              0\n",
       "Technique (abbr.)                 0\n",
       "Technique (in full)               0\n",
       "Pitch                             0\n",
       "Pitch ID (if applicable)        103\n",
       "Dynamics                          0\n",
       "Dynamics ID (if applicable)     619\n",
       "Instance ID                       3\n",
       "Mute (abbr.)                      0\n",
       "Mute (in full)                    0\n",
       "String ID (if applicable)      5749\n",
       "Needed digital retuning           0\n",
       "Fold                              0\n",
       "dtype: int64"
      ]
     },
     "execution_count": 21,
     "metadata": {},
     "output_type": "execute_result"
    }
   ],
   "source": [
    "meta_df.isnull().sum()"
   ]
  },
  {
   "cell_type": "code",
   "execution_count": 22,
   "id": "4330c641",
   "metadata": {},
   "outputs": [
    {
     "data": {
      "text/plain": [
       "Violin            1987\n",
       "Viola             1952\n",
       "Contrabass        1636\n",
       "Cello             1593\n",
       "Accordion          872\n",
       "Trombone           670\n",
       "Trumpet in C       590\n",
       "French Horn        589\n",
       "Flute              529\n",
       "Harp               507\n",
       "Bass Tuba          500\n",
       "Clarinet in Bb     406\n",
       "Alto Saxophone     377\n",
       "Bassoon            358\n",
       "Guitar             353\n",
       "Oboe               346\n",
       "Name: Instrument (in full), dtype: int64"
      ]
     },
     "execution_count": 22,
     "metadata": {},
     "output_type": "execute_result"
    }
   ],
   "source": [
    "meta_df['Instrument (in full)'].value_counts()"
   ]
  },
  {
   "cell_type": "markdown",
   "id": "42797df5",
   "metadata": {},
   "source": [
    "We don'really care about the pitchID, Dynamics Id and String ID."
   ]
  },
  {
   "cell_type": "code",
   "execution_count": null,
   "id": "715cdca8",
   "metadata": {},
   "outputs": [],
   "source": []
  },
  {
   "cell_type": "markdown",
   "id": "c7b7ae9d",
   "metadata": {},
   "source": [
    "We can see some degree of bias in the instrument classes."
   ]
  },
  {
   "cell_type": "markdown",
   "id": "f7046ee7",
   "metadata": {},
   "source": [
    "## First baseline model is to predict the instrument present in the audio file.\n"
   ]
  },
  {
   "cell_type": "code",
   "execution_count": 23,
   "id": "d225410a",
   "metadata": {},
   "outputs": [],
   "source": [
    "train_df, test_df = train_test_split(meta_df, train_size = 0.7, random_state = 42)"
   ]
  },
  {
   "cell_type": "code",
   "execution_count": 24,
   "id": "bc6c8812",
   "metadata": {},
   "outputs": [
    {
     "name": "stdout",
     "output_type": "stream",
     "text": [
      "The number of rows for the training data is  9285\n",
      "The number of rows for the test data is  3980\n"
     ]
    }
   ],
   "source": [
    "print('The number of rows for the training data is ', train_df.shape[0])\n",
    "print('The number of rows for the test data is ', test_df.shape[0])"
   ]
  },
  {
   "cell_type": "code",
   "execution_count": 25,
   "id": "08eaebd5",
   "metadata": {},
   "outputs": [
    {
     "name": "stderr",
     "output_type": "stream",
     "text": [
      "2022-08-05 22:38:12.127129: I tensorflow/core/platform/cpu_feature_guard.cc:193] This TensorFlow binary is optimized with oneAPI Deep Neural Network Library (oneDNN) to use the following CPU instructions in performance-critical operations:  AVX2 FMA\n",
      "To enable them in other operations, rebuild TensorFlow with the appropriate compiler flags.\n",
      "2022-08-05 22:38:12.127905: I tensorflow/stream_executor/cuda/cuda_gpu_executor.cc:975] successful NUMA node read from SysFS had negative value (-1), but there must be at least one NUMA node, so returning NUMA node zero\n",
      "2022-08-05 22:38:12.128706: I tensorflow/stream_executor/cuda/cuda_gpu_executor.cc:975] successful NUMA node read from SysFS had negative value (-1), but there must be at least one NUMA node, so returning NUMA node zero\n",
      "2022-08-05 22:38:12.129253: I tensorflow/stream_executor/cuda/cuda_gpu_executor.cc:975] successful NUMA node read from SysFS had negative value (-1), but there must be at least one NUMA node, so returning NUMA node zero\n",
      "2022-08-05 22:38:12.796810: I tensorflow/stream_executor/cuda/cuda_gpu_executor.cc:975] successful NUMA node read from SysFS had negative value (-1), but there must be at least one NUMA node, so returning NUMA node zero\n",
      "2022-08-05 22:38:12.797345: I tensorflow/stream_executor/cuda/cuda_gpu_executor.cc:975] successful NUMA node read from SysFS had negative value (-1), but there must be at least one NUMA node, so returning NUMA node zero\n",
      "2022-08-05 22:38:12.797825: I tensorflow/stream_executor/cuda/cuda_gpu_executor.cc:975] successful NUMA node read from SysFS had negative value (-1), but there must be at least one NUMA node, so returning NUMA node zero\n",
      "2022-08-05 22:38:12.798114: I tensorflow/core/common_runtime/gpu/gpu_device.cc:1532] Created device /job:localhost/replica:0/task:0/device:GPU:0 with 3370 MB memory:  -> device: 0, name: NVIDIA GeForce GTX 1050, pci bus id: 0000:01:00.0, compute capability: 6.1\n"
     ]
    }
   ],
   "source": [
    "BATCH_SIZE = 32\n",
    "\n",
    "train_generator = tf.data.Dataset.from_generator(lambda: spec_generator(train_df, BATCH_SIZE, \n",
    "                    add_channel = True, live_generation = True), \n",
    "                    output_types=(tf.float32, tf.int32),\n",
    "                    output_shapes = ((BATCH_SIZE, spec_shape[0], spec_shape[1], 1), \n",
    "                    (BATCH_SIZE, 16))).prefetch(5)\n",
    "eval_generator = tf.data.Dataset.from_generator(lambda: spec_generator(test_df, BATCH_SIZE, \n",
    "                    add_channel = True, live_generation = True,), \n",
    "                    output_types=(tf.float32, tf.int32), \n",
    "                    output_shapes = ((BATCH_SIZE, spec_shape[0], spec_shape[1], 1), \n",
    "                    (BATCH_SIZE, 16))).prefetch(5)\n"
   ]
  },
  {
   "cell_type": "code",
   "execution_count": 26,
   "id": "ab59b4e8",
   "metadata": {},
   "outputs": [
    {
     "data": {
      "text/plain": [
       "<PrefetchDataset element_spec=(TensorSpec(shape=(32, 512, 500, 1), dtype=tf.float32, name=None), TensorSpec(shape=(32, 16), dtype=tf.int32, name=None))>"
      ]
     },
     "execution_count": 26,
     "metadata": {},
     "output_type": "execute_result"
    }
   ],
   "source": [
    "train_generator"
   ]
  },
  {
   "cell_type": "code",
   "execution_count": 27,
   "id": "b8cccdb9",
   "metadata": {},
   "outputs": [],
   "source": [
    "model = models.Sequential()\n",
    "model.add(layers.InputLayer((spec_shape[0], spec_shape[1], 1), batch_size = BATCH_SIZE, \n",
    "                                    dtype = tf.float32))\n",
    "model.add(layers.Conv2D(15, (15, 200), strides=(10, 10), activation='relu'))\n",
    "# , input_shape = (spec_shape[0], spec_shape[1], 1)))\n",
    "model.add(layers.MaxPool2D((5, 2)))\n",
    "model.add(layers.Flatten())\n",
    "model.add(layers.Dense(16, activation = 'sigmoid'))\n",
    "model.build()"
   ]
  },
  {
   "cell_type": "code",
   "execution_count": 28,
   "id": "c6724dbb",
   "metadata": {},
   "outputs": [
    {
     "data": {
      "image/png": "[encoded data removed]",
      "text/plain": [
       "<IPython.core.display.Image object>"
      ]
     },
     "execution_count": 28,
     "metadata": {},
     "output_type": "execute_result"
    }
   ],
   "source": [
    "tf.keras.utils.plot_model(model, show_shapes = True, show_dtype= True)"
   ]
  },
  {
   "cell_type": "code",
   "execution_count": 29,
   "id": "16fd8a29",
   "metadata": {},
   "outputs": [
    {
     "name": "stdout",
     "output_type": "stream",
     "text": [
      "[]\n"
     ]
    }
   ],
   "source": [
    "model.compile(optimizer=tf.keras.optimizers.Adam(learning_rate=0.0005),\n",
    "              loss=tf.keras.losses.BinaryCrossentropy(),\n",
    "              metrics=['accuracy'])\n",
    "print(model.metrics)"
   ]
  },
  {
   "cell_type": "code",
   "execution_count": 30,
   "id": "bd24b36d",
   "metadata": {},
   "outputs": [
    {
     "name": "stdout",
     "output_type": "stream",
     "text": [
      "Model: \"sequential\"\n",
      "_________________________________________________________________\n",
      " Layer (type)                Output Shape              Param #   \n",
      "=================================================================\n",
      " conv2d (Conv2D)             (32, 50, 31, 15)          45015     \n",
      "                                                                 \n",
      " max_pooling2d (MaxPooling2D  (32, 10, 15, 15)         0         \n",
      " )                                                               \n",
      "                                                                 \n",
      " flatten (Flatten)           (32, 2250)                0         \n",
      "                                                                 \n",
      " dense (Dense)               (32, 16)                  36016     \n",
      "                                                                 \n",
      "=================================================================\n",
      "Total params: 81,031\n",
      "Trainable params: 81,031\n",
      "Non-trainable params: 0\n",
      "_________________________________________________________________\n"
     ]
    }
   ],
   "source": [
    "model.summary()"
   ]
  },
  {
   "cell_type": "code",
   "execution_count": 31,
   "id": "cd942c05",
   "metadata": {},
   "outputs": [
    {
     "data": {
      "text/plain": [
       "'20220805_223813'"
      ]
     },
     "execution_count": 31,
     "metadata": {},
     "output_type": "execute_result"
    }
   ],
   "source": [
    "from datetime import datetime\n",
    "datetime.now().strftime('%Y%m%d_%H%M%S')\n"
   ]
  },
  {
   "cell_type": "code",
   "execution_count": 32,
   "id": "7c50bf54",
   "metadata": {},
   "outputs": [
    {
     "data": {
      "text/html": [
       "<div>\n",
       "<style scoped>\n",
       "    .dataframe tbody tr th:only-of-type {\n",
       "        vertical-align: middle;\n",
       "    }\n",
       "\n",
       "    .dataframe tbody tr th {\n",
       "        vertical-align: top;\n",
       "    }\n",
       "\n",
       "    .dataframe thead th {\n",
       "        text-align: right;\n",
       "    }\n",
       "</style>\n",
       "<table border=\"1\" class=\"dataframe\">\n",
       "  <thead>\n",
       "    <tr style=\"text-align: right;\">\n",
       "      <th></th>\n",
       "      <th>Path</th>\n",
       "      <th>Family (abbr.)</th>\n",
       "      <th>Family (in full)</th>\n",
       "      <th>Instrument (abbr.)</th>\n",
       "      <th>Instrument (in full)</th>\n",
       "      <th>Technique (abbr.)</th>\n",
       "      <th>Technique (in full)</th>\n",
       "      <th>Pitch</th>\n",
       "      <th>Pitch ID (if applicable)</th>\n",
       "      <th>Dynamics</th>\n",
       "      <th>Dynamics ID (if applicable)</th>\n",
       "      <th>Instance ID</th>\n",
       "      <th>Mute (abbr.)</th>\n",
       "      <th>Mute (in full)</th>\n",
       "      <th>String ID (if applicable)</th>\n",
       "      <th>Needed digital retuning</th>\n",
       "      <th>Fold</th>\n",
       "    </tr>\n",
       "  </thead>\n",
       "  <tbody>\n",
       "    <tr>\n",
       "      <th>4851</th>\n",
       "      <td>Strings/Contrabass/pizzicato_bartok/Cb-pizz_ba...</td>\n",
       "      <td>Strings</td>\n",
       "      <td>Violin Family</td>\n",
       "      <td>Cb</td>\n",
       "      <td>Contrabass</td>\n",
       "      <td>pizz_bartok</td>\n",
       "      <td>pizzicato_bartok</td>\n",
       "      <td>F3</td>\n",
       "      <td>53.0</td>\n",
       "      <td>ff</td>\n",
       "      <td>4.0</td>\n",
       "      <td>0.0</td>\n",
       "      <td>N</td>\n",
       "      <td>None</td>\n",
       "      <td>1.0</td>\n",
       "      <td>False</td>\n",
       "      <td>1</td>\n",
       "    </tr>\n",
       "    <tr>\n",
       "      <th>12565</th>\n",
       "      <td>Winds/Oboe+sordina/ordinario/Ob+S-ord-E6-mf-N-...</td>\n",
       "      <td>Winds</td>\n",
       "      <td>Woodwinds</td>\n",
       "      <td>Ob</td>\n",
       "      <td>Oboe</td>\n",
       "      <td>ord</td>\n",
       "      <td>ordinario</td>\n",
       "      <td>E6</td>\n",
       "      <td>88.0</td>\n",
       "      <td>mf</td>\n",
       "      <td>2.0</td>\n",
       "      <td>0.0</td>\n",
       "      <td>S</td>\n",
       "      <td>Sordina</td>\n",
       "      <td>NaN</td>\n",
       "      <td>False</td>\n",
       "      <td>4</td>\n",
       "    </tr>\n",
       "  </tbody>\n",
       "</table>\n",
       "</div>"
      ],
      "text/plain": [
       "                                                    Path Family (abbr.)  \\\n",
       "4851   Strings/Contrabass/pizzicato_bartok/Cb-pizz_ba...        Strings   \n",
       "12565  Winds/Oboe+sordina/ordinario/Ob+S-ord-E6-mf-N-...          Winds   \n",
       "\n",
       "      Family (in full) Instrument (abbr.) Instrument (in full)  \\\n",
       "4851     Violin Family                 Cb           Contrabass   \n",
       "12565        Woodwinds                 Ob                 Oboe   \n",
       "\n",
       "      Technique (abbr.) Technique (in full) Pitch  Pitch ID (if applicable)  \\\n",
       "4851        pizz_bartok    pizzicato_bartok    F3                      53.0   \n",
       "12565               ord           ordinario    E6                      88.0   \n",
       "\n",
       "      Dynamics  Dynamics ID (if applicable)  Instance ID Mute (abbr.)  \\\n",
       "4851        ff                          4.0          0.0            N   \n",
       "12565       mf                          2.0          0.0            S   \n",
       "\n",
       "      Mute (in full)  String ID (if applicable)  Needed digital retuning  Fold  \n",
       "4851            None                        1.0                    False     1  \n",
       "12565        Sordina                        NaN                    False     4  "
      ]
     },
     "execution_count": 32,
     "metadata": {},
     "output_type": "execute_result"
    }
   ],
   "source": [
    "train_df.head(2)"
   ]
  },
  {
   "cell_type": "code",
   "execution_count": 33,
   "id": "cc1ec1fd",
   "metadata": {},
   "outputs": [],
   "source": [
    "%load_ext tensorboard"
   ]
  },
  {
   "cell_type": "code",
   "execution_count": 35,
   "id": "544b4d6e",
   "metadata": {},
   "outputs": [
    {
     "name": "stdout",
     "output_type": "stream",
     "text": [
      "Epoch 1/10\n"
     ]
    },
    {
     "name": "stderr",
     "output_type": "stream",
     "text": [
      "2022-08-05 22:38:59.159687: I tensorflow/stream_executor/cuda/cuda_dnn.cc:384] Loaded cuDNN version 8100\n",
      "2022-08-05 22:38:59.719831: I tensorflow/core/platform/default/subprocess.cc:304] Start cannot spawn child process: No such file or directory\n",
      "2022-08-05 22:38:59.720868: I tensorflow/core/platform/default/subprocess.cc:304] Start cannot spawn child process: No such file or directory\n",
      "2022-08-05 22:38:59.720920: W tensorflow/stream_executor/gpu/asm_compiler.cc:80] Couldn't get ptxas version string: INTERNAL: Couldn't invoke ptxas --version\n",
      "2022-08-05 22:38:59.722054: I tensorflow/core/platform/default/subprocess.cc:304] Start cannot spawn child process: No such file or directory\n",
      "2022-08-05 22:38:59.722155: W tensorflow/stream_executor/gpu/redzone_allocator.cc:314] INTERNAL: Failed to launch ptxas\n",
      "Relying on driver to perform ptx compilation. \n",
      "Modify $PATH to customize ptxas location.\n",
      "This message will be only logged once.\n"
     ]
    },
    {
     "name": "stdout",
     "output_type": "stream",
     "text": [
      "    290/Unknown - 2144s 7s/step - loss: 0.4439 - accuracy: 0.2172"
     ]
    },
    {
     "name": "stderr",
     "output_type": "stream",
     "text": [
      "WARNING:absl:Found untraced functions such as _jit_compiled_convolution_op while saving (showing 1 of 1). These functions will not be directly callable after loading.\n"
     ]
    },
    {
     "name": "stdout",
     "output_type": "stream",
     "text": [
      "INFO:tensorflow:Assets written to: ../models/baseline_checkpoint/20220805_223850_01_model/assets\n"
     ]
    },
    {
     "name": "stderr",
     "output_type": "stream",
     "text": [
      "INFO:tensorflow:Assets written to: ../models/baseline_checkpoint/20220805_223850_01_model/assets\n"
     ]
    },
    {
     "name": "stdout",
     "output_type": "stream",
     "text": [
      "290/290 [==============================] - 2979s 10s/step - loss: 0.4439 - accuracy: 0.2172 - val_loss: 0.3300 - val_accuracy: 0.2256\n",
      "Epoch 2/10\n",
      "290/290 [==============================] - ETA: 0s - loss: 0.2875 - accuracy: 0.2376"
     ]
    },
    {
     "name": "stderr",
     "output_type": "stream",
     "text": [
      "WARNING:absl:Found untraced functions such as _jit_compiled_convolution_op while saving (showing 1 of 1). These functions will not be directly callable after loading.\n"
     ]
    },
    {
     "name": "stdout",
     "output_type": "stream",
     "text": [
      "INFO:tensorflow:Assets written to: ../models/baseline_checkpoint/20220805_223850_02_model/assets\n"
     ]
    },
    {
     "name": "stderr",
     "output_type": "stream",
     "text": [
      "INFO:tensorflow:Assets written to: ../models/baseline_checkpoint/20220805_223850_02_model/assets\n"
     ]
    },
    {
     "name": "stdout",
     "output_type": "stream",
     "text": [
      "290/290 [==============================] - 2677s 9s/step - loss: 0.2875 - accuracy: 0.2376 - val_loss: 0.2696 - val_accuracy: 0.2321\n",
      "Epoch 3/10\n",
      "290/290 [==============================] - ETA: 0s - loss: 0.2597 - accuracy: 0.2405"
     ]
    },
    {
     "name": "stderr",
     "output_type": "stream",
     "text": [
      "WARNING:absl:Found untraced functions such as _jit_compiled_convolution_op while saving (showing 1 of 1). These functions will not be directly callable after loading.\n"
     ]
    },
    {
     "name": "stdout",
     "output_type": "stream",
     "text": [
      "INFO:tensorflow:Assets written to: ../models/baseline_checkpoint/20220805_223850_03_model/assets\n"
     ]
    },
    {
     "name": "stderr",
     "output_type": "stream",
     "text": [
      "INFO:tensorflow:Assets written to: ../models/baseline_checkpoint/20220805_223850_03_model/assets\n"
     ]
    },
    {
     "name": "stdout",
     "output_type": "stream",
     "text": [
      "290/290 [==============================] - 2692s 9s/step - loss: 0.2597 - accuracy: 0.2405 - val_loss: 0.2537 - val_accuracy: 0.2608\n",
      "Epoch 4/10\n",
      "290/290 [==============================] - ETA: 0s - loss: 0.2366 - accuracy: 0.2450"
     ]
    },
    {
     "name": "stderr",
     "output_type": "stream",
     "text": [
      "WARNING:absl:Found untraced functions such as _jit_compiled_convolution_op while saving (showing 1 of 1). These functions will not be directly callable after loading.\n"
     ]
    },
    {
     "name": "stdout",
     "output_type": "stream",
     "text": [
      "INFO:tensorflow:Assets written to: ../models/baseline_checkpoint/20220805_223850_04_model/assets\n"
     ]
    },
    {
     "name": "stderr",
     "output_type": "stream",
     "text": [
      "INFO:tensorflow:Assets written to: ../models/baseline_checkpoint/20220805_223850_04_model/assets\n"
     ]
    },
    {
     "name": "stdout",
     "output_type": "stream",
     "text": [
      "290/290 [==============================] - 2617s 9s/step - loss: 0.2366 - accuracy: 0.2450 - val_loss: 0.2379 - val_accuracy: 0.2452\n",
      "Epoch 5/10\n",
      "290/290 [==============================] - ETA: 0s - loss: 0.2301 - accuracy: 0.2548"
     ]
    },
    {
     "name": "stderr",
     "output_type": "stream",
     "text": [
      "WARNING:absl:Found untraced functions such as _jit_compiled_convolution_op while saving (showing 1 of 1). These functions will not be directly callable after loading.\n"
     ]
    },
    {
     "name": "stdout",
     "output_type": "stream",
     "text": [
      "INFO:tensorflow:Assets written to: ../models/baseline_checkpoint/20220805_223850_05_model/assets\n"
     ]
    },
    {
     "name": "stderr",
     "output_type": "stream",
     "text": [
      "INFO:tensorflow:Assets written to: ../models/baseline_checkpoint/20220805_223850_05_model/assets\n"
     ]
    },
    {
     "name": "stdout",
     "output_type": "stream",
     "text": [
      "290/290 [==============================] - 2469s 9s/step - loss: 0.2301 - accuracy: 0.2548 - val_loss: 0.2332 - val_accuracy: 0.2462\n"
     ]
    }
   ],
   "source": [
    "ckpt_callback = tf.keras.callbacks.ModelCheckpoint(\n",
    "    f\"../models/baseline_checkpoint/{datetime.now().strftime('%Y%m%d_%H%M%S')}_{{epoch:02d}}_model\", \n",
    "                                                    monitor='val_accuracy')\n",
    "early_callback = tf.keras.callbacks.EarlyStopping(monitor = 'val_accuracy', patience = 2, \n",
    "                                                        restore_best_weights = True)\n",
    "log_dir = \"logs/fit/\" + datetime.now().strftime(\"%Y%m%d-%H%M%S\")\n",
    "tensorboard_callback = tf.keras.callbacks.TensorBoard(log_dir=log_dir, histogram_freq=1)\n",
    "\n",
    "\n",
    "history = model.fit(train_generator, epochs = 10, verbose=1, \n",
    "                    validation_data = eval_generator, \n",
    "                    validation_freq= 1, \n",
    "                    # use_multiprocessing=True, workers = 2, \n",
    "                    callbacks=[ckpt_callback, early_callback, tensorboard_callback])"
   ]
  },
  {
   "cell_type": "code",
   "execution_count": 39,
   "id": "49141412",
   "metadata": {},
   "outputs": [
    {
     "name": "stderr",
     "output_type": "stream",
     "text": [
      "WARNING:absl:Found untraced functions such as _jit_compiled_convolution_op while saving (showing 1 of 1). These functions will not be directly callable after loading.\n"
     ]
    },
    {
     "name": "stdout",
     "output_type": "stream",
     "text": [
      "INFO:tensorflow:Assets written to: ../models/new_baseline/assets\n"
     ]
    },
    {
     "name": "stderr",
     "output_type": "stream",
     "text": [
      "INFO:tensorflow:Assets written to: ../models/new_baseline/assets\n"
     ]
    }
   ],
   "source": [
    "model.save('../models/new_baseline/')"
   ]
  },
  {
   "cell_type": "code",
   "execution_count": 51,
   "id": "1bcecf56",
   "metadata": {},
   "outputs": [],
   "source": [
    "import pickle\n",
    "\n",
    "def save_history(history, path):\n",
    "    with open(path, 'wb+') as f:\n",
    "        pickle.dump(history, f)\n",
    "\n",
    "    # with open(path, 'rb') as f:\n",
    "    #     test = pickle.load(f)"
   ]
  },
  {
   "cell_type": "code",
   "execution_count": 53,
   "id": "700a79d0",
   "metadata": {},
   "outputs": [],
   "source": [
    "save_history(history.history, '../models/new_baseline/history.pkl')"
   ]
  },
  {
   "cell_type": "code",
   "execution_count": 38,
   "id": "35e82d9a",
   "metadata": {},
   "outputs": [
    {
     "ename": "OSError",
     "evalue": "SavedModel file does not exist at: ../models/new_baseline//{saved_model.pbtxt|saved_model.pb}",
     "output_type": "error",
     "traceback": [
      "\u001b[0;31m---------------------------------------------------------------------------\u001b[0m",
      "\u001b[0;31mOSError\u001b[0m                                   Traceback (most recent call last)",
      "\u001b[1;32m/home/shiya/Documents/music_transcription/notebooks/music_transcription_class.ipynb Cell 61\u001b[0m in \u001b[0;36m<cell line: 1>\u001b[0;34m()\u001b[0m\n\u001b[0;32m----> <a href='vscode-notebook-cell:/home/shiya/Documents/music_transcription/notebooks/music_transcription_class.ipynb#ch0000069?line=0'>1</a>\u001b[0m model \u001b[39m=\u001b[39m tf\u001b[39m.\u001b[39;49mkeras\u001b[39m.\u001b[39;49mmodels\u001b[39m.\u001b[39;49mload_model(\u001b[39m'\u001b[39;49m\u001b[39m../models/new_baseline/\u001b[39;49m\u001b[39m'\u001b[39;49m)\n",
      "File \u001b[0;32m~/anaconda3/envs/music/lib/python3.8/site-packages/keras/utils/traceback_utils.py:67\u001b[0m, in \u001b[0;36mfilter_traceback.<locals>.error_handler\u001b[0;34m(*args, **kwargs)\u001b[0m\n\u001b[1;32m     65\u001b[0m \u001b[39mexcept\u001b[39;00m \u001b[39mException\u001b[39;00m \u001b[39mas\u001b[39;00m e:  \u001b[39m# pylint: disable=broad-except\u001b[39;00m\n\u001b[1;32m     66\u001b[0m   filtered_tb \u001b[39m=\u001b[39m _process_traceback_frames(e\u001b[39m.\u001b[39m__traceback__)\n\u001b[0;32m---> 67\u001b[0m   \u001b[39mraise\u001b[39;00m e\u001b[39m.\u001b[39mwith_traceback(filtered_tb) \u001b[39mfrom\u001b[39;00m \u001b[39mNone\u001b[39m\n\u001b[1;32m     68\u001b[0m \u001b[39mfinally\u001b[39;00m:\n\u001b[1;32m     69\u001b[0m   \u001b[39mdel\u001b[39;00m filtered_tb\n",
      "File \u001b[0;32m~/anaconda3/envs/music/lib/python3.8/site-packages/tensorflow/python/saved_model/loader_impl.py:115\u001b[0m, in \u001b[0;36mparse_saved_model\u001b[0;34m(export_dir)\u001b[0m\n\u001b[1;32m    113\u001b[0m     \u001b[39mraise\u001b[39;00m \u001b[39mIOError\u001b[39;00m(\u001b[39mf\u001b[39m\u001b[39m\"\u001b[39m\u001b[39mCannot parse file \u001b[39m\u001b[39m{\u001b[39;00mpath_to_pbtxt\u001b[39m}\u001b[39;00m\u001b[39m: \u001b[39m\u001b[39m{\u001b[39;00m\u001b[39mstr\u001b[39m(e)\u001b[39m}\u001b[39;00m\u001b[39m.\u001b[39m\u001b[39m\"\u001b[39m)\n\u001b[1;32m    114\u001b[0m \u001b[39melse\u001b[39;00m:\n\u001b[0;32m--> 115\u001b[0m   \u001b[39mraise\u001b[39;00m \u001b[39mIOError\u001b[39;00m(\n\u001b[1;32m    116\u001b[0m       \u001b[39mf\u001b[39m\u001b[39m\"\u001b[39m\u001b[39mSavedModel file does not exist at: \u001b[39m\u001b[39m{\u001b[39;00mexport_dir\u001b[39m}\u001b[39;00m\u001b[39m{\u001b[39;00mos\u001b[39m.\u001b[39mpath\u001b[39m.\u001b[39msep\u001b[39m}\u001b[39;00m\u001b[39m\"\u001b[39m\n\u001b[1;32m    117\u001b[0m       \u001b[39mf\u001b[39m\u001b[39m\"\u001b[39m\u001b[39m{{\u001b[39;00m\u001b[39m{\u001b[39;00mconstants\u001b[39m.\u001b[39mSAVED_MODEL_FILENAME_PBTXT\u001b[39m}\u001b[39;00m\u001b[39m|\u001b[39m\u001b[39m\"\u001b[39m\n\u001b[1;32m    118\u001b[0m       \u001b[39mf\u001b[39m\u001b[39m\"\u001b[39m\u001b[39m{\u001b[39;00mconstants\u001b[39m.\u001b[39mSAVED_MODEL_FILENAME_PB\u001b[39m}\u001b[39;00m\u001b[39m}}\u001b[39;00m\u001b[39m\"\u001b[39m)\n",
      "\u001b[0;31mOSError\u001b[0m: SavedModel file does not exist at: ../models/new_baseline//{saved_model.pbtxt|saved_model.pb}"
     ]
    }
   ],
   "source": [
    "# model = tf.keras.models.load_model('../models/new_baseline/')"
   ]
  },
  {
   "cell_type": "code",
   "execution_count": 41,
   "id": "fb383594",
   "metadata": {},
   "outputs": [
    {
     "data": {
      "text/plain": [
       "dict_keys(['loss', 'accuracy', 'val_loss', 'val_accuracy'])"
      ]
     },
     "execution_count": 41,
     "metadata": {},
     "output_type": "execute_result"
    }
   ],
   "source": [
    "history.history.keys()"
   ]
  },
  {
   "cell_type": "code",
   "execution_count": 48,
   "id": "01dc31ba",
   "metadata": {},
   "outputs": [
    {
     "data": {
      "text/plain": [
       "[<matplotlib.lines.Line2D at 0x7f355a0a61c0>]"
      ]
     },
     "execution_count": 48,
     "metadata": {},
     "output_type": "execute_result"
    },
    {
     "data": {
      "image/png": "[encoded data removed]",
      "text/plain": [
       "<Figure size 432x288 with 1 Axes>"
      ]
     },
     "metadata": {
      "needs_background": "light"
     },
     "output_type": "display_data"
    }
   ],
   "source": [
    "plt.plot(history.history['val_accuracy'])\n",
    "plt.plot(history.history['accuracy'])"
   ]
  },
  {
   "cell_type": "code",
   "execution_count": null,
   "id": "16de15a4",
   "metadata": {},
   "outputs": [],
   "source": [
    "# model.save_weights('../models/baseline_checkpoint/20220704_153658_model/')"
   ]
  },
  {
   "cell_type": "code",
   "execution_count": 50,
   "id": "77eb096a",
   "metadata": {},
   "outputs": [
    {
     "ename": "KeyboardInterrupt",
     "evalue": "",
     "output_type": "error",
     "traceback": [
      "\u001b[0;31m---------------------------------------------------------------------------\u001b[0m",
      "\u001b[0;31mKeyboardInterrupt\u001b[0m                         Traceback (most recent call last)",
      "\u001b[1;32m/home/shiya/Documents/music_transcription/notebooks/music_transcription_class.ipynb Cell 65\u001b[0m in \u001b[0;36m<cell line: 1>\u001b[0;34m()\u001b[0m\n\u001b[0;32m----> <a href='vscode-notebook-cell:/home/shiya/Documents/music_transcription/notebooks/music_transcription_class.ipynb#ch0000086?line=0'>1</a>\u001b[0m model\u001b[39m.\u001b[39;49mevaluate_generator(eval_generator)\n",
      "File \u001b[0;32m~/anaconda3/envs/music/lib/python3.8/site-packages/keras/engine/training.py:2298\u001b[0m, in \u001b[0;36mModel.evaluate_generator\u001b[0;34m(self, generator, steps, callbacks, max_queue_size, workers, use_multiprocessing, verbose)\u001b[0m\n\u001b[1;32m   2291\u001b[0m warnings\u001b[39m.\u001b[39mwarn(\n\u001b[1;32m   2292\u001b[0m     \u001b[39m'\u001b[39m\u001b[39m`Model.evaluate_generator` is deprecated and \u001b[39m\u001b[39m'\u001b[39m\n\u001b[1;32m   2293\u001b[0m     \u001b[39m'\u001b[39m\u001b[39mwill be removed in a future version. \u001b[39m\u001b[39m'\u001b[39m\n\u001b[1;32m   2294\u001b[0m     \u001b[39m'\u001b[39m\u001b[39mPlease use `Model.evaluate`, which supports generators.\u001b[39m\u001b[39m'\u001b[39m,\n\u001b[1;32m   2295\u001b[0m     stacklevel\u001b[39m=\u001b[39m\u001b[39m2\u001b[39m)\n\u001b[1;32m   2296\u001b[0m \u001b[39mself\u001b[39m\u001b[39m.\u001b[39m_check_call_args(\u001b[39m'\u001b[39m\u001b[39mevaluate_generator\u001b[39m\u001b[39m'\u001b[39m)\n\u001b[0;32m-> 2298\u001b[0m \u001b[39mreturn\u001b[39;00m \u001b[39mself\u001b[39;49m\u001b[39m.\u001b[39;49mevaluate(\n\u001b[1;32m   2299\u001b[0m     generator,\n\u001b[1;32m   2300\u001b[0m     steps\u001b[39m=\u001b[39;49msteps,\n\u001b[1;32m   2301\u001b[0m     max_queue_size\u001b[39m=\u001b[39;49mmax_queue_size,\n\u001b[1;32m   2302\u001b[0m     workers\u001b[39m=\u001b[39;49mworkers,\n\u001b[1;32m   2303\u001b[0m     use_multiprocessing\u001b[39m=\u001b[39;49muse_multiprocessing,\n\u001b[1;32m   2304\u001b[0m     verbose\u001b[39m=\u001b[39;49mverbose,\n\u001b[1;32m   2305\u001b[0m     callbacks\u001b[39m=\u001b[39;49mcallbacks)\n",
      "File \u001b[0;32m~/anaconda3/envs/music/lib/python3.8/site-packages/keras/utils/traceback_utils.py:64\u001b[0m, in \u001b[0;36mfilter_traceback.<locals>.error_handler\u001b[0;34m(*args, **kwargs)\u001b[0m\n\u001b[1;32m     62\u001b[0m filtered_tb \u001b[39m=\u001b[39m \u001b[39mNone\u001b[39;00m\n\u001b[1;32m     63\u001b[0m \u001b[39mtry\u001b[39;00m:\n\u001b[0;32m---> 64\u001b[0m   \u001b[39mreturn\u001b[39;00m fn(\u001b[39m*\u001b[39;49margs, \u001b[39m*\u001b[39;49m\u001b[39m*\u001b[39;49mkwargs)\n\u001b[1;32m     65\u001b[0m \u001b[39mexcept\u001b[39;00m \u001b[39mException\u001b[39;00m \u001b[39mas\u001b[39;00m e:  \u001b[39m# pylint: disable=broad-except\u001b[39;00m\n\u001b[1;32m     66\u001b[0m   filtered_tb \u001b[39m=\u001b[39m _process_traceback_frames(e\u001b[39m.\u001b[39m__traceback__)\n",
      "File \u001b[0;32m~/anaconda3/envs/music/lib/python3.8/site-packages/keras/engine/training.py:1756\u001b[0m, in \u001b[0;36mModel.evaluate\u001b[0;34m(self, x, y, batch_size, verbose, sample_weight, steps, callbacks, max_queue_size, workers, use_multiprocessing, return_dict, **kwargs)\u001b[0m\n\u001b[1;32m   1754\u001b[0m \u001b[39mwith\u001b[39;00m tf\u001b[39m.\u001b[39mprofiler\u001b[39m.\u001b[39mexperimental\u001b[39m.\u001b[39mTrace(\u001b[39m'\u001b[39m\u001b[39mtest\u001b[39m\u001b[39m'\u001b[39m, step_num\u001b[39m=\u001b[39mstep, _r\u001b[39m=\u001b[39m\u001b[39m1\u001b[39m):\n\u001b[1;32m   1755\u001b[0m   callbacks\u001b[39m.\u001b[39mon_test_batch_begin(step)\n\u001b[0;32m-> 1756\u001b[0m   tmp_logs \u001b[39m=\u001b[39m \u001b[39mself\u001b[39;49m\u001b[39m.\u001b[39;49mtest_function(iterator)\n\u001b[1;32m   1757\u001b[0m   \u001b[39mif\u001b[39;00m data_handler\u001b[39m.\u001b[39mshould_sync:\n\u001b[1;32m   1758\u001b[0m     context\u001b[39m.\u001b[39masync_wait()\n",
      "File \u001b[0;32m~/anaconda3/envs/music/lib/python3.8/site-packages/tensorflow/python/util/traceback_utils.py:150\u001b[0m, in \u001b[0;36mfilter_traceback.<locals>.error_handler\u001b[0;34m(*args, **kwargs)\u001b[0m\n\u001b[1;32m    148\u001b[0m filtered_tb \u001b[39m=\u001b[39m \u001b[39mNone\u001b[39;00m\n\u001b[1;32m    149\u001b[0m \u001b[39mtry\u001b[39;00m:\n\u001b[0;32m--> 150\u001b[0m   \u001b[39mreturn\u001b[39;00m fn(\u001b[39m*\u001b[39;49margs, \u001b[39m*\u001b[39;49m\u001b[39m*\u001b[39;49mkwargs)\n\u001b[1;32m    151\u001b[0m \u001b[39mexcept\u001b[39;00m \u001b[39mException\u001b[39;00m \u001b[39mas\u001b[39;00m e:\n\u001b[1;32m    152\u001b[0m   filtered_tb \u001b[39m=\u001b[39m _process_traceback_frames(e\u001b[39m.\u001b[39m__traceback__)\n",
      "File \u001b[0;32m~/anaconda3/envs/music/lib/python3.8/site-packages/tensorflow/python/eager/def_function.py:915\u001b[0m, in \u001b[0;36mFunction.__call__\u001b[0;34m(self, *args, **kwds)\u001b[0m\n\u001b[1;32m    912\u001b[0m compiler \u001b[39m=\u001b[39m \u001b[39m\"\u001b[39m\u001b[39mxla\u001b[39m\u001b[39m\"\u001b[39m \u001b[39mif\u001b[39;00m \u001b[39mself\u001b[39m\u001b[39m.\u001b[39m_jit_compile \u001b[39melse\u001b[39;00m \u001b[39m\"\u001b[39m\u001b[39mnonXla\u001b[39m\u001b[39m\"\u001b[39m\n\u001b[1;32m    914\u001b[0m \u001b[39mwith\u001b[39;00m OptionalXlaContext(\u001b[39mself\u001b[39m\u001b[39m.\u001b[39m_jit_compile):\n\u001b[0;32m--> 915\u001b[0m   result \u001b[39m=\u001b[39m \u001b[39mself\u001b[39;49m\u001b[39m.\u001b[39;49m_call(\u001b[39m*\u001b[39;49margs, \u001b[39m*\u001b[39;49m\u001b[39m*\u001b[39;49mkwds)\n\u001b[1;32m    917\u001b[0m new_tracing_count \u001b[39m=\u001b[39m \u001b[39mself\u001b[39m\u001b[39m.\u001b[39mexperimental_get_tracing_count()\n\u001b[1;32m    918\u001b[0m without_tracing \u001b[39m=\u001b[39m (tracing_count \u001b[39m==\u001b[39m new_tracing_count)\n",
      "File \u001b[0;32m~/anaconda3/envs/music/lib/python3.8/site-packages/tensorflow/python/eager/def_function.py:954\u001b[0m, in \u001b[0;36mFunction._call\u001b[0;34m(self, *args, **kwds)\u001b[0m\n\u001b[1;32m    951\u001b[0m \u001b[39mself\u001b[39m\u001b[39m.\u001b[39m_lock\u001b[39m.\u001b[39mrelease()\n\u001b[1;32m    952\u001b[0m \u001b[39m# In this case we have not created variables on the first call. So we can\u001b[39;00m\n\u001b[1;32m    953\u001b[0m \u001b[39m# run the first trace but we should fail if variables are created.\u001b[39;00m\n\u001b[0;32m--> 954\u001b[0m results \u001b[39m=\u001b[39m \u001b[39mself\u001b[39;49m\u001b[39m.\u001b[39;49m_stateful_fn(\u001b[39m*\u001b[39;49margs, \u001b[39m*\u001b[39;49m\u001b[39m*\u001b[39;49mkwds)\n\u001b[1;32m    955\u001b[0m \u001b[39mif\u001b[39;00m \u001b[39mself\u001b[39m\u001b[39m.\u001b[39m_created_variables \u001b[39mand\u001b[39;00m \u001b[39mnot\u001b[39;00m ALLOW_DYNAMIC_VARIABLE_CREATION:\n\u001b[1;32m    956\u001b[0m   \u001b[39mraise\u001b[39;00m \u001b[39mValueError\u001b[39;00m(\u001b[39m\"\u001b[39m\u001b[39mCreating variables on a non-first call to a function\u001b[39m\u001b[39m\"\u001b[39m\n\u001b[1;32m    957\u001b[0m                    \u001b[39m\"\u001b[39m\u001b[39m decorated with tf.function.\u001b[39m\u001b[39m\"\u001b[39m)\n",
      "File \u001b[0;32m~/anaconda3/envs/music/lib/python3.8/site-packages/tensorflow/python/eager/function.py:2453\u001b[0m, in \u001b[0;36mFunction.__call__\u001b[0;34m(self, *args, **kwargs)\u001b[0m\n\u001b[1;32m   2450\u001b[0m \u001b[39mwith\u001b[39;00m \u001b[39mself\u001b[39m\u001b[39m.\u001b[39m_lock:\n\u001b[1;32m   2451\u001b[0m   (graph_function,\n\u001b[1;32m   2452\u001b[0m    filtered_flat_args) \u001b[39m=\u001b[39m \u001b[39mself\u001b[39m\u001b[39m.\u001b[39m_maybe_define_function(args, kwargs)\n\u001b[0;32m-> 2453\u001b[0m \u001b[39mreturn\u001b[39;00m graph_function\u001b[39m.\u001b[39;49m_call_flat(\n\u001b[1;32m   2454\u001b[0m     filtered_flat_args, captured_inputs\u001b[39m=\u001b[39;49mgraph_function\u001b[39m.\u001b[39;49mcaptured_inputs)\n",
      "File \u001b[0;32m~/anaconda3/envs/music/lib/python3.8/site-packages/tensorflow/python/eager/function.py:1860\u001b[0m, in \u001b[0;36mConcreteFunction._call_flat\u001b[0;34m(self, args, captured_inputs, cancellation_manager)\u001b[0m\n\u001b[1;32m   1856\u001b[0m possible_gradient_type \u001b[39m=\u001b[39m gradients_util\u001b[39m.\u001b[39mPossibleTapeGradientTypes(args)\n\u001b[1;32m   1857\u001b[0m \u001b[39mif\u001b[39;00m (possible_gradient_type \u001b[39m==\u001b[39m gradients_util\u001b[39m.\u001b[39mPOSSIBLE_GRADIENT_TYPES_NONE\n\u001b[1;32m   1858\u001b[0m     \u001b[39mand\u001b[39;00m executing_eagerly):\n\u001b[1;32m   1859\u001b[0m   \u001b[39m# No tape is watching; skip to running the function.\u001b[39;00m\n\u001b[0;32m-> 1860\u001b[0m   \u001b[39mreturn\u001b[39;00m \u001b[39mself\u001b[39m\u001b[39m.\u001b[39m_build_call_outputs(\u001b[39mself\u001b[39;49m\u001b[39m.\u001b[39;49m_inference_function\u001b[39m.\u001b[39;49mcall(\n\u001b[1;32m   1861\u001b[0m       ctx, args, cancellation_manager\u001b[39m=\u001b[39;49mcancellation_manager))\n\u001b[1;32m   1862\u001b[0m forward_backward \u001b[39m=\u001b[39m \u001b[39mself\u001b[39m\u001b[39m.\u001b[39m_select_forward_and_backward_functions(\n\u001b[1;32m   1863\u001b[0m     args,\n\u001b[1;32m   1864\u001b[0m     possible_gradient_type,\n\u001b[1;32m   1865\u001b[0m     executing_eagerly)\n\u001b[1;32m   1866\u001b[0m forward_function, args_with_tangents \u001b[39m=\u001b[39m forward_backward\u001b[39m.\u001b[39mforward()\n",
      "File \u001b[0;32m~/anaconda3/envs/music/lib/python3.8/site-packages/tensorflow/python/eager/function.py:497\u001b[0m, in \u001b[0;36m_EagerDefinedFunction.call\u001b[0;34m(self, ctx, args, cancellation_manager)\u001b[0m\n\u001b[1;32m    495\u001b[0m \u001b[39mwith\u001b[39;00m _InterpolateFunctionError(\u001b[39mself\u001b[39m):\n\u001b[1;32m    496\u001b[0m   \u001b[39mif\u001b[39;00m cancellation_manager \u001b[39mis\u001b[39;00m \u001b[39mNone\u001b[39;00m:\n\u001b[0;32m--> 497\u001b[0m     outputs \u001b[39m=\u001b[39m execute\u001b[39m.\u001b[39;49mexecute(\n\u001b[1;32m    498\u001b[0m         \u001b[39mstr\u001b[39;49m(\u001b[39mself\u001b[39;49m\u001b[39m.\u001b[39;49msignature\u001b[39m.\u001b[39;49mname),\n\u001b[1;32m    499\u001b[0m         num_outputs\u001b[39m=\u001b[39;49m\u001b[39mself\u001b[39;49m\u001b[39m.\u001b[39;49m_num_outputs,\n\u001b[1;32m    500\u001b[0m         inputs\u001b[39m=\u001b[39;49margs,\n\u001b[1;32m    501\u001b[0m         attrs\u001b[39m=\u001b[39;49mattrs,\n\u001b[1;32m    502\u001b[0m         ctx\u001b[39m=\u001b[39;49mctx)\n\u001b[1;32m    503\u001b[0m   \u001b[39melse\u001b[39;00m:\n\u001b[1;32m    504\u001b[0m     outputs \u001b[39m=\u001b[39m execute\u001b[39m.\u001b[39mexecute_with_cancellation(\n\u001b[1;32m    505\u001b[0m         \u001b[39mstr\u001b[39m(\u001b[39mself\u001b[39m\u001b[39m.\u001b[39msignature\u001b[39m.\u001b[39mname),\n\u001b[1;32m    506\u001b[0m         num_outputs\u001b[39m=\u001b[39m\u001b[39mself\u001b[39m\u001b[39m.\u001b[39m_num_outputs,\n\u001b[0;32m   (...)\u001b[0m\n\u001b[1;32m    509\u001b[0m         ctx\u001b[39m=\u001b[39mctx,\n\u001b[1;32m    510\u001b[0m         cancellation_manager\u001b[39m=\u001b[39mcancellation_manager)\n",
      "File \u001b[0;32m~/anaconda3/envs/music/lib/python3.8/site-packages/tensorflow/python/eager/execute.py:54\u001b[0m, in \u001b[0;36mquick_execute\u001b[0;34m(op_name, num_outputs, inputs, attrs, ctx, name)\u001b[0m\n\u001b[1;32m     52\u001b[0m \u001b[39mtry\u001b[39;00m:\n\u001b[1;32m     53\u001b[0m   ctx\u001b[39m.\u001b[39mensure_initialized()\n\u001b[0;32m---> 54\u001b[0m   tensors \u001b[39m=\u001b[39m pywrap_tfe\u001b[39m.\u001b[39;49mTFE_Py_Execute(ctx\u001b[39m.\u001b[39;49m_handle, device_name, op_name,\n\u001b[1;32m     55\u001b[0m                                       inputs, attrs, num_outputs)\n\u001b[1;32m     56\u001b[0m \u001b[39mexcept\u001b[39;00m core\u001b[39m.\u001b[39m_NotOkStatusException \u001b[39mas\u001b[39;00m e:\n\u001b[1;32m     57\u001b[0m   \u001b[39mif\u001b[39;00m name \u001b[39mis\u001b[39;00m \u001b[39mnot\u001b[39;00m \u001b[39mNone\u001b[39;00m:\n",
      "\u001b[0;31mKeyboardInterrupt\u001b[0m: "
     ]
    }
   ],
   "source": [
    "model.evaluate_generator(eval_generator)"
   ]
  },
  {
   "cell_type": "code",
   "execution_count": 54,
   "id": "09746cb5",
   "metadata": {},
   "outputs": [
    {
     "ename": "TypeError",
     "evalue": "__init__() got an unexpected keyword argument 'preprocess'",
     "output_type": "error",
     "traceback": [
      "\u001b[0;31m---------------------------------------------------------------------------\u001b[0m",
      "\u001b[0;31mTypeError\u001b[0m                                 Traceback (most recent call last)",
      "\u001b[1;32m/home/shiya/Documents/music_transcription/notebooks/music_transcription_class.ipynb Cell 68\u001b[0m in \u001b[0;36m<cell line: 1>\u001b[0;34m()\u001b[0m\n\u001b[0;32m----> <a href='vscode-notebook-cell:/home/shiya/Documents/music_transcription/notebooks/music_transcription_class.ipynb#ch0000089?line=0'>1</a>\u001b[0m prediction_generator \u001b[39m=\u001b[39m spec_generator(test_df, batch_size\u001b[39m=\u001b[39;49m\u001b[39mlen\u001b[39;49m(test_df), add_channel\u001b[39m=\u001b[39;49m\u001b[39mTrue\u001b[39;49;00m,\n\u001b[1;32m      <a href='vscode-notebook-cell:/home/shiya/Documents/music_transcription/notebooks/music_transcription_class.ipynb#ch0000089?line=1'>2</a>\u001b[0m                                         live_generation \u001b[39m=\u001b[39;49m \u001b[39mTrue\u001b[39;49;00m, preprocess \u001b[39m=\u001b[39;49m \u001b[39mFalse\u001b[39;49;00m)\n",
      "\u001b[0;31mTypeError\u001b[0m: __init__() got an unexpected keyword argument 'preprocess'"
     ]
    }
   ],
   "source": [
    "prediction_generator = spec_generator(test_df, batch_size=len(test_df), add_channel=True,\n",
    "                                        live_generation = True, preprocess = False)"
   ]
  },
  {
   "cell_type": "code",
   "execution_count": null,
   "id": "cbf4f72c",
   "metadata": {},
   "outputs": [],
   "source": [
    "prediction_feature, prediction_label = prediction_generator.__getitem__(0)"
   ]
  },
  {
   "cell_type": "code",
   "execution_count": null,
   "id": "2acf126f",
   "metadata": {},
   "outputs": [],
   "source": [
    "model_prediction_tuple = model.predict()"
   ]
  },
  {
   "cell_type": "code",
   "execution_count": null,
   "id": "cfc94f74",
   "metadata": {},
   "outputs": [],
   "source": [
    "classification_report()"
   ]
  },
  {
   "cell_type": "code",
   "execution_count": null,
   "id": "e2741178",
   "metadata": {},
   "outputs": [],
   "source": [
    "model(np.reshape(random_train, (1, 1025, 807, 1)), training= False)"
   ]
  },
  {
   "cell_type": "markdown",
   "id": "63556cdc",
   "metadata": {},
   "source": [
    "## Deeper model\n"
   ]
  },
  {
   "cell_type": "code",
   "execution_count": null,
   "id": "ce512975",
   "metadata": {},
   "outputs": [],
   "source": [
    "model_2conv = models.Sequential()\n",
    "model_2conv.add(layers.InputLayer((spec_shape[0], spec_shape[1], 1), dtype = tf.float64))\n",
    "model_2conv.add(layers.Conv2D(30, (200, 20), activation='relu'))\n",
    "# , input_shape = (spec_shape[0], spec_shape[1], 1)))\n",
    "model_2conv.add(layers.MaxPool2D((5, 5)))\n",
    "model_2conv.add(layers.Conv2D(20, (20, 5), activation = 'relu'))\n",
    "model_2conv.add(layers.Flatten())\n",
    "model_2conv.add(layers.Dense(16, activation = 'sigmoid'))\n",
    "model_2conv.build()"
   ]
  },
  {
   "cell_type": "code",
   "execution_count": null,
   "id": "66978da2",
   "metadata": {},
   "outputs": [],
   "source": [
    "tf.keras.utils.plot_model(model_2conv, show_shapes = True, show_dtype= True)"
   ]
  },
  {
   "cell_type": "code",
   "execution_count": null,
   "id": "0d0bdf46",
   "metadata": {},
   "outputs": [],
   "source": [
    "model_2conv.summary()"
   ]
  }
 ],
 "metadata": {
  "kernelspec": {
   "display_name": "Python 3.8.13 ('music')",
   "language": "python",
   "name": "python3"
  },
  "language_info": {
   "codemirror_mode": {
    "name": "ipython",
    "version": 3
   },
   "file_extension": ".py",
   "mimetype": "text/x-python",
   "name": "python",
   "nbconvert_exporter": "python",
   "pygments_lexer": "ipython3",
   "version": "3.8.13"
  },
  "vscode": {
   "interpreter": {
    "hash": "23b427766ad73d2fbec9b6b0cc4cd2aa2b6b60fb4f0a30d1bcdb6b43fd215af9"
   }
  }
 },
 "nbformat": 4,
 "nbformat_minor": 5
}
