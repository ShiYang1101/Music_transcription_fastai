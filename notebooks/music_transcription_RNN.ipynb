{
 "cells": [
  {
   "cell_type": "code",
   "execution_count": 1,
   "metadata": {},
   "outputs": [],
   "source": [
    "import numpy as np\n",
    "import pandas as pd\n",
    "import tensorflow as tf\n",
    "from keras import Input\n",
    "from keras import backend as K\n",
    "from keras import layers\n",
    "from keras.layers import LSTM, Dense\n",
    "from keras.models import Model, Sequential\n",
    "from sklearn.model_selection import train_test_split\n",
    "from sklearn.preprocessing import LabelEncoder, MultiLabelBinarizer\n",
    "\n",
    "from spec_generator_sequence import spec_generator\n",
    "from spec_generator_sequence_multilabel import spec_generator_multi, spec_generator_multioutput\n",
    "from spec_input_generator import gen, gen_eval\n",
    "from spectrogram_class import spectrogram\n"
   ]
  },
  {
   "cell_type": "code",
   "execution_count": 2,
   "metadata": {},
   "outputs": [],
   "source": [
    "meta_df = pd.read_csv('../data/OrchideaSOL_metadata.csv')"
   ]
  },
  {
   "cell_type": "code",
   "execution_count": 3,
   "metadata": {},
   "outputs": [
    {
     "data": {
      "text/plain": [
       "(13265, 17)"
      ]
     },
     "execution_count": 3,
     "metadata": {},
     "output_type": "execute_result"
    }
   ],
   "source": [
    "meta_df.shape"
   ]
  },
  {
   "cell_type": "code",
   "execution_count": 4,
   "metadata": {},
   "outputs": [],
   "source": [
    "meta_df = meta_df[~meta_df['Pitch ID (if applicable)'].isna()]"
   ]
  },
  {
   "cell_type": "code",
   "execution_count": 5,
   "metadata": {},
   "outputs": [
    {
     "data": {
      "text/plain": [
       "Path                              0\n",
       "Family (abbr.)                    0\n",
       "Family (in full)                  0\n",
       "Instrument (abbr.)                0\n",
       "Instrument (in full)              0\n",
       "Technique (abbr.)                 0\n",
       "Technique (in full)               0\n",
       "Pitch                             0\n",
       "Pitch ID (if applicable)          0\n",
       "Dynamics                          0\n",
       "Dynamics ID (if applicable)     568\n",
       "Instance ID                       0\n",
       "Mute (abbr.)                      0\n",
       "Mute (in full)                    0\n",
       "String ID (if applicable)      5666\n",
       "Needed digital retuning           0\n",
       "Fold                              0\n",
       "dtype: int64"
      ]
     },
     "execution_count": 5,
     "metadata": {},
     "output_type": "execute_result"
    }
   ],
   "source": [
    "meta_df.isna().sum()"
   ]
  },
  {
   "cell_type": "code",
   "execution_count": 6,
   "metadata": {},
   "outputs": [
    {
     "data": {
      "text/plain": [
       "(13162, 17)"
      ]
     },
     "execution_count": 6,
     "metadata": {},
     "output_type": "execute_result"
    }
   ],
   "source": [
    "meta_df.shape"
   ]
  },
  {
   "cell_type": "code",
   "execution_count": 7,
   "metadata": {},
   "outputs": [
    {
     "data": {
      "text/html": [
       "<div>\n",
       "<style scoped>\n",
       "    .dataframe tbody tr th:only-of-type {\n",
       "        vertical-align: middle;\n",
       "    }\n",
       "\n",
       "    .dataframe tbody tr th {\n",
       "        vertical-align: top;\n",
       "    }\n",
       "\n",
       "    .dataframe thead th {\n",
       "        text-align: right;\n",
       "    }\n",
       "</style>\n",
       "<table border=\"1\" class=\"dataframe\">\n",
       "  <thead>\n",
       "    <tr style=\"text-align: right;\">\n",
       "      <th></th>\n",
       "      <th>Path</th>\n",
       "      <th>Family (abbr.)</th>\n",
       "      <th>Family (in full)</th>\n",
       "      <th>Instrument (abbr.)</th>\n",
       "      <th>Instrument (in full)</th>\n",
       "      <th>Technique (abbr.)</th>\n",
       "      <th>Technique (in full)</th>\n",
       "      <th>Pitch</th>\n",
       "      <th>Pitch ID (if applicable)</th>\n",
       "      <th>Dynamics</th>\n",
       "      <th>Dynamics ID (if applicable)</th>\n",
       "      <th>Instance ID</th>\n",
       "      <th>Mute (abbr.)</th>\n",
       "      <th>Mute (in full)</th>\n",
       "      <th>String ID (if applicable)</th>\n",
       "      <th>Needed digital retuning</th>\n",
       "      <th>Fold</th>\n",
       "    </tr>\n",
       "  </thead>\n",
       "  <tbody>\n",
       "    <tr>\n",
       "      <th>0</th>\n",
       "      <td>Brass/Bass_Tuba+sordina/ordinario/BTb+S-ord-A#...</td>\n",
       "      <td>Brass</td>\n",
       "      <td>Brass</td>\n",
       "      <td>BTb</td>\n",
       "      <td>Bass Tuba</td>\n",
       "      <td>ord</td>\n",
       "      <td>ordinario</td>\n",
       "      <td>A#0</td>\n",
       "      <td>22.0</td>\n",
       "      <td>f</td>\n",
       "      <td>3.0</td>\n",
       "      <td>0.0</td>\n",
       "      <td>S</td>\n",
       "      <td>Sordina</td>\n",
       "      <td>NaN</td>\n",
       "      <td>False</td>\n",
       "      <td>2</td>\n",
       "    </tr>\n",
       "    <tr>\n",
       "      <th>1</th>\n",
       "      <td>Brass/Bass_Tuba+sordina/ordinario/BTb+S-ord-A#...</td>\n",
       "      <td>Brass</td>\n",
       "      <td>Brass</td>\n",
       "      <td>BTb</td>\n",
       "      <td>Bass Tuba</td>\n",
       "      <td>ord</td>\n",
       "      <td>ordinario</td>\n",
       "      <td>A#0</td>\n",
       "      <td>22.0</td>\n",
       "      <td>p</td>\n",
       "      <td>1.0</td>\n",
       "      <td>0.0</td>\n",
       "      <td>S</td>\n",
       "      <td>Sordina</td>\n",
       "      <td>NaN</td>\n",
       "      <td>True</td>\n",
       "      <td>0</td>\n",
       "    </tr>\n",
       "  </tbody>\n",
       "</table>\n",
       "</div>"
      ],
      "text/plain": [
       "                                                Path Family (abbr.)  \\\n",
       "0  Brass/Bass_Tuba+sordina/ordinario/BTb+S-ord-A#...          Brass   \n",
       "1  Brass/Bass_Tuba+sordina/ordinario/BTb+S-ord-A#...          Brass   \n",
       "\n",
       "  Family (in full) Instrument (abbr.) Instrument (in full) Technique (abbr.)  \\\n",
       "0            Brass                BTb            Bass Tuba               ord   \n",
       "1            Brass                BTb            Bass Tuba               ord   \n",
       "\n",
       "  Technique (in full) Pitch  Pitch ID (if applicable) Dynamics  \\\n",
       "0           ordinario   A#0                      22.0        f   \n",
       "1           ordinario   A#0                      22.0        p   \n",
       "\n",
       "   Dynamics ID (if applicable)  Instance ID Mute (abbr.) Mute (in full)  \\\n",
       "0                          3.0          0.0            S        Sordina   \n",
       "1                          1.0          0.0            S        Sordina   \n",
       "\n",
       "   String ID (if applicable)  Needed digital retuning  Fold  \n",
       "0                        NaN                    False     2  \n",
       "1                        NaN                     True     0  "
      ]
     },
     "execution_count": 7,
     "metadata": {},
     "output_type": "execute_result"
    }
   ],
   "source": [
    "meta_df.head(2)"
   ]
  },
  {
   "cell_type": "code",
   "execution_count": 8,
   "metadata": {},
   "outputs": [],
   "source": [
    "from random import random\n",
    "\n",
    "\n",
    "train_df, test_df = train_test_split(meta_df, stratify=meta_df['Instrument (in full)'], \n",
    "                                            train_size=0.7, random_state= 42)"
   ]
  },
  {
   "cell_type": "code",
   "execution_count": 9,
   "metadata": {},
   "outputs": [
    {
     "data": {
      "text/html": [
       "<div>\n",
       "<style scoped>\n",
       "    .dataframe tbody tr th:only-of-type {\n",
       "        vertical-align: middle;\n",
       "    }\n",
       "\n",
       "    .dataframe tbody tr th {\n",
       "        vertical-align: top;\n",
       "    }\n",
       "\n",
       "    .dataframe thead th {\n",
       "        text-align: right;\n",
       "    }\n",
       "</style>\n",
       "<table border=\"1\" class=\"dataframe\">\n",
       "  <thead>\n",
       "    <tr style=\"text-align: right;\">\n",
       "      <th></th>\n",
       "      <th>Instrument (in full)</th>\n",
       "      <th>Pitch ID (if applicable)</th>\n",
       "    </tr>\n",
       "  </thead>\n",
       "  <tbody>\n",
       "    <tr>\n",
       "      <th>4794</th>\n",
       "      <td>Contrabass</td>\n",
       "      <td>43.0</td>\n",
       "    </tr>\n",
       "    <tr>\n",
       "      <th>6427</th>\n",
       "      <td>Viola</td>\n",
       "      <td>62.0</td>\n",
       "    </tr>\n",
       "    <tr>\n",
       "      <th>10717</th>\n",
       "      <td>Cello</td>\n",
       "      <td>42.0</td>\n",
       "    </tr>\n",
       "    <tr>\n",
       "      <th>7699</th>\n",
       "      <td>Violin</td>\n",
       "      <td>69.0</td>\n",
       "    </tr>\n",
       "    <tr>\n",
       "      <th>5254</th>\n",
       "      <td>Contrabass</td>\n",
       "      <td>44.0</td>\n",
       "    </tr>\n",
       "    <tr>\n",
       "      <th>...</th>\n",
       "      <td>...</td>\n",
       "      <td>...</td>\n",
       "    </tr>\n",
       "    <tr>\n",
       "      <th>1681</th>\n",
       "      <td>Trombone</td>\n",
       "      <td>46.0</td>\n",
       "    </tr>\n",
       "    <tr>\n",
       "      <th>4206</th>\n",
       "      <td>Contrabass</td>\n",
       "      <td>53.0</td>\n",
       "    </tr>\n",
       "    <tr>\n",
       "      <th>6293</th>\n",
       "      <td>Viola</td>\n",
       "      <td>57.0</td>\n",
       "    </tr>\n",
       "    <tr>\n",
       "      <th>4274</th>\n",
       "      <td>Contrabass</td>\n",
       "      <td>66.0</td>\n",
       "    </tr>\n",
       "    <tr>\n",
       "      <th>2950</th>\n",
       "      <td>Accordion</td>\n",
       "      <td>78.0</td>\n",
       "    </tr>\n",
       "  </tbody>\n",
       "</table>\n",
       "<p>9213 rows × 2 columns</p>\n",
       "</div>"
      ],
      "text/plain": [
       "      Instrument (in full)  Pitch ID (if applicable)\n",
       "4794            Contrabass                      43.0\n",
       "6427                 Viola                      62.0\n",
       "10717                Cello                      42.0\n",
       "7699                Violin                      69.0\n",
       "5254            Contrabass                      44.0\n",
       "...                    ...                       ...\n",
       "1681              Trombone                      46.0\n",
       "4206            Contrabass                      53.0\n",
       "6293                 Viola                      57.0\n",
       "4274            Contrabass                      66.0\n",
       "2950             Accordion                      78.0\n",
       "\n",
       "[9213 rows x 2 columns]"
      ]
     },
     "execution_count": 9,
     "metadata": {},
     "output_type": "execute_result"
    }
   ],
   "source": [
    "train_df[['Instrument (in full)', 'Pitch ID (if applicable)']]"
   ]
  },
  {
   "cell_type": "code",
   "execution_count": 10,
   "metadata": {},
   "outputs": [
    {
     "data": {
      "text/plain": [
       "array([[1, 1, 1, 0, 1, 0, 0, 0, 0, 1, 1, 0, 1, 1, 1, 1, 0, 1, 1, 1, 1],\n",
       "       [1, 1, 1, 1, 1, 1, 1, 1, 1, 1, 1, 1, 1, 1, 0, 0, 1, 0, 0, 1, 0]])"
      ]
     },
     "execution_count": 10,
     "metadata": {},
     "output_type": "execute_result"
    }
   ],
   "source": [
    "label = LabelEncoder()\n",
    "multi = MultiLabelBinarizer()\n",
    "\n",
    "multi.fit_transform(train_df[['Instrument (in full)', 'Pitch ID (if applicable)']])"
   ]
  },
  {
   "cell_type": "code",
   "execution_count": 11,
   "metadata": {},
   "outputs": [],
   "source": [
    "train_df['target'] = [[i, str(j)] for i,j in zip(train_df['Instrument (in full)'], train_df['Pitch ID (if applicable)'])]"
   ]
  },
  {
   "cell_type": "code",
   "execution_count": 12,
   "metadata": {},
   "outputs": [
    {
     "data": {
      "text/plain": [
       "4794     [Contrabass, 43.0]\n",
       "6427          [Viola, 62.0]\n",
       "10717         [Cello, 42.0]\n",
       "7699         [Violin, 69.0]\n",
       "5254     [Contrabass, 44.0]\n",
       "                ...        \n",
       "1681       [Trombone, 46.0]\n",
       "4206     [Contrabass, 53.0]\n",
       "6293          [Viola, 57.0]\n",
       "4274     [Contrabass, 66.0]\n",
       "2950      [Accordion, 78.0]\n",
       "Name: target, Length: 9213, dtype: object"
      ]
     },
     "execution_count": 12,
     "metadata": {},
     "output_type": "execute_result"
    }
   ],
   "source": [
    "train_df['target']"
   ]
  },
  {
   "cell_type": "code",
   "execution_count": 13,
   "metadata": {},
   "outputs": [],
   "source": [
    "multi_2 = MultiLabelBinarizer()"
   ]
  },
  {
   "cell_type": "code",
   "execution_count": 14,
   "metadata": {},
   "outputs": [
    {
     "data": {
      "text/plain": [
       "16"
      ]
     },
     "execution_count": 14,
     "metadata": {},
     "output_type": "execute_result"
    }
   ],
   "source": [
    "len(train_df['Instrument (in full)'].unique())"
   ]
  },
  {
   "cell_type": "code",
   "execution_count": 15,
   "metadata": {},
   "outputs": [
    {
     "data": {
      "text/plain": [
       "90"
      ]
     },
     "execution_count": 15,
     "metadata": {},
     "output_type": "execute_result"
    }
   ],
   "source": [
    "len(train_df['Pitch ID (if applicable)'].unique())"
   ]
  },
  {
   "cell_type": "code",
   "execution_count": 16,
   "metadata": {},
   "outputs": [
    {
     "data": {
      "text/plain": [
       "(9213, 106)"
      ]
     },
     "execution_count": 16,
     "metadata": {},
     "output_type": "execute_result"
    }
   ],
   "source": [
    "multi_2.fit_transform(train_df['target']).shape"
   ]
  },
  {
   "cell_type": "code",
   "execution_count": 17,
   "metadata": {},
   "outputs": [
    {
     "data": {
      "text/plain": [
       "array([' ', '(', ')', 'D', 'I', 'P', 'a', 'b', 'c', 'e', 'f', 'h', 'i',\n",
       "       'l', 'm', 'n', 'p', 'r', 's', 't', 'u'], dtype=object)"
      ]
     },
     "execution_count": 17,
     "metadata": {},
     "output_type": "execute_result"
    }
   ],
   "source": [
    "multi.classes_"
   ]
  },
  {
   "cell_type": "code",
   "execution_count": 18,
   "metadata": {},
   "outputs": [],
   "source": [
    "multi_generator = spec_generator_multi(train_df, 32)"
   ]
  },
  {
   "cell_type": "code",
   "execution_count": 19,
   "metadata": {},
   "outputs": [
    {
     "name": "stdout",
     "output_type": "stream",
     "text": [
      "107\n"
     ]
    }
   ],
   "source": [
    "_, num_target = multi_generator.__getitem__(2)[1].shape\n",
    "print(num_target)"
   ]
  },
  {
   "cell_type": "code",
   "execution_count": 20,
   "metadata": {},
   "outputs": [
    {
     "name": "stdout",
     "output_type": "stream",
     "text": [
      "500\n",
      "256\n"
     ]
    }
   ],
   "source": [
    "_, num_row, num_col= multi_generator.__getitem__(2)[0].shape\n",
    "print(num_row)\n",
    "print(num_col)"
   ]
  },
  {
   "cell_type": "code",
   "execution_count": 21,
   "metadata": {},
   "outputs": [
    {
     "name": "stderr",
     "output_type": "stream",
     "text": [
      "2022-07-21 23:43:47.415922: I tensorflow/stream_executor/cuda/cuda_gpu_executor.cc:975] successful NUMA node read from SysFS had negative value (-1), but there must be at least one NUMA node, so returning NUMA node zero\n",
      "2022-07-21 23:43:47.451708: I tensorflow/stream_executor/cuda/cuda_gpu_executor.cc:975] successful NUMA node read from SysFS had negative value (-1), but there must be at least one NUMA node, so returning NUMA node zero\n",
      "2022-07-21 23:43:47.452139: I tensorflow/stream_executor/cuda/cuda_gpu_executor.cc:975] successful NUMA node read from SysFS had negative value (-1), but there must be at least one NUMA node, so returning NUMA node zero\n",
      "2022-07-21 23:43:47.453031: I tensorflow/core/platform/cpu_feature_guard.cc:193] This TensorFlow binary is optimized with oneAPI Deep Neural Network Library (oneDNN) to use the following CPU instructions in performance-critical operations:  AVX2 FMA\n",
      "To enable them in other operations, rebuild TensorFlow with the appropriate compiler flags.\n",
      "2022-07-21 23:43:47.453868: I tensorflow/stream_executor/cuda/cuda_gpu_executor.cc:975] successful NUMA node read from SysFS had negative value (-1), but there must be at least one NUMA node, so returning NUMA node zero\n",
      "2022-07-21 23:43:47.454294: I tensorflow/stream_executor/cuda/cuda_gpu_executor.cc:975] successful NUMA node read from SysFS had negative value (-1), but there must be at least one NUMA node, so returning NUMA node zero\n",
      "2022-07-21 23:43:47.454665: I tensorflow/stream_executor/cuda/cuda_gpu_executor.cc:975] successful NUMA node read from SysFS had negative value (-1), but there must be at least one NUMA node, so returning NUMA node zero\n",
      "2022-07-21 23:43:48.399802: I tensorflow/stream_executor/cuda/cuda_gpu_executor.cc:975] successful NUMA node read from SysFS had negative value (-1), but there must be at least one NUMA node, so returning NUMA node zero\n",
      "2022-07-21 23:43:48.400190: I tensorflow/stream_executor/cuda/cuda_gpu_executor.cc:975] successful NUMA node read from SysFS had negative value (-1), but there must be at least one NUMA node, so returning NUMA node zero\n",
      "2022-07-21 23:43:48.400498: I tensorflow/stream_executor/cuda/cuda_gpu_executor.cc:975] successful NUMA node read from SysFS had negative value (-1), but there must be at least one NUMA node, so returning NUMA node zero\n",
      "2022-07-21 23:43:48.401004: I tensorflow/core/common_runtime/gpu/gpu_device.cc:1532] Created device /job:localhost/replica:0/task:0/device:GPU:0 with 3370 MB memory:  -> device: 0, name: NVIDIA GeForce GTX 1050, pci bus id: 0000:01:00.0, compute capability: 6.1\n"
     ]
    }
   ],
   "source": [
    "BATCH_SIZE = 32\n",
    "\n",
    "\n",
    "train_generator = (tf.data.Dataset.from_generator(lambda: spec_generator_multi(train_df, BATCH_SIZE), output_types=(tf.complex64, tf.int64), \n",
    "                 output_shapes = ((BATCH_SIZE, num_row, num_col), \n",
    "                 (BATCH_SIZE, num_target)))).prefetch((tf.data.experimental.AUTOTUNE))\n",
    "\n",
    "eval_generator = (tf.data.Dataset.from_generator(lambda: spec_generator_multi(test_df, BATCH_SIZE), \n",
    "                    output_types=(tf.complex64, tf.int64), \n",
    "                 output_shapes = ((BATCH_SIZE, num_row, num_col), \n",
    "                 (BATCH_SIZE, num_target)))).prefetch((tf.data.experimental.AUTOTUNE))\n"
   ]
  },
  {
   "cell_type": "code",
   "execution_count": 22,
   "metadata": {},
   "outputs": [],
   "source": [
    "\n",
    "\n",
    "rnn = Sequential()\n",
    "\n",
    "rnn.add(layers.InputLayer((num_row, num_col), batch_size= BATCH_SIZE))\n",
    "rnn.add(LSTM(500))\n",
    "rnn.add(layers.Dropout(0.2))\n",
    "rnn.add(layers.Dense(50, activation = 'relu'))\n",
    "rnn.add(layers.Dense(num_target, activation = 'sigmoid'))\n",
    "\n"
   ]
  },
  {
   "cell_type": "code",
   "execution_count": 23,
   "metadata": {},
   "outputs": [
    {
     "data": {
      "image/png": "[encoded data removed]",
      "text/plain": [
       "<IPython.core.display.Image object>"
      ]
     },
     "execution_count": 23,
     "metadata": {},
     "output_type": "execute_result"
    }
   ],
   "source": [
    "tf.keras.utils.plot_model(rnn, show_shapes = True, show_dtype= True)"
   ]
  },
  {
   "cell_type": "code",
   "execution_count": 24,
   "metadata": {},
   "outputs": [],
   "source": [
    "rnn.compile(optimizer=tf.keras.optimizers.Adam(learning_rate=0.03),\n",
    "              loss=tf.keras.losses.BinaryCrossentropy(),\n",
    "              metrics=['accuracy', tf.keras.metrics.AUC(), tf.keras.metrics.Precision()])"
   ]
  },
  {
   "cell_type": "code",
   "execution_count": 26,
   "metadata": {},
   "outputs": [
    {
     "name": "stdout",
     "output_type": "stream",
     "text": [
      "Epoch 1/4\n"
     ]
    },
    {
     "name": "stderr",
     "output_type": "stream",
     "text": [
      "2022-07-21 22:26:04.912618: W tensorflow/core/framework/cpu_allocator_impl.cc:82] Allocation of 32768000 exceeds 10% of free system memory.\n",
      "2022-07-21 22:26:05.575817: I tensorflow/stream_executor/cuda/cuda_dnn.cc:384] Loaded cuDNN version 8100\n"
     ]
    },
    {
     "name": "stdout",
     "output_type": "stream",
     "text": [
      "      2/Unknown - 4s 172ms/step - loss: 0.6768 - accuracy: 0.0000e+00 - auc: 0.5040 - precision: 0.0198"
     ]
    },
    {
     "name": "stderr",
     "output_type": "stream",
     "text": [
      "2022-07-21 22:26:06.771392: W tensorflow/core/framework/cpu_allocator_impl.cc:82] Allocation of 32768000 exceeds 10% of free system memory.\n",
      "2022-07-21 22:26:06.943633: W tensorflow/core/framework/cpu_allocator_impl.cc:82] Allocation of 32768000 exceeds 10% of free system memory.\n"
     ]
    },
    {
     "name": "stdout",
     "output_type": "stream",
     "text": [
      "      5/Unknown - 4s 164ms/step - loss: 0.4977 - accuracy: 0.0125 - auc: 0.5075 - precision: 0.0198  "
     ]
    },
    {
     "name": "stderr",
     "output_type": "stream",
     "text": [
      "2022-07-21 22:26:07.256365: W tensorflow/core/framework/cpu_allocator_impl.cc:82] Allocation of 32768000 exceeds 10% of free system memory.\n"
     ]
    },
    {
     "name": "stdout",
     "output_type": "stream",
     "text": [
      "      7/Unknown - 5s 163ms/step - loss: 0.4066 - accuracy: 0.0134 - auc: 0.5258 - precision: 0.0214"
     ]
    },
    {
     "name": "stderr",
     "output_type": "stream",
     "text": [
      "2022-07-21 22:26:07.567652: W tensorflow/core/framework/cpu_allocator_impl.cc:82] Allocation of 32768000 exceeds 10% of free system memory.\n"
     ]
    },
    {
     "name": "stdout",
     "output_type": "stream",
     "text": [
      "    287/Unknown - 50s 162ms/step - loss: 0.0952 - accuracy: 0.0011 - auc: 0.7291 - precision: 0.0239"
     ]
    },
    {
     "name": "stderr",
     "output_type": "stream",
     "text": [
      "WARNING:absl:Found untraced functions such as lstm_cell_layer_call_fn, lstm_cell_layer_call_and_return_conditional_losses while saving (showing 2 of 2). These functions will not be directly callable after loading.\n"
     ]
    },
    {
     "name": "stdout",
     "output_type": "stream",
     "text": [
      "INFO:tensorflow:Assets written to: ../models/baseline_checkpoint/20220721_222602_01_rnn/assets\n"
     ]
    },
    {
     "name": "stderr",
     "output_type": "stream",
     "text": [
      "INFO:tensorflow:Assets written to: ../models/baseline_checkpoint/20220721_222602_01_rnn/assets\n"
     ]
    },
    {
     "name": "stdout",
     "output_type": "stream",
     "text": [
      "287/287 [==============================] - 57s 186ms/step - loss: 0.0952 - accuracy: 0.0011 - auc: 0.7291 - precision: 0.0239\n",
      "Epoch 2/4\n",
      "287/287 [==============================] - ETA: 0s - loss: 0.0824 - accuracy: 0.0000e+00 - auc: 0.7632 - precision: 0.5000"
     ]
    },
    {
     "name": "stderr",
     "output_type": "stream",
     "text": [
      "WARNING:absl:Found untraced functions such as lstm_cell_layer_call_fn, lstm_cell_layer_call_and_return_conditional_losses while saving (showing 2 of 2). These functions will not be directly callable after loading.\n"
     ]
    },
    {
     "name": "stdout",
     "output_type": "stream",
     "text": [
      "INFO:tensorflow:Assets written to: ../models/baseline_checkpoint/20220721_222602_02_rnn/assets\n"
     ]
    },
    {
     "name": "stderr",
     "output_type": "stream",
     "text": [
      "INFO:tensorflow:Assets written to: ../models/baseline_checkpoint/20220721_222602_02_rnn/assets\n"
     ]
    },
    {
     "name": "stdout",
     "output_type": "stream",
     "text": [
      "287/287 [==============================] - 56s 195ms/step - loss: 0.0824 - accuracy: 0.0000e+00 - auc: 0.7632 - precision: 0.5000 - val_loss: 0.0790 - val_accuracy: 0.0000e+00 - val_auc: 0.7978 - val_precision: 0.7222\n",
      "Epoch 3/4\n",
      "287/287 [==============================] - ETA: 0s - loss: 0.0801 - accuracy: 0.0000e+00 - auc: 0.7866 - precision: 0.5857"
     ]
    },
    {
     "name": "stderr",
     "output_type": "stream",
     "text": [
      "WARNING:absl:Found untraced functions such as lstm_cell_layer_call_fn, lstm_cell_layer_call_and_return_conditional_losses while saving (showing 2 of 2). These functions will not be directly callable after loading.\n"
     ]
    },
    {
     "name": "stdout",
     "output_type": "stream",
     "text": [
      "INFO:tensorflow:Assets written to: ../models/baseline_checkpoint/20220721_222602_03_rnn/assets\n"
     ]
    },
    {
     "name": "stderr",
     "output_type": "stream",
     "text": [
      "INFO:tensorflow:Assets written to: ../models/baseline_checkpoint/20220721_222602_03_rnn/assets\n"
     ]
    },
    {
     "name": "stdout",
     "output_type": "stream",
     "text": [
      "287/287 [==============================] - 60s 209ms/step - loss: 0.0801 - accuracy: 0.0000e+00 - auc: 0.7866 - precision: 0.5857\n"
     ]
    }
   ],
   "source": [
    "from datetime import datetime\n",
    "\n",
    "ckpt_callback = tf.keras.callbacks.ModelCheckpoint(\n",
    "    f\"../models/baseline_checkpoint/{datetime.now().strftime('%Y%m%d_%H%M%S')}_{{epoch:02d}}_rnn\", \n",
    "                                                    monitor='val_accuracy')\n",
    "early_callback = tf.keras.callbacks.EarlyStopping(monitor = 'accuracy', patience = 2)\n",
    "\n",
    "\n",
    "history = rnn.fit(train_generator, epochs = 4, verbose=1, \n",
    "                    validation_data = eval_generator,\n",
    "                    validation_steps = 10, validation_freq= 2, \n",
    "                    use_multiprocessing=True, workers = 2, callbacks=[ckpt_callback, early_callback])"
   ]
  },
  {
   "cell_type": "code",
   "execution_count": 25,
   "metadata": {},
   "outputs": [],
   "source": [
    "test = meta_df.sample(1)[['Path', 'Instrument (in full)', 'Pitch ID (if applicable)']]"
   ]
  },
  {
   "cell_type": "code",
   "execution_count": 26,
   "metadata": {},
   "outputs": [
    {
     "data": {
      "text/html": [
       "<div>\n",
       "<style scoped>\n",
       "    .dataframe tbody tr th:only-of-type {\n",
       "        vertical-align: middle;\n",
       "    }\n",
       "\n",
       "    .dataframe tbody tr th {\n",
       "        vertical-align: top;\n",
       "    }\n",
       "\n",
       "    .dataframe thead th {\n",
       "        text-align: right;\n",
       "    }\n",
       "</style>\n",
       "<table border=\"1\" class=\"dataframe\">\n",
       "  <thead>\n",
       "    <tr style=\"text-align: right;\">\n",
       "      <th></th>\n",
       "      <th>Path</th>\n",
       "      <th>Instrument (in full)</th>\n",
       "      <th>Pitch ID (if applicable)</th>\n",
       "    </tr>\n",
       "  </thead>\n",
       "  <tbody>\n",
       "    <tr>\n",
       "      <th>7422</th>\n",
       "      <td>Strings/Viola/tremolo/Va-trem-B4-ff-3c-N.wav</td>\n",
       "      <td>Viola</td>\n",
       "      <td>71.0</td>\n",
       "    </tr>\n",
       "  </tbody>\n",
       "</table>\n",
       "</div>"
      ],
      "text/plain": [
       "                                              Path Instrument (in full)  \\\n",
       "7422  Strings/Viola/tremolo/Va-trem-B4-ff-3c-N.wav                Viola   \n",
       "\n",
       "      Pitch ID (if applicable)  \n",
       "7422                      71.0  "
      ]
     },
     "execution_count": 26,
     "metadata": {},
     "output_type": "execute_result"
    }
   ],
   "source": [
    "test"
   ]
  },
  {
   "cell_type": "code",
   "execution_count": 27,
   "metadata": {},
   "outputs": [],
   "source": [
    "test_spec = spectrogram(test['Path'].values[0])"
   ]
  },
  {
   "cell_type": "code",
   "execution_count": 28,
   "metadata": {},
   "outputs": [
    {
     "data": {
      "text/plain": [
       "array([[0., 0., 0., ..., 0., 0., 0.],\n",
       "       [0., 0., 0., ..., 0., 0., 0.],\n",
       "       [0., 0., 0., ..., 0., 0., 0.],\n",
       "       ...,\n",
       "       [0., 0., 0., ..., 0., 0., 0.],\n",
       "       [0., 0., 0., ..., 0., 0., 0.],\n",
       "       [0., 0., 0., ..., 0., 0., 0.]])"
      ]
     },
     "execution_count": 28,
     "metadata": {},
     "output_type": "execute_result"
    }
   ],
   "source": [
    "test_spec.spec"
   ]
  },
  {
   "cell_type": "code",
   "execution_count": 29,
   "metadata": {},
   "outputs": [
    {
     "data": {
      "text/plain": [
       "(256, 500)"
      ]
     },
     "execution_count": 29,
     "metadata": {},
     "output_type": "execute_result"
    }
   ],
   "source": [
    "test_spec.spec.shape"
   ]
  },
  {
   "cell_type": "code",
   "execution_count": 30,
   "metadata": {},
   "outputs": [
    {
     "data": {
      "text/plain": [
       "(256, 500, 1)"
      ]
     },
     "execution_count": 30,
     "metadata": {},
     "output_type": "execute_result"
    }
   ],
   "source": [
    "np.reshape(test_spec.spec, (256, 500, 1)).shape"
   ]
  },
  {
   "cell_type": "code",
   "execution_count": 31,
   "metadata": {},
   "outputs": [
    {
     "ename": "TypeError",
     "evalue": "_reshape_dispatcher() missing 1 required positional argument: 'newshape'",
     "output_type": "error",
     "traceback": [
      "\u001b[0;31m---------------------------------------------------------------------------\u001b[0m",
      "\u001b[0;31mTypeError\u001b[0m                                 Traceback (most recent call last)",
      "\u001b[1;32m/home/shiya/Documents/music_transcription/notebooks/music_transcription_RNN.ipynb Cell 32\u001b[0m in \u001b[0;36m<cell line: 1>\u001b[0;34m()\u001b[0m\n\u001b[0;32m----> <a href='vscode-notebook-cell:/home/shiya/Documents/music_transcription/notebooks/music_transcription_RNN.ipynb#ch0000031?line=0'>1</a>\u001b[0m np\u001b[39m.\u001b[39;49mreshape(multi_generator\u001b[39m.\u001b[39;49m\u001b[39m__getitem__\u001b[39;49m(\u001b[39m2\u001b[39;49m)[\u001b[39m0\u001b[39;49m])\u001b[39m.\u001b[39mshape\n",
      "File \u001b[0;32m<__array_function__ internals>:4\u001b[0m, in \u001b[0;36mreshape\u001b[0;34m(*args, **kwargs)\u001b[0m\n",
      "\u001b[0;31mTypeError\u001b[0m: _reshape_dispatcher() missing 1 required positional argument: 'newshape'"
     ]
    }
   ],
   "source": [
    "np.reshape(multi_generator.__getitem__(2)[0]).shape"
   ]
  },
  {
   "cell_type": "code",
   "execution_count": null,
   "metadata": {},
   "outputs": [
    {
     "name": "stdout",
     "output_type": "stream",
     "text": [
      "1/1 [==============================] - 0s 35ms/step\n"
     ]
    },
    {
     "data": {
      "text/plain": [
       "array([0.00260453, 0.0005687 , 0.00055939, 0.00070645, 0.00212344,\n",
       "       0.00209092, 0.00076596, 0.00086604, 0.00232595, 0.00059876,\n",
       "       0.00055543, 0.00040937, 0.00020813, 0.00070759, 0.00256349,\n",
       "       0.00275815, 0.00172904, 0.00052593, 0.00719799, 0.00512902,\n",
       "       0.00112033, 0.00474609, 0.00487907, 0.01241985, 0.00651898,\n",
       "       0.00714459, 0.00492266, 0.00378284, 0.0041289 , 0.00875445,\n",
       "       0.00663424, 0.00509705, 0.00700022, 0.02220988, 0.00909952,\n",
       "       0.00190063, 0.00916105, 0.00349951, 0.0099712 , 0.00689452,\n",
       "       0.00729102, 0.00720703, 0.00337747, 0.00523437, 0.00536347,\n",
       "       0.01170427, 0.0165459 , 0.02236199, 0.01643208, 0.00229629,\n",
       "       0.01995986, 0.03674094, 0.0113699 , 0.00882796, 0.02286237,\n",
       "       0.01461896, 0.01132258, 0.00916229, 0.01118264, 0.01318029,\n",
       "       0.02608438, 0.02820007, 0.02263157, 0.00697275, 0.00730005,\n",
       "       0.03116695, 0.00509924, 0.0111141 , 0.01153703, 0.00677821,\n",
       "       0.01254568, 0.00330228, 0.03986355, 0.01642948, 0.0243214 ,\n",
       "       0.00270509, 0.01519549, 0.01367603, 0.01422773, 0.00585963,\n",
       "       0.00462379, 0.00961618, 0.00608411, 0.00690496, 0.00243137,\n",
       "       0.012342  , 0.00314594, 0.00134029, 0.00070768, 0.00832617,\n",
       "       0.06475247, 0.02915039, 0.02731674, 0.02016558, 0.13515633,\n",
       "       0.03907353, 0.1540603 , 0.03274323, 0.02789471, 0.01494279,\n",
       "       0.02258306, 0.04150349, 0.03596182, 0.00827405, 0.17179544,\n",
       "       0.12641424, 0.00024926], dtype=float32)"
      ]
     },
     "execution_count": 36,
     "metadata": {},
     "output_type": "execute_result"
    }
   ],
   "source": [
    "rnn.predict_(multi_generator.__getitem__(2)[0])[0]"
   ]
  },
  {
   "cell_type": "code",
   "execution_count": null,
   "metadata": {},
   "outputs": [
    {
     "data": {
      "text/plain": [
       "(500, 256, 1)"
      ]
     },
     "execution_count": 50,
     "metadata": {},
     "output_type": "execute_result"
    }
   ],
   "source": [
    "multi_generator.__getitem__(2)[0][0].shape"
   ]
  },
  {
   "cell_type": "markdown",
   "metadata": {},
   "source": [
    "# Rnn two onte-hot target"
   ]
  },
  {
   "cell_type": "code",
   "execution_count": 27,
   "metadata": {},
   "outputs": [],
   "source": [
    "from unicodedata import name\n",
    "\n",
    "\n",
    "inp = Input((num_row, num_col), batch_size=BATCH_SIZE, )\n",
    "x = LSTM(500)(inp)\n",
    "x = layers.Dropout(0.2)(x)\n",
    "x = layers.Dense(50, activation = 'relu')(x)\n",
    "out1 = layers.Dense(16, activation = 'softmax', name = 'out1')(x)\n",
    "\n",
    "y = LSTM(500)(inp)\n",
    "y = layers.Dropout(0.2)(y)\n",
    "y = layers.Dense(50, activation = 'relu')(y)\n",
    "out2 = layers.Dense(107-16, activation = 'softmax', name = 'out2')(y)\n",
    "\n",
    "model_2conv_two_out = Model(inp, [out1, out2])"
   ]
  },
  {
   "cell_type": "code",
   "execution_count": 28,
   "metadata": {},
   "outputs": [
    {
     "data": {
      "image/png": "[encoded data removed]",
      "text/plain": [
       "<IPython.core.display.Image object>"
      ]
     },
     "execution_count": 28,
     "metadata": {},
     "output_type": "execute_result"
    }
   ],
   "source": [
    "tf.keras.utils.plot_model(model_2conv_two_out, show_shapes=True, show_dtype=True)"
   ]
  },
  {
   "cell_type": "code",
   "execution_count": 32,
   "metadata": {},
   "outputs": [
    {
     "name": "stdout",
     "output_type": "stream",
     "text": [
      "Model: \"model\"\n",
      "__________________________________________________________________________________________________\n",
      " Layer (type)                   Output Shape         Param #     Connected to                     \n",
      "==================================================================================================\n",
      " input_2 (InputLayer)           [(32, 500, 256)]     0           []                               \n",
      "                                                                                                  \n",
      " lstm_1 (LSTM)                  (32, 500)            1514000     ['input_2[0][0]']                \n",
      "                                                                                                  \n",
      " lstm_2 (LSTM)                  (32, 500)            1514000     ['input_2[0][0]']                \n",
      "                                                                                                  \n",
      " dropout_1 (Dropout)            (32, 500)            0           ['lstm_1[0][0]']                 \n",
      "                                                                                                  \n",
      " dropout_2 (Dropout)            (32, 500)            0           ['lstm_2[0][0]']                 \n",
      "                                                                                                  \n",
      " dense_2 (Dense)                (32, 50)             25050       ['dropout_1[0][0]']              \n",
      "                                                                                                  \n",
      " dense_3 (Dense)                (32, 50)             25050       ['dropout_2[0][0]']              \n",
      "                                                                                                  \n",
      " out1 (Dense)                   (32, 16)             816         ['dense_2[0][0]']                \n",
      "                                                                                                  \n",
      " out2 (Dense)                   (32, 91)             4641        ['dense_3[0][0]']                \n",
      "                                                                                                  \n",
      "==================================================================================================\n",
      "Total params: 3,083,557\n",
      "Trainable params: 3,083,557\n",
      "Non-trainable params: 0\n",
      "__________________________________________________________________________________________________\n"
     ]
    }
   ],
   "source": [
    "model_2conv_two_out.summary()"
   ]
  },
  {
   "cell_type": "code",
   "execution_count": 29,
   "metadata": {},
   "outputs": [],
   "source": [
    "model_2conv_two_out.compile(optimizer=tf.keras.optimizers.Adam(learning_rate=0.005),\n",
    "              loss={'out1': tf.keras.losses.CategoricalCrossentropy(),\n",
    "                    'out2': tf.keras.losses.CategoricalCrossentropy()},\n",
    "              metrics=['accuracy', tf.keras.metrics.AUC()])"
   ]
  },
  {
   "cell_type": "code",
   "execution_count": 30,
   "metadata": {},
   "outputs": [],
   "source": [
    "multioutput_generator = spec_generator_multioutput(train_df, 32)\n",
    "multioutput_test_generator = spec_generator_multioutput(test_df, 32)"
   ]
  },
  {
   "cell_type": "code",
   "execution_count": 34,
   "metadata": {},
   "outputs": [
    {
     "name": "stdout",
     "output_type": "stream",
     "text": [
      "Epoch 1/10\n",
      "287/287 [==============================] - ETA: 0s - loss: 4.3146 - out1_loss: 2.3358 - out2_loss: 1.9789 - out1_accuracy: 0.2386 - out1_auc_1: 0.7636 - out2_accuracy: 0.4943 - out2_auc_1: 0.9474"
     ]
    },
    {
     "name": "stderr",
     "output_type": "stream",
     "text": [
      "WARNING:absl:Found untraced functions such as lstm_cell_1_layer_call_fn, lstm_cell_1_layer_call_and_return_conditional_losses, lstm_cell_2_layer_call_fn, lstm_cell_2_layer_call_and_return_conditional_losses while saving (showing 4 of 4). These functions will not be directly callable after loading.\n"
     ]
    },
    {
     "name": "stdout",
     "output_type": "stream",
     "text": [
      "INFO:tensorflow:Assets written to: ../models/baseline_checkpoint/20220722_053940_01_rnn_multioutput/assets\n"
     ]
    },
    {
     "name": "stderr",
     "output_type": "stream",
     "text": [
      "INFO:tensorflow:Assets written to: ../models/baseline_checkpoint/20220722_053940_01_rnn_multioutput/assets\n"
     ]
    },
    {
     "name": "stdout",
     "output_type": "stream",
     "text": [
      "WARNING:tensorflow:Early stopping conditioned on metric `accuracy` which is not available. Available metrics are: loss,out1_loss,out2_loss,out1_accuracy,out1_auc_1,out2_accuracy,out2_auc_1,val_loss,val_out1_loss,val_out2_loss,val_out1_accuracy,val_out1_auc_1,val_out2_accuracy,val_out2_auc_1\n"
     ]
    },
    {
     "name": "stderr",
     "output_type": "stream",
     "text": [
      "WARNING:tensorflow:Early stopping conditioned on metric `accuracy` which is not available. Available metrics are: loss,out1_loss,out2_loss,out1_accuracy,out1_auc_1,out2_accuracy,out2_auc_1,val_loss,val_out1_loss,val_out2_loss,val_out1_accuracy,val_out1_auc_1,val_out2_accuracy,val_out2_auc_1\n"
     ]
    },
    {
     "name": "stdout",
     "output_type": "stream",
     "text": [
      "287/287 [==============================] - 115s 399ms/step - loss: 4.3146 - out1_loss: 2.3358 - out2_loss: 1.9789 - out1_accuracy: 0.2386 - out1_auc_1: 0.7636 - out2_accuracy: 0.4943 - out2_auc_1: 0.9474 - val_loss: 4.4017 - val_out1_loss: 2.3383 - val_out2_loss: 2.0634 - val_out1_accuracy: 0.2403 - val_out1_auc_1: 0.7597 - val_out2_accuracy: 0.4842 - val_out2_auc_1: 0.9414\n",
      "Epoch 2/10\n",
      "287/287 [==============================] - ETA: 0s - loss: 4.1081 - out1_loss: 2.2777 - out2_loss: 1.8304 - out1_accuracy: 0.2513 - out1_auc_1: 0.7798 - out2_accuracy: 0.5302 - out2_auc_1: 0.9539"
     ]
    },
    {
     "name": "stderr",
     "output_type": "stream",
     "text": [
      "WARNING:absl:Found untraced functions such as lstm_cell_1_layer_call_fn, lstm_cell_1_layer_call_and_return_conditional_losses, lstm_cell_2_layer_call_fn, lstm_cell_2_layer_call_and_return_conditional_losses while saving (showing 4 of 4). These functions will not be directly callable after loading.\n"
     ]
    },
    {
     "name": "stdout",
     "output_type": "stream",
     "text": [
      "INFO:tensorflow:Assets written to: ../models/baseline_checkpoint/20220722_053940_02_rnn_multioutput/assets\n"
     ]
    },
    {
     "name": "stderr",
     "output_type": "stream",
     "text": [
      "INFO:tensorflow:Assets written to: ../models/baseline_checkpoint/20220722_053940_02_rnn_multioutput/assets\n"
     ]
    },
    {
     "name": "stdout",
     "output_type": "stream",
     "text": [
      "WARNING:tensorflow:Early stopping conditioned on metric `accuracy` which is not available. Available metrics are: loss,out1_loss,out2_loss,out1_accuracy,out1_auc_1,out2_accuracy,out2_auc_1,val_loss,val_out1_loss,val_out2_loss,val_out1_accuracy,val_out1_auc_1,val_out2_accuracy,val_out2_auc_1\n"
     ]
    },
    {
     "name": "stderr",
     "output_type": "stream",
     "text": [
      "WARNING:tensorflow:Early stopping conditioned on metric `accuracy` which is not available. Available metrics are: loss,out1_loss,out2_loss,out1_accuracy,out1_auc_1,out2_accuracy,out2_auc_1,val_loss,val_out1_loss,val_out2_loss,val_out1_accuracy,val_out1_auc_1,val_out2_accuracy,val_out2_auc_1\n"
     ]
    },
    {
     "name": "stdout",
     "output_type": "stream",
     "text": [
      "287/287 [==============================] - 129s 450ms/step - loss: 4.1081 - out1_loss: 2.2777 - out2_loss: 1.8304 - out1_accuracy: 0.2513 - out1_auc_1: 0.7798 - out2_accuracy: 0.5302 - out2_auc_1: 0.9539 - val_loss: 4.2529 - val_out1_loss: 2.2809 - val_out2_loss: 1.9720 - val_out1_accuracy: 0.2624 - val_out1_auc_1: 0.7836 - val_out2_accuracy: 0.5191 - val_out2_auc_1: 0.9433\n",
      "Epoch 3/10\n",
      "287/287 [==============================] - ETA: 0s - loss: 3.9770 - out1_loss: 2.2384 - out2_loss: 1.7386 - out1_accuracy: 0.2651 - out1_auc_1: 0.7905 - out2_accuracy: 0.5522 - out2_auc_1: 0.9577"
     ]
    },
    {
     "name": "stderr",
     "output_type": "stream",
     "text": [
      "WARNING:absl:Found untraced functions such as lstm_cell_1_layer_call_fn, lstm_cell_1_layer_call_and_return_conditional_losses, lstm_cell_2_layer_call_fn, lstm_cell_2_layer_call_and_return_conditional_losses while saving (showing 4 of 4). These functions will not be directly callable after loading.\n"
     ]
    },
    {
     "name": "stdout",
     "output_type": "stream",
     "text": [
      "INFO:tensorflow:Assets written to: ../models/baseline_checkpoint/20220722_053940_03_rnn_multioutput/assets\n"
     ]
    },
    {
     "name": "stderr",
     "output_type": "stream",
     "text": [
      "INFO:tensorflow:Assets written to: ../models/baseline_checkpoint/20220722_053940_03_rnn_multioutput/assets\n"
     ]
    },
    {
     "name": "stdout",
     "output_type": "stream",
     "text": [
      "WARNING:tensorflow:Early stopping conditioned on metric `accuracy` which is not available. Available metrics are: loss,out1_loss,out2_loss,out1_accuracy,out1_auc_1,out2_accuracy,out2_auc_1,val_loss,val_out1_loss,val_out2_loss,val_out1_accuracy,val_out1_auc_1,val_out2_accuracy,val_out2_auc_1\n"
     ]
    },
    {
     "name": "stderr",
     "output_type": "stream",
     "text": [
      "WARNING:tensorflow:Early stopping conditioned on metric `accuracy` which is not available. Available metrics are: loss,out1_loss,out2_loss,out1_accuracy,out1_auc_1,out2_accuracy,out2_auc_1,val_loss,val_out1_loss,val_out2_loss,val_out1_accuracy,val_out1_auc_1,val_out2_accuracy,val_out2_auc_1\n"
     ]
    },
    {
     "name": "stdout",
     "output_type": "stream",
     "text": [
      "287/287 [==============================] - 136s 471ms/step - loss: 3.9770 - out1_loss: 2.2384 - out2_loss: 1.7386 - out1_accuracy: 0.2651 - out1_auc_1: 0.7905 - out2_accuracy: 0.5522 - out2_auc_1: 0.9577 - val_loss: 4.0961 - val_out1_loss: 2.2309 - val_out2_loss: 1.8652 - val_out1_accuracy: 0.2683 - val_out1_auc_1: 0.7932 - val_out2_accuracy: 0.5450 - val_out2_auc_1: 0.9444\n",
      "Epoch 4/10\n",
      "287/287 [==============================] - ETA: 0s - loss: 3.9447 - out1_loss: 2.1978 - out2_loss: 1.7469 - out1_accuracy: 0.2681 - out1_auc_1: 0.8012 - out2_accuracy: 0.5566 - out2_auc_1: 0.9552"
     ]
    },
    {
     "name": "stderr",
     "output_type": "stream",
     "text": [
      "WARNING:absl:Found untraced functions such as lstm_cell_1_layer_call_fn, lstm_cell_1_layer_call_and_return_conditional_losses, lstm_cell_2_layer_call_fn, lstm_cell_2_layer_call_and_return_conditional_losses while saving (showing 4 of 4). These functions will not be directly callable after loading.\n"
     ]
    },
    {
     "name": "stdout",
     "output_type": "stream",
     "text": [
      "INFO:tensorflow:Assets written to: ../models/baseline_checkpoint/20220722_053940_04_rnn_multioutput/assets\n"
     ]
    },
    {
     "name": "stderr",
     "output_type": "stream",
     "text": [
      "INFO:tensorflow:Assets written to: ../models/baseline_checkpoint/20220722_053940_04_rnn_multioutput/assets\n"
     ]
    },
    {
     "name": "stdout",
     "output_type": "stream",
     "text": [
      "WARNING:tensorflow:Early stopping conditioned on metric `accuracy` which is not available. Available metrics are: loss,out1_loss,out2_loss,out1_accuracy,out1_auc_1,out2_accuracy,out2_auc_1,val_loss,val_out1_loss,val_out2_loss,val_out1_accuracy,val_out1_auc_1,val_out2_accuracy,val_out2_auc_1\n"
     ]
    },
    {
     "name": "stderr",
     "output_type": "stream",
     "text": [
      "WARNING:tensorflow:Early stopping conditioned on metric `accuracy` which is not available. Available metrics are: loss,out1_loss,out2_loss,out1_accuracy,out1_auc_1,out2_accuracy,out2_auc_1,val_loss,val_out1_loss,val_out2_loss,val_out1_accuracy,val_out1_auc_1,val_out2_accuracy,val_out2_auc_1\n"
     ]
    },
    {
     "name": "stdout",
     "output_type": "stream",
     "text": [
      "287/287 [==============================] - 147s 512ms/step - loss: 3.9447 - out1_loss: 2.1978 - out2_loss: 1.7469 - out1_accuracy: 0.2681 - out1_auc_1: 0.8012 - out2_accuracy: 0.5566 - out2_auc_1: 0.9552 - val_loss: 3.9395 - val_out1_loss: 2.1861 - val_out2_loss: 1.7534 - val_out1_accuracy: 0.2891 - val_out1_auc_1: 0.8015 - val_out2_accuracy: 0.5722 - val_out2_auc_1: 0.9527\n",
      "Epoch 5/10\n",
      "287/287 [==============================] - ETA: 0s - loss: 3.8131 - out1_loss: 2.1803 - out2_loss: 1.6328 - out1_accuracy: 0.2758 - out1_auc_1: 0.8048 - out2_accuracy: 0.5811 - out2_auc_1: 0.9618"
     ]
    },
    {
     "name": "stderr",
     "output_type": "stream",
     "text": [
      "WARNING:absl:Found untraced functions such as lstm_cell_1_layer_call_fn, lstm_cell_1_layer_call_and_return_conditional_losses, lstm_cell_2_layer_call_fn, lstm_cell_2_layer_call_and_return_conditional_losses while saving (showing 4 of 4). These functions will not be directly callable after loading.\n"
     ]
    },
    {
     "name": "stdout",
     "output_type": "stream",
     "text": [
      "INFO:tensorflow:Assets written to: ../models/baseline_checkpoint/20220722_053940_05_rnn_multioutput/assets\n"
     ]
    },
    {
     "name": "stderr",
     "output_type": "stream",
     "text": [
      "INFO:tensorflow:Assets written to: ../models/baseline_checkpoint/20220722_053940_05_rnn_multioutput/assets\n"
     ]
    },
    {
     "name": "stdout",
     "output_type": "stream",
     "text": [
      "WARNING:tensorflow:Early stopping conditioned on metric `accuracy` which is not available. Available metrics are: loss,out1_loss,out2_loss,out1_accuracy,out1_auc_1,out2_accuracy,out2_auc_1,val_loss,val_out1_loss,val_out2_loss,val_out1_accuracy,val_out1_auc_1,val_out2_accuracy,val_out2_auc_1\n"
     ]
    },
    {
     "name": "stderr",
     "output_type": "stream",
     "text": [
      "WARNING:tensorflow:Early stopping conditioned on metric `accuracy` which is not available. Available metrics are: loss,out1_loss,out2_loss,out1_accuracy,out1_auc_1,out2_accuracy,out2_auc_1,val_loss,val_out1_loss,val_out2_loss,val_out1_accuracy,val_out1_auc_1,val_out2_accuracy,val_out2_auc_1\n"
     ]
    },
    {
     "name": "stdout",
     "output_type": "stream",
     "text": [
      "287/287 [==============================] - 151s 525ms/step - loss: 3.8131 - out1_loss: 2.1803 - out2_loss: 1.6328 - out1_accuracy: 0.2758 - out1_auc_1: 0.8048 - out2_accuracy: 0.5811 - out2_auc_1: 0.9618 - val_loss: 3.9650 - val_out1_loss: 2.2202 - val_out2_loss: 1.7448 - val_out1_accuracy: 0.2805 - val_out1_auc_1: 0.7963 - val_out2_accuracy: 0.5752 - val_out2_auc_1: 0.9548\n",
      "Epoch 6/10\n",
      "287/287 [==============================] - ETA: 0s - loss: 3.6171 - out1_loss: 2.1435 - out2_loss: 1.4735 - out1_accuracy: 0.2829 - out1_auc_1: 0.8138 - out2_accuracy: 0.6141 - out2_auc_1: 0.9659"
     ]
    },
    {
     "name": "stderr",
     "output_type": "stream",
     "text": [
      "WARNING:absl:Found untraced functions such as lstm_cell_1_layer_call_fn, lstm_cell_1_layer_call_and_return_conditional_losses, lstm_cell_2_layer_call_fn, lstm_cell_2_layer_call_and_return_conditional_losses while saving (showing 4 of 4). These functions will not be directly callable after loading.\n"
     ]
    },
    {
     "name": "stdout",
     "output_type": "stream",
     "text": [
      "INFO:tensorflow:Assets written to: ../models/baseline_checkpoint/20220722_053940_06_rnn_multioutput/assets\n"
     ]
    },
    {
     "name": "stderr",
     "output_type": "stream",
     "text": [
      "INFO:tensorflow:Assets written to: ../models/baseline_checkpoint/20220722_053940_06_rnn_multioutput/assets\n"
     ]
    },
    {
     "name": "stdout",
     "output_type": "stream",
     "text": [
      "WARNING:tensorflow:Early stopping conditioned on metric `accuracy` which is not available. Available metrics are: loss,out1_loss,out2_loss,out1_accuracy,out1_auc_1,out2_accuracy,out2_auc_1,val_loss,val_out1_loss,val_out2_loss,val_out1_accuracy,val_out1_auc_1,val_out2_accuracy,val_out2_auc_1\n"
     ]
    },
    {
     "name": "stderr",
     "output_type": "stream",
     "text": [
      "WARNING:tensorflow:Early stopping conditioned on metric `accuracy` which is not available. Available metrics are: loss,out1_loss,out2_loss,out1_accuracy,out1_auc_1,out2_accuracy,out2_auc_1,val_loss,val_out1_loss,val_out2_loss,val_out1_accuracy,val_out1_auc_1,val_out2_accuracy,val_out2_auc_1\n"
     ]
    },
    {
     "name": "stdout",
     "output_type": "stream",
     "text": [
      "287/287 [==============================] - 150s 523ms/step - loss: 3.6171 - out1_loss: 2.1435 - out2_loss: 1.4735 - out1_accuracy: 0.2829 - out1_auc_1: 0.8138 - out2_accuracy: 0.6141 - out2_auc_1: 0.9659 - val_loss: 3.8540 - val_out1_loss: 2.1306 - val_out2_loss: 1.7234 - val_out1_accuracy: 0.2950 - val_out1_auc_1: 0.8158 - val_out2_accuracy: 0.5716 - val_out2_auc_1: 0.9529\n",
      "Epoch 7/10\n",
      "287/287 [==============================] - ETA: 0s - loss: 3.6569 - out1_loss: 2.2151 - out2_loss: 1.4418 - out1_accuracy: 0.2547 - out1_auc_1: 0.7953 - out2_accuracy: 0.6255 - out2_auc_1: 0.9689"
     ]
    },
    {
     "name": "stderr",
     "output_type": "stream",
     "text": [
      "WARNING:absl:Found untraced functions such as lstm_cell_1_layer_call_fn, lstm_cell_1_layer_call_and_return_conditional_losses, lstm_cell_2_layer_call_fn, lstm_cell_2_layer_call_and_return_conditional_losses while saving (showing 4 of 4). These functions will not be directly callable after loading.\n"
     ]
    },
    {
     "name": "stdout",
     "output_type": "stream",
     "text": [
      "INFO:tensorflow:Assets written to: ../models/baseline_checkpoint/20220722_053940_07_rnn_multioutput/assets\n"
     ]
    },
    {
     "name": "stderr",
     "output_type": "stream",
     "text": [
      "INFO:tensorflow:Assets written to: ../models/baseline_checkpoint/20220722_053940_07_rnn_multioutput/assets\n"
     ]
    },
    {
     "name": "stdout",
     "output_type": "stream",
     "text": [
      "WARNING:tensorflow:Early stopping conditioned on metric `accuracy` which is not available. Available metrics are: loss,out1_loss,out2_loss,out1_accuracy,out1_auc_1,out2_accuracy,out2_auc_1,val_loss,val_out1_loss,val_out2_loss,val_out1_accuracy,val_out1_auc_1,val_out2_accuracy,val_out2_auc_1\n"
     ]
    },
    {
     "name": "stderr",
     "output_type": "stream",
     "text": [
      "WARNING:tensorflow:Early stopping conditioned on metric `accuracy` which is not available. Available metrics are: loss,out1_loss,out2_loss,out1_accuracy,out1_auc_1,out2_accuracy,out2_auc_1,val_loss,val_out1_loss,val_out2_loss,val_out1_accuracy,val_out1_auc_1,val_out2_accuracy,val_out2_auc_1\n"
     ]
    },
    {
     "name": "stdout",
     "output_type": "stream",
     "text": [
      "287/287 [==============================] - 160s 556ms/step - loss: 3.6569 - out1_loss: 2.2151 - out2_loss: 1.4418 - out1_accuracy: 0.2547 - out1_auc_1: 0.7953 - out2_accuracy: 0.6255 - out2_auc_1: 0.9689 - val_loss: 3.8415 - val_out1_loss: 2.1966 - val_out2_loss: 1.6449 - val_out1_accuracy: 0.2609 - val_out1_auc_1: 0.8003 - val_out2_accuracy: 0.6037 - val_out2_auc_1: 0.9538\n",
      "Epoch 8/10\n",
      "287/287 [==============================] - ETA: 0s - loss: 3.5349 - out1_loss: 2.1615 - out2_loss: 1.3734 - out1_accuracy: 0.2729 - out1_auc_1: 0.8087 - out2_accuracy: 0.6384 - out2_auc_1: 0.9707"
     ]
    },
    {
     "name": "stderr",
     "output_type": "stream",
     "text": [
      "WARNING:absl:Found untraced functions such as lstm_cell_1_layer_call_fn, lstm_cell_1_layer_call_and_return_conditional_losses, lstm_cell_2_layer_call_fn, lstm_cell_2_layer_call_and_return_conditional_losses while saving (showing 4 of 4). These functions will not be directly callable after loading.\n"
     ]
    },
    {
     "name": "stdout",
     "output_type": "stream",
     "text": [
      "INFO:tensorflow:Assets written to: ../models/baseline_checkpoint/20220722_053940_08_rnn_multioutput/assets\n"
     ]
    },
    {
     "name": "stderr",
     "output_type": "stream",
     "text": [
      "INFO:tensorflow:Assets written to: ../models/baseline_checkpoint/20220722_053940_08_rnn_multioutput/assets\n"
     ]
    },
    {
     "name": "stdout",
     "output_type": "stream",
     "text": [
      "WARNING:tensorflow:Early stopping conditioned on metric `accuracy` which is not available. Available metrics are: loss,out1_loss,out2_loss,out1_accuracy,out1_auc_1,out2_accuracy,out2_auc_1,val_loss,val_out1_loss,val_out2_loss,val_out1_accuracy,val_out1_auc_1,val_out2_accuracy,val_out2_auc_1\n"
     ]
    },
    {
     "name": "stderr",
     "output_type": "stream",
     "text": [
      "WARNING:tensorflow:Early stopping conditioned on metric `accuracy` which is not available. Available metrics are: loss,out1_loss,out2_loss,out1_accuracy,out1_auc_1,out2_accuracy,out2_auc_1,val_loss,val_out1_loss,val_out2_loss,val_out1_accuracy,val_out1_auc_1,val_out2_accuracy,val_out2_auc_1\n"
     ]
    },
    {
     "name": "stdout",
     "output_type": "stream",
     "text": [
      "287/287 [==============================] - 162s 566ms/step - loss: 3.5349 - out1_loss: 2.1615 - out2_loss: 1.3734 - out1_accuracy: 0.2729 - out1_auc_1: 0.8087 - out2_accuracy: 0.6384 - out2_auc_1: 0.9707 - val_loss: 3.7891 - val_out1_loss: 2.1627 - val_out2_loss: 1.6264 - val_out1_accuracy: 0.2782 - val_out1_auc_1: 0.8070 - val_out2_accuracy: 0.5986 - val_out2_auc_1: 0.9590\n",
      "Epoch 9/10\n",
      "287/287 [==============================] - ETA: 0s - loss: 3.4386 - out1_loss: 2.1165 - out2_loss: 1.3220 - out1_accuracy: 0.2925 - out1_auc_1: 0.8186 - out2_accuracy: 0.6548 - out2_auc_1: 0.9729"
     ]
    },
    {
     "name": "stderr",
     "output_type": "stream",
     "text": [
      "WARNING:absl:Found untraced functions such as lstm_cell_1_layer_call_fn, lstm_cell_1_layer_call_and_return_conditional_losses, lstm_cell_2_layer_call_fn, lstm_cell_2_layer_call_and_return_conditional_losses while saving (showing 4 of 4). These functions will not be directly callable after loading.\n"
     ]
    },
    {
     "name": "stdout",
     "output_type": "stream",
     "text": [
      "INFO:tensorflow:Assets written to: ../models/baseline_checkpoint/20220722_053940_09_rnn_multioutput/assets\n"
     ]
    },
    {
     "name": "stderr",
     "output_type": "stream",
     "text": [
      "INFO:tensorflow:Assets written to: ../models/baseline_checkpoint/20220722_053940_09_rnn_multioutput/assets\n"
     ]
    },
    {
     "name": "stdout",
     "output_type": "stream",
     "text": [
      "WARNING:tensorflow:Early stopping conditioned on metric `accuracy` which is not available. Available metrics are: loss,out1_loss,out2_loss,out1_accuracy,out1_auc_1,out2_accuracy,out2_auc_1,val_loss,val_out1_loss,val_out2_loss,val_out1_accuracy,val_out1_auc_1,val_out2_accuracy,val_out2_auc_1\n"
     ]
    },
    {
     "name": "stderr",
     "output_type": "stream",
     "text": [
      "WARNING:tensorflow:Early stopping conditioned on metric `accuracy` which is not available. Available metrics are: loss,out1_loss,out2_loss,out1_accuracy,out1_auc_1,out2_accuracy,out2_auc_1,val_loss,val_out1_loss,val_out2_loss,val_out1_accuracy,val_out1_auc_1,val_out2_accuracy,val_out2_auc_1\n"
     ]
    },
    {
     "name": "stdout",
     "output_type": "stream",
     "text": [
      "287/287 [==============================] - 160s 559ms/step - loss: 3.4386 - out1_loss: 2.1165 - out2_loss: 1.3220 - out1_accuracy: 0.2925 - out1_auc_1: 0.8186 - out2_accuracy: 0.6548 - out2_auc_1: 0.9729 - val_loss: 3.8032 - val_out1_loss: 2.1340 - val_out2_loss: 1.6692 - val_out1_accuracy: 0.2823 - val_out1_auc_1: 0.8131 - val_out2_accuracy: 0.5925 - val_out2_auc_1: 0.9543\n",
      "Epoch 10/10\n",
      "287/287 [==============================] - ETA: 0s - loss: 3.4468 - out1_loss: 2.1193 - out2_loss: 1.3275 - out1_accuracy: 0.2867 - out1_auc_1: 0.8183 - out2_accuracy: 0.6447 - out2_auc_1: 0.9740"
     ]
    },
    {
     "name": "stderr",
     "output_type": "stream",
     "text": [
      "WARNING:absl:Found untraced functions such as lstm_cell_1_layer_call_fn, lstm_cell_1_layer_call_and_return_conditional_losses, lstm_cell_2_layer_call_fn, lstm_cell_2_layer_call_and_return_conditional_losses while saving (showing 4 of 4). These functions will not be directly callable after loading.\n"
     ]
    },
    {
     "name": "stdout",
     "output_type": "stream",
     "text": [
      "INFO:tensorflow:Assets written to: ../models/baseline_checkpoint/20220722_053940_10_rnn_multioutput/assets\n"
     ]
    },
    {
     "name": "stderr",
     "output_type": "stream",
     "text": [
      "INFO:tensorflow:Assets written to: ../models/baseline_checkpoint/20220722_053940_10_rnn_multioutput/assets\n"
     ]
    },
    {
     "name": "stdout",
     "output_type": "stream",
     "text": [
      "WARNING:tensorflow:Early stopping conditioned on metric `accuracy` which is not available. Available metrics are: loss,out1_loss,out2_loss,out1_accuracy,out1_auc_1,out2_accuracy,out2_auc_1,val_loss,val_out1_loss,val_out2_loss,val_out1_accuracy,val_out1_auc_1,val_out2_accuracy,val_out2_auc_1\n"
     ]
    },
    {
     "name": "stderr",
     "output_type": "stream",
     "text": [
      "WARNING:tensorflow:Early stopping conditioned on metric `accuracy` which is not available. Available metrics are: loss,out1_loss,out2_loss,out1_accuracy,out1_auc_1,out2_accuracy,out2_auc_1,val_loss,val_out1_loss,val_out2_loss,val_out1_accuracy,val_out1_auc_1,val_out2_accuracy,val_out2_auc_1\n"
     ]
    },
    {
     "name": "stdout",
     "output_type": "stream",
     "text": [
      "287/287 [==============================] - 166s 579ms/step - loss: 3.4468 - out1_loss: 2.1193 - out2_loss: 1.3275 - out1_accuracy: 0.2867 - out1_auc_1: 0.8183 - out2_accuracy: 0.6447 - out2_auc_1: 0.9740 - val_loss: 3.6860 - val_out1_loss: 2.1302 - val_out2_loss: 1.5559 - val_out1_accuracy: 0.2848 - val_out1_auc_1: 0.8147 - val_out2_accuracy: 0.6232 - val_out2_auc_1: 0.9568\n"
     ]
    }
   ],
   "source": [
    "from datetime import datetime\n",
    "\n",
    "ckpt_callback = tf.keras.callbacks.ModelCheckpoint(\n",
    "    f\"../models/baseline_checkpoint/{datetime.now().strftime('%Y%m%d_%H%M%S')}_{{epoch:02d}}_rnn_multioutput\", \n",
    "                                                    monitor='val_accuracy')\n",
    "early_callback = tf.keras.callbacks.EarlyStopping(monitor = 'accuracy', patience = 2)\n",
    "\n",
    "history = model_2conv_two_out.fit(multioutput_generator, epochs=10, \n",
    "                        validation_data= multioutput_test_generator, \n",
    "                        callbacks=[ckpt_callback, early_callback])"
   ]
  },
  {
   "cell_type": "code",
   "execution_count": 40,
   "metadata": {},
   "outputs": [
    {
     "name": "stderr",
     "output_type": "stream",
     "text": [
      "WARNING:absl:Found untraced functions such as lstm_cell_1_layer_call_fn, lstm_cell_1_layer_call_and_return_conditional_losses, lstm_cell_2_layer_call_fn, lstm_cell_2_layer_call_and_return_conditional_losses while saving (showing 4 of 4). These functions will not be directly callable after loading.\n"
     ]
    },
    {
     "name": "stdout",
     "output_type": "stream",
     "text": [
      "INFO:tensorflow:Assets written to: ../models/rnn/first/assets\n"
     ]
    },
    {
     "name": "stderr",
     "output_type": "stream",
     "text": [
      "INFO:tensorflow:Assets written to: ../models/rnn/first/assets\n"
     ]
    }
   ],
   "source": [
    "model_2conv_two_out.save('../models/rnn/first')"
   ]
  },
  {
   "cell_type": "code",
   "execution_count": 36,
   "metadata": {},
   "outputs": [],
   "source": [
    "%load_ext tensorboard"
   ]
  },
  {
   "cell_type": "code",
   "execution_count": 38,
   "metadata": {},
   "outputs": [
    {
     "name": "stdout",
     "output_type": "stream",
     "text": [
      "/bin/bash: /home/shiya/anaconda3/envs/music/lib/libtinfo.so.6: no version information available (required by /bin/bash)\n",
      "usage: tensorboard [-h] [--helpfull] {serve,dev} ...\n",
      "tensorboard: error: unrecognized arguments: -y\n"
     ]
    }
   ],
   "source": [
    "!tensorboard dev upload \\\n",
    "    -y \\\n",
    "  --logdir logs \\\n",
    "  --name \"Sample op-level graph\" \\\n",
    "  --one_shot"
   ]
  },
  {
   "cell_type": "code",
   "execution_count": null,
   "metadata": {},
   "outputs": [],
   "source": []
  }
 ],
 "metadata": {
  "kernelspec": {
   "display_name": "Python 3.8.13 ('music')",
   "language": "python",
   "name": "python3"
  },
  "language_info": {
   "codemirror_mode": {
    "name": "ipython",
    "version": 3
   },
   "file_extension": ".py",
   "mimetype": "text/x-python",
   "name": "python",
   "nbconvert_exporter": "python",
   "pygments_lexer": "ipython3",
   "version": "3.8.13"
  },
  "orig_nbformat": 4,
  "vscode": {
   "interpreter": {
    "hash": "23b427766ad73d2fbec9b6b0cc4cd2aa2b6b60fb4f0a30d1bcdb6b43fd215af9"
   }
  }
 },
 "nbformat": 4,
 "nbformat_minor": 2
}
