{
 "cells": [
  {
   "cell_type": "code",
   "execution_count": 2,
   "metadata": {},
   "outputs": [
    {
     "name": "stderr",
     "output_type": "stream",
     "text": [
      "2022-07-20 14:42:14.111991: I tensorflow/core/platform/cpu_feature_guard.cc:193] This TensorFlow binary is optimized with oneAPI Deep Neural Network Library (oneDNN) to use the following CPU instructions in performance-critical operations:  AVX2 FMA\n",
      "To enable them in other operations, rebuild TensorFlow with the appropriate compiler flags.\n",
      "2022-07-20 14:42:14.790289: E tensorflow/stream_executor/cuda/cuda_blas.cc:3005] Unable to register cuBLAS factory: Attempting to register factory for plugin cuBLAS when one has already been registered\n",
      "2022-07-20 14:42:17.987610: W tensorflow/stream_executor/platform/default/dso_loader.cc:64] Could not load dynamic library 'libnvinfer.so.7'; dlerror: libnvinfer.so.7: cannot open shared object file: No such file or directory; LD_LIBRARY_PATH: :/home/shiya/anaconda3/envs/music/lib/\n",
      "2022-07-20 14:42:17.991150: W tensorflow/stream_executor/platform/default/dso_loader.cc:64] Could not load dynamic library 'libnvinfer_plugin.so.7'; dlerror: libnvinfer_plugin.so.7: cannot open shared object file: No such file or directory; LD_LIBRARY_PATH: :/home/shiya/anaconda3/envs/music/lib/\n",
      "2022-07-20 14:42:17.991171: W tensorflow/compiler/tf2tensorrt/utils/py_utils.cc:38] TF-TRT Warning: Cannot dlopen some TensorRT libraries. If you would like to use Nvidia GPU with TensorRT, please make sure the missing libraries mentioned above are installed properly.\n"
     ]
    }
   ],
   "source": [
    "import glob\n",
    "import os\n",
    "import random\n",
    "from datetime import datetime\n",
    "\n",
    "import librosa\n",
    "import librosa.display\n",
    "import matplotlib.pyplot as plt\n",
    "import numpy as np\n",
    "import pandas as pd\n",
    "import scipy.stats\n",
    "import seaborn as sns\n",
    "import tensorflow as tf\n",
    "from sklearn.model_selection import train_test_split\n",
    "from tensorflow.keras import datasets, layers, models\n",
    "\n",
    "from spec_input_generator import gen, gen_eval\n",
    "# import spectrogram\n",
    "# from spectrogram import generate_spec\n",
    "# from spectrogram import truncate_spec\n",
    "# from spectrogram import mask_spec\n",
    "# from spectrogram import add_noise\n",
    "# from spectrogram import path_to_preprocessing\n",
    "from spectrogram_class import spectrogram\n"
   ]
  },
  {
   "cell_type": "code",
   "execution_count": 3,
   "metadata": {},
   "outputs": [],
   "source": [
    "meta_df = pd.read_csv('../data/OrchideaSOL_metadata.csv')"
   ]
  },
  {
   "cell_type": "code",
   "execution_count": 4,
   "metadata": {},
   "outputs": [
    {
     "data": {
      "text/html": [
       "<div>\n",
       "<style scoped>\n",
       "    .dataframe tbody tr th:only-of-type {\n",
       "        vertical-align: middle;\n",
       "    }\n",
       "\n",
       "    .dataframe tbody tr th {\n",
       "        vertical-align: top;\n",
       "    }\n",
       "\n",
       "    .dataframe thead th {\n",
       "        text-align: right;\n",
       "    }\n",
       "</style>\n",
       "<table border=\"1\" class=\"dataframe\">\n",
       "  <thead>\n",
       "    <tr style=\"text-align: right;\">\n",
       "      <th></th>\n",
       "      <th>Path</th>\n",
       "      <th>Family (abbr.)</th>\n",
       "      <th>Family (in full)</th>\n",
       "      <th>Instrument (abbr.)</th>\n",
       "      <th>Instrument (in full)</th>\n",
       "      <th>Technique (abbr.)</th>\n",
       "      <th>Technique (in full)</th>\n",
       "      <th>Pitch</th>\n",
       "      <th>Pitch ID (if applicable)</th>\n",
       "      <th>Dynamics</th>\n",
       "      <th>Dynamics ID (if applicable)</th>\n",
       "      <th>Instance ID</th>\n",
       "      <th>Mute (abbr.)</th>\n",
       "      <th>Mute (in full)</th>\n",
       "      <th>String ID (if applicable)</th>\n",
       "      <th>Needed digital retuning</th>\n",
       "      <th>Fold</th>\n",
       "    </tr>\n",
       "  </thead>\n",
       "  <tbody>\n",
       "    <tr>\n",
       "      <th>0</th>\n",
       "      <td>Brass/Bass_Tuba+sordina/ordinario/BTb+S-ord-A#...</td>\n",
       "      <td>Brass</td>\n",
       "      <td>Brass</td>\n",
       "      <td>BTb</td>\n",
       "      <td>Bass Tuba</td>\n",
       "      <td>ord</td>\n",
       "      <td>ordinario</td>\n",
       "      <td>A#0</td>\n",
       "      <td>22.0</td>\n",
       "      <td>f</td>\n",
       "      <td>3.0</td>\n",
       "      <td>0.0</td>\n",
       "      <td>S</td>\n",
       "      <td>Sordina</td>\n",
       "      <td>NaN</td>\n",
       "      <td>False</td>\n",
       "      <td>2</td>\n",
       "    </tr>\n",
       "    <tr>\n",
       "      <th>1</th>\n",
       "      <td>Brass/Bass_Tuba+sordina/ordinario/BTb+S-ord-A#...</td>\n",
       "      <td>Brass</td>\n",
       "      <td>Brass</td>\n",
       "      <td>BTb</td>\n",
       "      <td>Bass Tuba</td>\n",
       "      <td>ord</td>\n",
       "      <td>ordinario</td>\n",
       "      <td>A#0</td>\n",
       "      <td>22.0</td>\n",
       "      <td>p</td>\n",
       "      <td>1.0</td>\n",
       "      <td>0.0</td>\n",
       "      <td>S</td>\n",
       "      <td>Sordina</td>\n",
       "      <td>NaN</td>\n",
       "      <td>True</td>\n",
       "      <td>0</td>\n",
       "    </tr>\n",
       "  </tbody>\n",
       "</table>\n",
       "</div>"
      ],
      "text/plain": [
       "                                                Path Family (abbr.)  \\\n",
       "0  Brass/Bass_Tuba+sordina/ordinario/BTb+S-ord-A#...          Brass   \n",
       "1  Brass/Bass_Tuba+sordina/ordinario/BTb+S-ord-A#...          Brass   \n",
       "\n",
       "  Family (in full) Instrument (abbr.) Instrument (in full) Technique (abbr.)  \\\n",
       "0            Brass                BTb            Bass Tuba               ord   \n",
       "1            Brass                BTb            Bass Tuba               ord   \n",
       "\n",
       "  Technique (in full) Pitch  Pitch ID (if applicable) Dynamics  \\\n",
       "0           ordinario   A#0                      22.0        f   \n",
       "1           ordinario   A#0                      22.0        p   \n",
       "\n",
       "   Dynamics ID (if applicable)  Instance ID Mute (abbr.) Mute (in full)  \\\n",
       "0                          3.0          0.0            S        Sordina   \n",
       "1                          1.0          0.0            S        Sordina   \n",
       "\n",
       "   String ID (if applicable)  Needed digital retuning  Fold  \n",
       "0                        NaN                    False     2  \n",
       "1                        NaN                     True     0  "
      ]
     },
     "execution_count": 4,
     "metadata": {},
     "output_type": "execute_result"
    }
   ],
   "source": [
    "meta_df.head(2)"
   ]
  },
  {
   "cell_type": "code",
   "execution_count": 5,
   "metadata": {},
   "outputs": [],
   "source": [
    "meta_df_dummy = meta_df[['Path', 'Instrument (in full)']]\n",
    "meta_df_dummy['_ins'] = meta_df_dummy['Instrument (in full)']\n",
    "meta_df_dummy = pd.get_dummies(meta_df_dummy, columns=['Instrument (in full)'])"
   ]
  },
  {
   "cell_type": "code",
   "execution_count": 6,
   "metadata": {},
   "outputs": [
    {
     "data": {
      "text/html": [
       "<div>\n",
       "<style scoped>\n",
       "    .dataframe tbody tr th:only-of-type {\n",
       "        vertical-align: middle;\n",
       "    }\n",
       "\n",
       "    .dataframe tbody tr th {\n",
       "        vertical-align: top;\n",
       "    }\n",
       "\n",
       "    .dataframe thead th {\n",
       "        text-align: right;\n",
       "    }\n",
       "</style>\n",
       "<table border=\"1\" class=\"dataframe\">\n",
       "  <thead>\n",
       "    <tr style=\"text-align: right;\">\n",
       "      <th></th>\n",
       "      <th>Path</th>\n",
       "      <th>_ins</th>\n",
       "      <th>Instrument (in full)_Accordion</th>\n",
       "      <th>Instrument (in full)_Alto Saxophone</th>\n",
       "      <th>Instrument (in full)_Bass Tuba</th>\n",
       "      <th>Instrument (in full)_Bassoon</th>\n",
       "      <th>Instrument (in full)_Cello</th>\n",
       "      <th>Instrument (in full)_Clarinet in Bb</th>\n",
       "      <th>Instrument (in full)_Contrabass</th>\n",
       "      <th>Instrument (in full)_Flute</th>\n",
       "      <th>Instrument (in full)_French Horn</th>\n",
       "      <th>Instrument (in full)_Guitar</th>\n",
       "      <th>Instrument (in full)_Harp</th>\n",
       "      <th>Instrument (in full)_Oboe</th>\n",
       "      <th>Instrument (in full)_Trombone</th>\n",
       "      <th>Instrument (in full)_Trumpet in C</th>\n",
       "      <th>Instrument (in full)_Viola</th>\n",
       "      <th>Instrument (in full)_Violin</th>\n",
       "    </tr>\n",
       "  </thead>\n",
       "  <tbody>\n",
       "    <tr>\n",
       "      <th>0</th>\n",
       "      <td>Brass/Bass_Tuba+sordina/ordinario/BTb+S-ord-A#...</td>\n",
       "      <td>Bass Tuba</td>\n",
       "      <td>0</td>\n",
       "      <td>0</td>\n",
       "      <td>1</td>\n",
       "      <td>0</td>\n",
       "      <td>0</td>\n",
       "      <td>0</td>\n",
       "      <td>0</td>\n",
       "      <td>0</td>\n",
       "      <td>0</td>\n",
       "      <td>0</td>\n",
       "      <td>0</td>\n",
       "      <td>0</td>\n",
       "      <td>0</td>\n",
       "      <td>0</td>\n",
       "      <td>0</td>\n",
       "      <td>0</td>\n",
       "    </tr>\n",
       "    <tr>\n",
       "      <th>1</th>\n",
       "      <td>Brass/Bass_Tuba+sordina/ordinario/BTb+S-ord-A#...</td>\n",
       "      <td>Bass Tuba</td>\n",
       "      <td>0</td>\n",
       "      <td>0</td>\n",
       "      <td>1</td>\n",
       "      <td>0</td>\n",
       "      <td>0</td>\n",
       "      <td>0</td>\n",
       "      <td>0</td>\n",
       "      <td>0</td>\n",
       "      <td>0</td>\n",
       "      <td>0</td>\n",
       "      <td>0</td>\n",
       "      <td>0</td>\n",
       "      <td>0</td>\n",
       "      <td>0</td>\n",
       "      <td>0</td>\n",
       "      <td>0</td>\n",
       "    </tr>\n",
       "  </tbody>\n",
       "</table>\n",
       "</div>"
      ],
      "text/plain": [
       "                                                Path       _ins  \\\n",
       "0  Brass/Bass_Tuba+sordina/ordinario/BTb+S-ord-A#...  Bass Tuba   \n",
       "1  Brass/Bass_Tuba+sordina/ordinario/BTb+S-ord-A#...  Bass Tuba   \n",
       "\n",
       "   Instrument (in full)_Accordion  Instrument (in full)_Alto Saxophone  \\\n",
       "0                               0                                    0   \n",
       "1                               0                                    0   \n",
       "\n",
       "   Instrument (in full)_Bass Tuba  Instrument (in full)_Bassoon  \\\n",
       "0                               1                             0   \n",
       "1                               1                             0   \n",
       "\n",
       "   Instrument (in full)_Cello  Instrument (in full)_Clarinet in Bb  \\\n",
       "0                           0                                    0   \n",
       "1                           0                                    0   \n",
       "\n",
       "   Instrument (in full)_Contrabass  Instrument (in full)_Flute  \\\n",
       "0                                0                           0   \n",
       "1                                0                           0   \n",
       "\n",
       "   Instrument (in full)_French Horn  Instrument (in full)_Guitar  \\\n",
       "0                                 0                            0   \n",
       "1                                 0                            0   \n",
       "\n",
       "   Instrument (in full)_Harp  Instrument (in full)_Oboe  \\\n",
       "0                          0                          0   \n",
       "1                          0                          0   \n",
       "\n",
       "   Instrument (in full)_Trombone  Instrument (in full)_Trumpet in C  \\\n",
       "0                              0                                  0   \n",
       "1                              0                                  0   \n",
       "\n",
       "   Instrument (in full)_Viola  Instrument (in full)_Violin  \n",
       "0                           0                            0  \n",
       "1                           0                            0  "
      ]
     },
     "execution_count": 6,
     "metadata": {},
     "output_type": "execute_result"
    }
   ],
   "source": [
    "meta_df_dummy.head(2)"
   ]
  },
  {
   "cell_type": "code",
   "execution_count": 7,
   "metadata": {},
   "outputs": [],
   "source": [
    "train_df, test_df = train_test_split(meta_df_dummy, stratify=meta_df['Instrument (in full)'], \n",
    "                                        train_size=0.8)"
   ]
  },
  {
   "cell_type": "code",
   "execution_count": 8,
   "metadata": {},
   "outputs": [
    {
     "data": {
      "text/html": [
       "<div>\n",
       "<style scoped>\n",
       "    .dataframe tbody tr th:only-of-type {\n",
       "        vertical-align: middle;\n",
       "    }\n",
       "\n",
       "    .dataframe tbody tr th {\n",
       "        vertical-align: top;\n",
       "    }\n",
       "\n",
       "    .dataframe thead th {\n",
       "        text-align: right;\n",
       "    }\n",
       "</style>\n",
       "<table border=\"1\" class=\"dataframe\">\n",
       "  <thead>\n",
       "    <tr style=\"text-align: right;\">\n",
       "      <th></th>\n",
       "      <th>Path</th>\n",
       "      <th>_ins</th>\n",
       "      <th>Instrument (in full)_Accordion</th>\n",
       "      <th>Instrument (in full)_Alto Saxophone</th>\n",
       "      <th>Instrument (in full)_Bass Tuba</th>\n",
       "      <th>Instrument (in full)_Bassoon</th>\n",
       "      <th>Instrument (in full)_Cello</th>\n",
       "      <th>Instrument (in full)_Clarinet in Bb</th>\n",
       "      <th>Instrument (in full)_Contrabass</th>\n",
       "      <th>Instrument (in full)_Flute</th>\n",
       "      <th>Instrument (in full)_French Horn</th>\n",
       "      <th>Instrument (in full)_Guitar</th>\n",
       "      <th>Instrument (in full)_Harp</th>\n",
       "      <th>Instrument (in full)_Oboe</th>\n",
       "      <th>Instrument (in full)_Trombone</th>\n",
       "      <th>Instrument (in full)_Trumpet in C</th>\n",
       "      <th>Instrument (in full)_Viola</th>\n",
       "      <th>Instrument (in full)_Violin</th>\n",
       "    </tr>\n",
       "  </thead>\n",
       "  <tbody>\n",
       "    <tr>\n",
       "      <th>4330</th>\n",
       "      <td>Strings/Contrabass/artificial_harmonic/Cb-art_...</td>\n",
       "      <td>Contrabass</td>\n",
       "      <td>0</td>\n",
       "      <td>0</td>\n",
       "      <td>0</td>\n",
       "      <td>0</td>\n",
       "      <td>0</td>\n",
       "      <td>0</td>\n",
       "      <td>1</td>\n",
       "      <td>0</td>\n",
       "      <td>0</td>\n",
       "      <td>0</td>\n",
       "      <td>0</td>\n",
       "      <td>0</td>\n",
       "      <td>0</td>\n",
       "      <td>0</td>\n",
       "      <td>0</td>\n",
       "      <td>0</td>\n",
       "    </tr>\n",
       "    <tr>\n",
       "      <th>6148</th>\n",
       "      <td>Strings/Viola/col_legno_battuto/Va-legno_batt-...</td>\n",
       "      <td>Viola</td>\n",
       "      <td>0</td>\n",
       "      <td>0</td>\n",
       "      <td>0</td>\n",
       "      <td>0</td>\n",
       "      <td>0</td>\n",
       "      <td>0</td>\n",
       "      <td>0</td>\n",
       "      <td>0</td>\n",
       "      <td>0</td>\n",
       "      <td>0</td>\n",
       "      <td>0</td>\n",
       "      <td>0</td>\n",
       "      <td>0</td>\n",
       "      <td>0</td>\n",
       "      <td>1</td>\n",
       "      <td>0</td>\n",
       "    </tr>\n",
       "  </tbody>\n",
       "</table>\n",
       "</div>"
      ],
      "text/plain": [
       "                                                   Path        _ins  \\\n",
       "4330  Strings/Contrabass/artificial_harmonic/Cb-art_...  Contrabass   \n",
       "6148  Strings/Viola/col_legno_battuto/Va-legno_batt-...       Viola   \n",
       "\n",
       "      Instrument (in full)_Accordion  Instrument (in full)_Alto Saxophone  \\\n",
       "4330                               0                                    0   \n",
       "6148                               0                                    0   \n",
       "\n",
       "      Instrument (in full)_Bass Tuba  Instrument (in full)_Bassoon  \\\n",
       "4330                               0                             0   \n",
       "6148                               0                             0   \n",
       "\n",
       "      Instrument (in full)_Cello  Instrument (in full)_Clarinet in Bb  \\\n",
       "4330                           0                                    0   \n",
       "6148                           0                                    0   \n",
       "\n",
       "      Instrument (in full)_Contrabass  Instrument (in full)_Flute  \\\n",
       "4330                                1                           0   \n",
       "6148                                0                           0   \n",
       "\n",
       "      Instrument (in full)_French Horn  Instrument (in full)_Guitar  \\\n",
       "4330                                 0                            0   \n",
       "6148                                 0                            0   \n",
       "\n",
       "      Instrument (in full)_Harp  Instrument (in full)_Oboe  \\\n",
       "4330                          0                          0   \n",
       "6148                          0                          0   \n",
       "\n",
       "      Instrument (in full)_Trombone  Instrument (in full)_Trumpet in C  \\\n",
       "4330                              0                                  0   \n",
       "6148                              0                                  0   \n",
       "\n",
       "      Instrument (in full)_Viola  Instrument (in full)_Violin  \n",
       "4330                           0                            0  \n",
       "6148                           1                            0  "
      ]
     },
     "execution_count": 8,
     "metadata": {},
     "output_type": "execute_result"
    }
   ],
   "source": [
    "train_df.head(2)"
   ]
  },
  {
   "cell_type": "code",
   "execution_count": 9,
   "metadata": {},
   "outputs": [
    {
     "data": {
      "text/plain": [
       "['Instrument (in full)_Accordion',\n",
       " 'Instrument (in full)_Alto Saxophone',\n",
       " 'Instrument (in full)_Bass Tuba',\n",
       " 'Instrument (in full)_Bassoon',\n",
       " 'Instrument (in full)_Cello',\n",
       " 'Instrument (in full)_Clarinet in Bb',\n",
       " 'Instrument (in full)_Contrabass',\n",
       " 'Instrument (in full)_Flute',\n",
       " 'Instrument (in full)_French Horn',\n",
       " 'Instrument (in full)_Guitar',\n",
       " 'Instrument (in full)_Harp',\n",
       " 'Instrument (in full)_Oboe',\n",
       " 'Instrument (in full)_Trombone',\n",
       " 'Instrument (in full)_Trumpet in C',\n",
       " 'Instrument (in full)_Viola',\n",
       " 'Instrument (in full)_Violin',\n",
       " '_ins']"
      ]
     },
     "execution_count": 9,
     "metadata": {},
     "output_type": "execute_result"
    }
   ],
   "source": [
    "list(sorted(set(test_df.sample(1).columns)- set(['Path'])))"
   ]
  },
  {
   "cell_type": "code",
   "execution_count": 10,
   "metadata": {},
   "outputs": [
    {
     "data": {
      "text/plain": [
       "['Instrument (in full)_Accordion',\n",
       " 'Instrument (in full)_Alto Saxophone',\n",
       " 'Instrument (in full)_Bass Tuba',\n",
       " 'Instrument (in full)_Bassoon',\n",
       " 'Instrument (in full)_Cello',\n",
       " 'Instrument (in full)_Clarinet in Bb',\n",
       " 'Instrument (in full)_Contrabass',\n",
       " 'Instrument (in full)_Flute',\n",
       " 'Instrument (in full)_French Horn',\n",
       " 'Instrument (in full)_Guitar',\n",
       " 'Instrument (in full)_Harp',\n",
       " 'Instrument (in full)_Oboe',\n",
       " 'Instrument (in full)_Trombone',\n",
       " 'Instrument (in full)_Trumpet in C',\n",
       " 'Instrument (in full)_Viola',\n",
       " 'Instrument (in full)_Violin',\n",
       " '_ins']"
      ]
     },
     "execution_count": 10,
     "metadata": {},
     "output_type": "execute_result"
    }
   ],
   "source": [
    "list(sorted(set(test_df.columns)-set(['Path'])))"
   ]
  },
  {
   "cell_type": "code",
   "execution_count": 11,
   "metadata": {},
   "outputs": [
    {
     "data": {
      "text/plain": [
       "(<spectrogram_class.spectrogram at 0x7f47b802b4f0>,\n",
       " array([0, 0, 0, 0, 0, 0, 0, 1, 0, 0, 0, 0, 0, 0, 0, 0], dtype=uint8))"
      ]
     },
     "execution_count": 11,
     "metadata": {},
     "output_type": "execute_result"
    }
   ],
   "source": [
    "next(gen(train_df, return_class = True))"
   ]
  },
  {
   "cell_type": "code",
   "execution_count": 12,
   "metadata": {},
   "outputs": [
    {
     "data": {
      "text/plain": [
       "(array([[[0.],\n",
       "         [0.],\n",
       "         [0.],\n",
       "         ...,\n",
       "         [0.],\n",
       "         [0.],\n",
       "         [0.]],\n",
       " \n",
       "        [[0.],\n",
       "         [0.],\n",
       "         [0.],\n",
       "         ...,\n",
       "         [0.],\n",
       "         [0.],\n",
       "         [0.]],\n",
       " \n",
       "        [[0.],\n",
       "         [0.],\n",
       "         [0.],\n",
       "         ...,\n",
       "         [0.],\n",
       "         [0.],\n",
       "         [0.]],\n",
       " \n",
       "        ...,\n",
       " \n",
       "        [[0.],\n",
       "         [0.],\n",
       "         [0.],\n",
       "         ...,\n",
       "         [0.],\n",
       "         [0.],\n",
       "         [0.]],\n",
       " \n",
       "        [[0.],\n",
       "         [0.],\n",
       "         [0.],\n",
       "         ...,\n",
       "         [0.],\n",
       "         [0.],\n",
       "         [0.]],\n",
       " \n",
       "        [[0.],\n",
       "         [0.],\n",
       "         [0.],\n",
       "         ...,\n",
       "         [0.],\n",
       "         [0.],\n",
       "         [0.]]]),\n",
       " array([0, 0, 0, 0, 0, 0, 1, 0, 0, 0, 0, 0, 0, 0, 0, 0], dtype=uint8))"
      ]
     },
     "execution_count": 12,
     "metadata": {},
     "output_type": "execute_result"
    }
   ],
   "source": [
    "sample = next(gen(train_df))\n",
    "sample\n"
   ]
  },
  {
   "cell_type": "code",
   "execution_count": 13,
   "metadata": {},
   "outputs": [
    {
     "data": {
      "text/plain": [
       "(256, 500, 1)"
      ]
     },
     "execution_count": 13,
     "metadata": {},
     "output_type": "execute_result"
    }
   ],
   "source": [
    "spec_shape = sample[0].shape\n",
    "spec_shape"
   ]
  },
  {
   "cell_type": "code",
   "execution_count": 14,
   "metadata": {},
   "outputs": [
    {
     "data": {
      "text/plain": [
       "(256, 500, 1)"
      ]
     },
     "execution_count": 14,
     "metadata": {},
     "output_type": "execute_result"
    }
   ],
   "source": [
    "next(gen_eval(test_df))[0].shape"
   ]
  },
  {
   "cell_type": "code",
   "execution_count": 15,
   "metadata": {},
   "outputs": [],
   "source": [
    "tf.data.Dataset.from_generator(lambda: gen(train_df), output_types=(tf.complex64, tf.int64), \n",
    "                 output_shapes = ((spec_shape[0], spec_shape[1], 1), (16)))"
   ]
  },
  {
   "cell_type": "code",
   "execution_count": 15,
   "metadata": {},
   "outputs": [
    {
     "ename": "",
     "evalue": "",
     "output_type": "error",
     "traceback": [
      "\u001b[1;31mFailed to restart the Kernel. \n",
      "No debugger available, can not send 'disconnect'. \n",
      "View Jupyter <a href='command:jupyter.viewOutput'>log</a> for further details."
     ]
    }
   ],
   "source": [
    "train_generator = tf.data.Dataset.from_generator(lambda: gen(train_df), output_types=(tf.complex64, tf.int64), \n",
    "                 output_shapes = ((spec_shape[0], spec_shape[1], 1), (16)))"
   ]
  },
  {
   "cell_type": "code",
   "execution_count": 14,
   "metadata": {},
   "outputs": [],
   "source": [
    "\n",
    "BATCH_SIZE = 32 \n",
    "\n",
    "train_generator = (tf.data.Dataset.from_generator(lambda: gen(train_df), output_types=(tf.complex64, tf.int64), \n",
    "                 output_shapes = ((spec_shape[0], spec_shape[1], 1), (16)))).batch(BATCH_SIZE)\n"
   ]
  },
  {
   "cell_type": "code",
   "execution_count": null,
   "metadata": {},
   "outputs": [],
   "source": [
    "eval_generator = (tf.data.Dataset.from_generator(lambda: gen_eval(test_df), output_types=(tf.complex64, tf.int64), \n",
    "                 output_shapes = ((spec_shape[0], spec_shape[1], 1), (16)))).batch(BATCH_SIZE)\n"
   ]
  },
  {
   "cell_type": "code",
   "execution_count": null,
   "metadata": {},
   "outputs": [
    {
     "data": {
      "text/plain": [
       "<BatchDataset element_spec=(TensorSpec(shape=(None, 256, 500, 1), dtype=tf.complex64, name=None), TensorSpec(shape=(None, 16), dtype=tf.int64, name=None))>"
      ]
     },
     "execution_count": 14,
     "metadata": {},
     "output_type": "execute_result"
    }
   ],
   "source": [
    "train_generator"
   ]
  },
  {
   "cell_type": "code",
   "execution_count": null,
   "metadata": {},
   "outputs": [],
   "source": [
    "\n",
    "model_2conv = models.Sequential()\n",
    "model_2conv.add(layers.InputLayer((spec_shape[0], spec_shape[1], 1), dtype = tf.float64))\n",
    "model_2conv.add(layers.Conv2D(30, (150, 300), activation='relu'))\n",
    "# , input_shape = (spec_shape[0], spec_shape[1], 1)))\n",
    "model_2conv.add(layers.MaxPool2D((2, 3)))\n",
    "model_2conv.add(layers.Conv2D(20, (10, 5), activation = 'relu'))\n",
    "model_2conv.add(layers.Flatten())\n",
    "model_2conv.add(layers.Dropout(0.3))\n",
    "model_2conv.add(layers.Dense(16, activation = 'sigmoid'))\n",
    "model_2conv.build()"
   ]
  },
  {
   "cell_type": "code",
   "execution_count": null,
   "metadata": {},
   "outputs": [
    {
     "data": {
      "image/png": "[encoded data removed]",
      "text/plain": [
       "<IPython.core.display.Image object>"
      ]
     },
     "execution_count": 16,
     "metadata": {},
     "output_type": "execute_result"
    }
   ],
   "source": [
    "tf.keras.utils.plot_model(model_2conv, show_shapes = True, show_dtype= True)"
   ]
  },
  {
   "cell_type": "code",
   "execution_count": null,
   "metadata": {},
   "outputs": [],
   "source": [
    "\n",
    "model_2conv.compile(optimizer=tf.keras.optimizers.Adam(learning_rate=0.01),\n",
    "              loss=tf.keras.losses.BinaryCrossentropy(),\n",
    "              metrics=['accuracy'])"
   ]
  },
  {
   "cell_type": "code",
   "execution_count": null,
   "metadata": {},
   "outputs": [
    {
     "name": "stdout",
     "output_type": "stream",
     "text": [
      "Model: \"sequential\"\n",
      "_________________________________________________________________\n",
      " Layer (type)                Output Shape              Param #   \n",
      "=================================================================\n",
      " conv2d (Conv2D)             (None, 107, 201, 30)      1350030   \n",
      "                                                                 \n",
      " max_pooling2d (MaxPooling2D  (None, 53, 67, 30)       0         \n",
      " )                                                               \n",
      "                                                                 \n",
      " conv2d_1 (Conv2D)           (None, 44, 63, 20)        30020     \n",
      "                                                                 \n",
      " flatten (Flatten)           (None, 55440)             0         \n",
      "                                                                 \n",
      " dropout (Dropout)           (None, 55440)             0         \n",
      "                                                                 \n",
      " dense (Dense)               (None, 16)                887056    \n",
      "                                                                 \n",
      "=================================================================\n",
      "Total params: 2,267,106\n",
      "Trainable params: 2,267,106\n",
      "Non-trainable params: 0\n",
      "_________________________________________________________________\n"
     ]
    }
   ],
   "source": [
    "model_2conv.summary()"
   ]
  },
  {
   "cell_type": "code",
   "execution_count": null,
   "metadata": {},
   "outputs": [],
   "source": [
    "#  model_2conv = tf.keras.models.load_model('../models/baseline_checkpoint/20220719_135009_04_model_2conv')"
   ]
  },
  {
   "cell_type": "code",
   "execution_count": null,
   "metadata": {},
   "outputs": [
    {
     "data": {
      "text/plain": [
       "<keras.engine.sequential.Sequential at 0x7f33021a1910>"
      ]
     },
     "execution_count": 20,
     "metadata": {},
     "output_type": "execute_result"
    }
   ],
   "source": [
    "model_2conv"
   ]
  },
  {
   "cell_type": "code",
   "execution_count": null,
   "metadata": {},
   "outputs": [
    {
     "name": "stdout",
     "output_type": "stream",
     "text": [
      "Epoch 1/5\n"
     ]
    },
    {
     "name": "stderr",
     "output_type": "stream",
     "text": [
      "2022-07-20 13:03:20.765278: W tensorflow/core/framework/cpu_allocator_impl.cc:82] Allocation of 32768000 exceeds 10% of free system memory.\n"
     ]
    },
    {
     "name": "stdout",
     "output_type": "stream",
     "text": [
      "  1/331 [..............................] - ETA: 6:24:04 - loss: 0.7702 - accuracy: 0.0625"
     ]
    },
    {
     "name": "stderr",
     "output_type": "stream",
     "text": [
      "2022-07-20 13:04:29.847027: W tensorflow/core/framework/cpu_allocator_impl.cc:82] Allocation of 32768000 exceeds 10% of free system memory.\n"
     ]
    },
    {
     "name": "stdout",
     "output_type": "stream",
     "text": [
      "  2/331 [..............................] - ETA: 28:03 - loss: 40.2925 - accuracy: 0.0781 "
     ]
    },
    {
     "name": "stderr",
     "output_type": "stream",
     "text": [
      "2022-07-20 13:04:35.079703: W tensorflow/core/framework/cpu_allocator_impl.cc:82] Allocation of 32768000 exceeds 10% of free system memory.\n"
     ]
    },
    {
     "name": "stdout",
     "output_type": "stream",
     "text": [
      "  3/331 [..............................] - ETA: 27:56 - loss: 27.7699 - accuracy: 0.1042"
     ]
    },
    {
     "name": "stderr",
     "output_type": "stream",
     "text": [
      "2022-07-20 13:04:40.076269: W tensorflow/core/framework/cpu_allocator_impl.cc:82] Allocation of 32768000 exceeds 10% of free system memory.\n"
     ]
    },
    {
     "name": "stdout",
     "output_type": "stream",
     "text": [
      " 43/331 [==>...........................] - ETA: 24:03 - loss: 2.1640 - accuracy: 0.1272"
     ]
    }
   ],
   "source": [
    "ckpt_callback = tf.keras.callbacks.ModelCheckpoint(\n",
    "    f\"../models/baseline_checkpoint/{datetime.now().strftime('%Y%m%d_%H%M%S')}_{{epoch:02d}}_model_2conv\", \n",
    "                                                    monitor='val_accuracy')\n",
    "early_callback = tf.keras.callbacks.EarlyStopping(monitor = 'accuracy', patience = 2)\n",
    "\n",
    "\n",
    "history = model_2conv.fit(train_generator, epochs = 5, verbose=1, \n",
    "                    steps_per_epoch= int(train_df.shape[0]/BATCH_SIZE), \n",
    "                    validation_data = eval_generator,\n",
    "                    validation_steps = 10, validation_freq= 2, \n",
    "                    use_multiprocessing=True, workers = 3, callbacks=[ckpt_callback, early_callback])"
   ]
  },
  {
   "cell_type": "code",
   "execution_count": null,
   "metadata": {},
   "outputs": [],
   "source": []
  },
  {
   "cell_type": "code",
   "execution_count": null,
   "metadata": {},
   "outputs": [
    {
     "name": "stderr",
     "output_type": "stream",
     "text": [
      "WARNING:absl:Found untraced functions such as _jit_compiled_convolution_op, _jit_compiled_convolution_op while saving (showing 2 of 2). These functions will not be directly callable after loading.\n"
     ]
    },
    {
     "name": "stdout",
     "output_type": "stream",
     "text": [
      "INFO:tensorflow:Assets written to: ../models/2conv/fifth/assets\n"
     ]
    },
    {
     "name": "stderr",
     "output_type": "stream",
     "text": [
      "INFO:tensorflow:Assets written to: ../models/2conv/fifth/assets\n"
     ]
    }
   ],
   "source": [
    "# model_2conv.save('../models/2conv/fifth/')"
   ]
  },
  {
   "cell_type": "code",
   "execution_count": null,
   "metadata": {},
   "outputs": [
    {
     "data": {
      "text/plain": [
       "[0.48100000619888306, 0.6660000085830688, 0.746999979019165]"
      ]
     },
     "execution_count": 23,
     "metadata": {},
     "output_type": "execute_result"
    }
   ],
   "source": [
    "history.history['val_accuracy']"
   ]
  },
  {
   "cell_type": "code",
   "execution_count": null,
   "metadata": {},
   "outputs": [
    {
     "data": {
      "text/plain": [
       "dict_keys(['loss', 'accuracy', 'val_loss', 'val_accuracy'])"
      ]
     },
     "execution_count": 19,
     "metadata": {},
     "output_type": "execute_result"
    }
   ],
   "source": [
    "history.history.keys()"
   ]
  },
  {
   "cell_type": "code",
   "execution_count": null,
   "metadata": {},
   "outputs": [
    {
     "data": {
      "text/plain": [
       "[<matplotlib.lines.Line2D at 0x7fc726019f40>]"
      ]
     },
     "execution_count": 25,
     "metadata": {},
     "output_type": "execute_result"
    },
    {
     "data": {
      "image/png": "[encoded data removed]",
      "text/plain": [
       "<Figure size 432x288 with 1 Axes>"
      ]
     },
     "metadata": {
      "needs_background": "light"
     },
     "output_type": "display_data"
    }
   ],
   "source": [
    "plt.plot(history.history['accuracy'], label='train_accuracy')\n",
    "plt.plot([1, 3, 5], history.history['val_accuracy'], label='val_accuracy')"
   ]
  },
  {
   "cell_type": "code",
   "execution_count": null,
   "metadata": {},
   "outputs": [],
   "source": []
  }
 ],
 "metadata": {
  "kernelspec": {
   "display_name": "Python 3.8.13 ('music')",
   "language": "python",
   "name": "python3"
  },
  "language_info": {
   "codemirror_mode": {
    "name": "ipython",
    "version": 3
   },
   "file_extension": ".py",
   "mimetype": "text/x-python",
   "name": "python",
   "nbconvert_exporter": "python",
   "pygments_lexer": "ipython3",
   "version": "3.8.13"
  },
  "orig_nbformat": 4,
  "vscode": {
   "interpreter": {
    "hash": "23b427766ad73d2fbec9b6b0cc4cd2aa2b6b60fb4f0a30d1bcdb6b43fd215af9"
   }
  }
 },
 "nbformat": 4,
 "nbformat_minor": 2
}
